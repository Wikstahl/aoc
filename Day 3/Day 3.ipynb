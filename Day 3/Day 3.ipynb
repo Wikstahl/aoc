{
 "cells": [
  {
   "cell_type": "code",
   "execution_count": 111,
   "metadata": {},
   "outputs": [],
   "source": [
    "import numpy as np\n",
    "from copy import deepcopy"
   ]
  },
  {
   "cell_type": "code",
   "execution_count": 112,
   "metadata": {},
   "outputs": [],
   "source": [
    "data = open('data.txt').read().splitlines()"
   ]
  },
  {
   "cell_type": "markdown",
   "metadata": {},
   "source": [
    "## Part 1"
   ]
  },
  {
   "cell_type": "code",
   "execution_count": 2,
   "metadata": {},
   "outputs": [],
   "source": [
    "len_data = len(data)\n",
    "num_bits = len(data[0])"
   ]
  },
  {
   "cell_type": "code",
   "execution_count": 3,
   "metadata": {},
   "outputs": [],
   "source": [
    "gamma = ''\n",
    "epsilon = ''\n",
    "\n",
    "for bit in range(num_bits):\n",
    "    \n",
    "    num_zero = 0\n",
    "    num_one = 0\n",
    "    \n",
    "    for row in range(len_data):\n",
    "        num = data[row][bit]\n",
    "        if num == '0':\n",
    "            num_zero += 1\n",
    "        if num == '1':\n",
    "            num_one += 1\n",
    "            \n",
    "    if num_zero > num_one:\n",
    "        gamma += '0'\n",
    "        epsilon += '1'\n",
    "    if num_zero < num_one:\n",
    "        gamma += '1'\n",
    "        epsilon += '0'"
   ]
  },
  {
   "cell_type": "markdown",
   "metadata": {},
   "source": [
    "Answer"
   ]
  },
  {
   "cell_type": "code",
   "execution_count": 4,
   "metadata": {},
   "outputs": [
    {
     "data": {
      "text/plain": [
       "198"
      ]
     },
     "execution_count": 4,
     "metadata": {},
     "output_type": "execute_result"
    }
   ],
   "source": [
    "int(gamma, 2) * int(epsilon, 2)"
   ]
  },
  {
   "cell_type": "markdown",
   "metadata": {},
   "source": [
    "## Part 2"
   ]
  },
  {
   "cell_type": "code",
   "execution_count": 113,
   "metadata": {},
   "outputs": [],
   "source": [
    "bit_strings = []\n",
    "for string in data:\n",
    "    bit_strings.append([int(bit) for bit in string])\n",
    "bit_strings = np.array(bit_strings)"
   ]
  },
  {
   "cell_type": "markdown",
   "metadata": {},
   "source": [
    "`o_rating` is determined by most common value"
   ]
  },
  {
   "cell_type": "code",
   "execution_count": 114,
   "metadata": {},
   "outputs": [
    {
     "name": "stdout",
     "output_type": "stream",
     "text": [
      "011111101111\n"
     ]
    }
   ],
   "source": [
    "d = deepcopy(bit_strings)\n",
    "rows, cols = d.shape\n",
    "for col in range(cols):\n",
    "    if len(d) == 1:\n",
    "        break\n",
    "    num_ones = np.count_nonzero(d[:,col])\n",
    "    num_zeros = len(d[:,col]) - num_ones\n",
    "    \n",
    "    if num_zeros > num_ones:\n",
    "        args = np.argwhere(d[:,col]==1)\n",
    "        \n",
    "    if num_ones >= num_zeros:\n",
    "        args = np.argwhere(d[:,col]==0)\n",
    "    d = np.delete(d,args,0)\n",
    "o_rating = ''.join(list(map(str,d[0])))\n",
    "print(o_rating)"
   ]
  },
  {
   "cell_type": "markdown",
   "metadata": {},
   "source": [
    "`co2_rating` is determined by least common value"
   ]
  },
  {
   "cell_type": "code",
   "execution_count": 115,
   "metadata": {},
   "outputs": [
    {
     "name": "stdout",
     "output_type": "stream",
     "text": [
      "100000111000\n"
     ]
    }
   ],
   "source": [
    "d = deepcopy(bit_strings)\n",
    "rows, cols = d.shape\n",
    "for col in range(cols):\n",
    "    if len(d) == 1:\n",
    "        break\n",
    "    num_ones = np.count_nonzero(d[:,col])\n",
    "    num_zeros = len(d[:,col]) - num_ones\n",
    "    \n",
    "    if num_zeros > num_ones:\n",
    "        args = np.argwhere(d[:,col]==0)\n",
    "        \n",
    "    if num_ones >= num_zeros:\n",
    "        args = np.argwhere(d[:,col]>0)\n",
    "    d = np.delete(d,args,0)\n",
    "co2_rating = ''.join(list(map(str,d[0])))\n",
    "print(co2_rating)"
   ]
  },
  {
   "cell_type": "markdown",
   "metadata": {},
   "source": [
    "Answer"
   ]
  },
  {
   "cell_type": "code",
   "execution_count": 116,
   "metadata": {},
   "outputs": [
    {
     "data": {
      "text/plain": [
       "4273224"
      ]
     },
     "execution_count": 116,
     "metadata": {},
     "output_type": "execute_result"
    }
   ],
   "source": [
    "int(o_rating, 2) * int(co2_rating, 2)"
   ]
  }
 ],
 "metadata": {
  "kernelspec": {
   "display_name": "Python 3",
   "language": "python",
   "name": "python3"
  },
  "language_info": {
   "codemirror_mode": {
    "name": "ipython",
    "version": 3
   },
   "file_extension": ".py",
   "mimetype": "text/x-python",
   "name": "python",
   "nbconvert_exporter": "python",
   "pygments_lexer": "ipython3",
   "version": "3.7.7"
  }
 },
 "nbformat": 4,
 "nbformat_minor": 5
}
