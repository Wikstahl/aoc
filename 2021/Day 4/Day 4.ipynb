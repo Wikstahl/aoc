{
 "cells": [
  {
   "cell_type": "code",
   "execution_count": 1,
   "id": "691d6963",
   "metadata": {},
   "outputs": [],
   "source": [
    "from dataclasses import dataclass"
   ]
  },
  {
   "cell_type": "code",
   "execution_count": 2,
   "id": "0cfeee67",
   "metadata": {},
   "outputs": [],
   "source": [
    "data = open('data.txt').read().splitlines()"
   ]
  },
  {
   "cell_type": "code",
   "execution_count": 3,
   "id": "d8542adb",
   "metadata": {},
   "outputs": [],
   "source": [
    "@dataclass\n",
    "class Marker:\n",
    "    value: int\n",
    "    marked: bool"
   ]
  },
  {
   "cell_type": "code",
   "execution_count": 4,
   "id": "a52dfa0d",
   "metadata": {
    "scrolled": true
   },
   "outputs": [],
   "source": [
    "class Board:\n",
    "    def __init__(self, board):\n",
    "        self.grid = dict()\n",
    "        self.board = board\n",
    "        for r_idx, row in enumerate(board):\n",
    "            c_idx = 0\n",
    "            for idx in range(0, len(row), 3):\n",
    "                elem = int(row[idx:idx+3]) \n",
    "                self.grid[tuple((r_idx, c_idx))] = Marker(elem, False)\n",
    "                c_idx += 1\n",
    "                \n",
    "    def check_bingo(self):\n",
    "        for row in range(5):\n",
    "            row_res = []\n",
    "            col_res = []\n",
    "            for col in range(5):\n",
    "                row_res.append(self.grid[tuple((row, col))].marked)\n",
    "                col_res.append(self.grid[tuple((col, row))].marked)\n",
    "\n",
    "            if all(row_res) or all(col_res):\n",
    "                return True\n",
    "        return False\n",
    "    \n",
    "    def mark_number(self, number):\n",
    "        for r_idx in range(5):\n",
    "            for c_idx in range(5):\n",
    "                value = self.grid[tuple((r_idx, c_idx))].value\n",
    "                if value == number:\n",
    "                    self.grid[tuple((r_idx, c_idx))].marked = True\n",
    "    \n",
    "    def get_unmarked(self):\n",
    "        values = [elem.value for elem in self.grid.values() if elem.marked == False]\n",
    "        return sum(values)\n",
    "    \n",
    "    def __repr__(self):\n",
    "        return '\\n'.join(self.board)"
   ]
  },
  {
   "cell_type": "code",
   "execution_count": 5,
   "id": "7bdb2223",
   "metadata": {},
   "outputs": [],
   "source": [
    "numbers = list(map(int, data[0].split(',')))"
   ]
  },
  {
   "cell_type": "code",
   "execution_count": 6,
   "id": "d57a08d0",
   "metadata": {},
   "outputs": [],
   "source": [
    "boards = []\n",
    "num_boards = (len(data) - 1) // 6\n",
    "for board in range(num_boards):\n",
    "    boards.append(Board(data[2 + board * 6 :7 + board * 6]))"
   ]
  },
  {
   "cell_type": "code",
   "execution_count": 8,
   "id": "281907c6",
   "metadata": {},
   "outputs": [],
   "source": [
    "def yo_mama_1():\n",
    "    for number in numbers:\n",
    "        for board_idx, board in enumerate(boards):\n",
    "            board.mark_number(number)\n",
    "            if board.check_bingo():\n",
    "                return board_idx, number "
   ]
  },
  {
   "cell_type": "code",
   "execution_count": 9,
   "id": "3d06a225",
   "metadata": {},
   "outputs": [],
   "source": [
    "# 25410\n",
    "def part1():\n",
    "    board_idx, number = yo_mama_1()\n",
    "    return boards[board_idx].get_unmarked() * number"
   ]
  },
  {
   "cell_type": "code",
   "execution_count": 10,
   "id": "fd5fa355",
   "metadata": {},
   "outputs": [
    {
     "data": {
      "text/plain": [
       "16674"
      ]
     },
     "execution_count": 10,
     "metadata": {},
     "output_type": "execute_result"
    }
   ],
   "source": [
    "part1()"
   ]
  },
  {
   "cell_type": "code",
   "execution_count": 11,
   "id": "ffa328b2",
   "metadata": {},
   "outputs": [],
   "source": [
    "def yo_mama_2():\n",
    "    boards_done = [False for _ in range(len(boards))]\n",
    "    for number in numbers:\n",
    "        for board_idx, board in enumerate(boards):\n",
    "            board.mark_number(number)\n",
    "            if board.check_bingo():\n",
    "                boards_done[board_idx] = True\n",
    "                if all(boards_done):\n",
    "                    return board_idx, number"
   ]
  },
  {
   "cell_type": "code",
   "execution_count": 12,
   "id": "56116186",
   "metadata": {},
   "outputs": [],
   "source": [
    "def part2():\n",
    "    board_idx, number = yo_mama_2()\n",
    "    return boards[board_idx].get_unmarked() * number"
   ]
  },
  {
   "cell_type": "code",
   "execution_count": 13,
   "id": "8faa8f3f",
   "metadata": {},
   "outputs": [
    {
     "data": {
      "text/plain": [
       "7075"
      ]
     },
     "execution_count": 13,
     "metadata": {},
     "output_type": "execute_result"
    }
   ],
   "source": [
    "part2()"
   ]
  }
 ],
 "metadata": {
  "kernelspec": {
   "display_name": "Python 3 (ipykernel)",
   "language": "python",
   "name": "python3"
  },
  "language_info": {
   "codemirror_mode": {
    "name": "ipython",
    "version": 3
   },
   "file_extension": ".py",
   "mimetype": "text/x-python",
   "name": "python",
   "nbconvert_exporter": "python",
   "pygments_lexer": "ipython3",
   "version": "3.9.7"
  }
 },
 "nbformat": 4,
 "nbformat_minor": 5
}
