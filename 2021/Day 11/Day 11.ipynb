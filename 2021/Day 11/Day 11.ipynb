{
 "cells": [
  {
   "cell_type": "code",
   "execution_count": 1,
   "id": "79bfaebb",
   "metadata": {},
   "outputs": [],
   "source": [
    "import numpy as np\n",
    "from dataclasses import dataclass"
   ]
  },
  {
   "cell_type": "code",
   "execution_count": 7,
   "id": "ace85870",
   "metadata": {},
   "outputs": [],
   "source": [
    "a = [1,2,3]\n",
    "b = a[:]"
   ]
  },
  {
   "cell_type": "code",
   "execution_count": 11,
   "id": "21fdf282",
   "metadata": {},
   "outputs": [
    {
     "name": "stdout",
     "output_type": "stream",
     "text": [
      "[1, 2, 3, 4]\n"
     ]
    }
   ],
   "source": [
    "print(a)"
   ]
  },
  {
   "cell_type": "code",
   "execution_count": 9,
   "id": "40ba034c",
   "metadata": {},
   "outputs": [],
   "source": [
    "a.append(4)"
   ]
  },
  {
   "cell_type": "code",
   "execution_count": 10,
   "id": "00eae275",
   "metadata": {},
   "outputs": [
    {
     "name": "stdout",
     "output_type": "stream",
     "text": [
      "[1, 2, 3]\n"
     ]
    }
   ],
   "source": [
    "print(b)"
   ]
  },
  {
   "cell_type": "code",
   "execution_count": 2,
   "id": "85e27ab1",
   "metadata": {},
   "outputs": [],
   "source": [
    "data = open('data.txt').read().splitlines()"
   ]
  },
  {
   "cell_type": "code",
   "execution_count": 3,
   "id": "449e40d4",
   "metadata": {},
   "outputs": [],
   "source": [
    "# Split string into characters\n",
    "def split(_data):\n",
    "    _temp = []\n",
    "    for row in _data: \n",
    "        _temp.append([int(char) for char in row])\n",
    "    return _temp"
   ]
  },
  {
   "cell_type": "code",
   "execution_count": 4,
   "id": "43e74862",
   "metadata": {},
   "outputs": [],
   "source": [
    "class Dumbo:\n",
    "    def __init__(self,board):\n",
    "        # board must bee np array\n",
    "        self.board = board\n",
    "        self.flashes = 0\n",
    "        \n",
    "    def steps(self,num_steps):\n",
    "        for step in range(num_steps):\n",
    "            if np.all(self.board == 0):\n",
    "                break\n",
    "            \n",
    "            # update the energy by 1\n",
    "            self.increase_energy()\n",
    "            \n",
    "            # check if energy is greater than 9\n",
    "            # true/false board\n",
    "            self.tf_board = self.check_energy()\n",
    "            \n",
    "            # While we have numbers to flash\n",
    "            while self.tf_board.any():\n",
    "                \n",
    "                m,n = self.tf_board.shape # num_rows and num_cols\n",
    "                for row_idx in range(m):\n",
    "                    for col_idx in range(n):\n",
    "                        if self.tf_board[row_idx,col_idx] == True:\n",
    "                            self.flash()\n",
    "                            self.tf_board[row_idx,col_idx] = False\n",
    "                            self.update_adjacent(row_idx,col_idx)\n",
    "\n",
    "            # reset\n",
    "            self.reset()\n",
    "        return step\n",
    "    \n",
    "    def increase_energy(self) -> None:\n",
    "        # increase energy level of each octopus increases by 1\n",
    "        self.board += 1\n",
    "        \n",
    "    def check_energy(self):\n",
    "        # check if energy level is greater than 9\n",
    "        return self.board > 9\n",
    "    \n",
    "    def update_adjacent(self,row_idx,col_idx) -> None:\n",
    "        # update board based on idx\n",
    "        \n",
    "        # number of rows and cols in board\n",
    "        m, n = self.board.shape\n",
    "        \n",
    "        \"\"\"Update left right, up and down\"\"\"\n",
    "        if row_idx > 0:\n",
    "            self.board[row_idx-1,col_idx] += 1\n",
    "            if self.board[row_idx-1,col_idx] == 10:\n",
    "                self.tf_board[row_idx-1,col_idx] = True\n",
    "            \n",
    "        if row_idx+1 < m:\n",
    "            self.board[row_idx+1,col_idx] += 1\n",
    "            if self.board[row_idx+1,col_idx] == 10:\n",
    "                self.tf_board[row_idx+1,col_idx] = True\n",
    "                    \n",
    "        if col_idx > 0:\n",
    "            self.board[row_idx,col_idx-1] += 1\n",
    "            if self.board[row_idx,col_idx-1] == 10:\n",
    "                self.tf_board[row_idx,col_idx-1] = True\n",
    "                    \n",
    "        if col_idx+1 < n:\n",
    "            self.board[row_idx,col_idx+1] += 1\n",
    "            if self.board[row_idx,col_idx+1] == 10:\n",
    "                self.tf_board[row_idx,col_idx+1] = True\n",
    "                    \n",
    "        \"\"\"Update the diagonals\"\"\"\n",
    "        if row_idx > 0 and col_idx > 0:\n",
    "            self.board[row_idx-1,col_idx-1] += 1\n",
    "            if self.board[row_idx-1,col_idx-1] == 10:\n",
    "                self.tf_board[row_idx-1,col_idx-1] = True\n",
    "                    \n",
    "        if row_idx+1 < m and col_idx+1 < n:\n",
    "            self.board[row_idx+1,col_idx+1] += 1\n",
    "            if self.board[row_idx+1,col_idx+1] == 10:\n",
    "                self.tf_board[row_idx+1,col_idx+1] = True\n",
    "                    \n",
    "        if row_idx+1 < m and col_idx > 0:\n",
    "            self.board[row_idx+1,col_idx-1] += 1\n",
    "            if self.board[row_idx+1,col_idx-1] == 10:\n",
    "                self.tf_board[row_idx+1,col_idx-1] = True\n",
    "                    \n",
    "        if row_idx > 0 and col_idx+1 < n:\n",
    "            self.board[row_idx-1,col_idx+1] += 1\n",
    "            if self.board[row_idx-1,col_idx+1] == 10:\n",
    "                self.tf_board[row_idx-1,col_idx+1] = True\n",
    "        \n",
    "    def reset(self) -> None:\n",
    "        # octopus that flashed during this step has its energy level set to 0\n",
    "        self.board[self.board > 9] = 0\n",
    "        \n",
    "    def flash(self) -> None:\n",
    "        self.flashes += 1\n"
   ]
  },
  {
   "cell_type": "code",
   "execution_count": 7,
   "id": "c9b96621",
   "metadata": {},
   "outputs": [
    {
     "name": "stdout",
     "output_type": "stream",
     "text": [
      "4748\n",
      "314\n"
     ]
    }
   ],
   "source": [
    "octo = Dumbo(np.array(split(data)))\n",
    "part_two = octo.steps(500)\n",
    "part_one = octo.flashes\n",
    "print(part_one)\n",
    "print(part_two)"
   ]
  },
  {
   "cell_type": "code",
   "execution_count": null,
   "id": "50a3c103",
   "metadata": {},
   "outputs": [],
   "source": []
  }
 ],
 "metadata": {
  "kernelspec": {
   "display_name": "Python 3 (ipykernel)",
   "language": "python",
   "name": "python3"
  },
  "language_info": {
   "codemirror_mode": {
    "name": "ipython",
    "version": 3
   },
   "file_extension": ".py",
   "mimetype": "text/x-python",
   "name": "python",
   "nbconvert_exporter": "python",
   "pygments_lexer": "ipython3",
   "version": "3.9.7"
  }
 },
 "nbformat": 4,
 "nbformat_minor": 5
}
