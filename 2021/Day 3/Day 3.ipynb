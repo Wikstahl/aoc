{
 "cells": [
  {
   "cell_type": "code",
   "execution_count": 59,
   "id": "07f2ead2",
   "metadata": {},
   "outputs": [],
   "source": [
    "data = open('data.txt').read().splitlines()"
   ]
  },
  {
   "cell_type": "markdown",
   "id": "246bcded",
   "metadata": {},
   "source": [
    "## Part 1"
   ]
  },
  {
   "cell_type": "code",
   "execution_count": 41,
   "id": "d6bfa07d",
   "metadata": {},
   "outputs": [],
   "source": [
    "len_data = len(data)\n",
    "num_bits = len(data[0])"
   ]
  },
  {
   "cell_type": "code",
   "execution_count": 3,
   "id": "827234f5",
   "metadata": {},
   "outputs": [],
   "source": [
    "gamma = ''\n",
    "epsilon = ''\n",
    "\n",
    "for bit in range(num_bits):\n",
    "    \n",
    "    num_zero = 0\n",
    "    num_one = 0\n",
    "    \n",
    "    for row in range(len_data):\n",
    "        num = data[row][bit]\n",
    "        if num == '0':\n",
    "            num_zero += 1\n",
    "        if num == '1':\n",
    "            num_one += 1\n",
    "            \n",
    "    if num_zero > num_one:\n",
    "        gamma += '0'\n",
    "        epsilon += '1'\n",
    "    if num_zero < num_one:\n",
    "        gamma += '1'\n",
    "        epsilon += '0'"
   ]
  },
  {
   "cell_type": "markdown",
   "id": "2d6c0814",
   "metadata": {},
   "source": [
    "Answer"
   ]
  },
  {
   "cell_type": "code",
   "execution_count": 4,
   "id": "84c17027",
   "metadata": {},
   "outputs": [
    {
     "data": {
      "text/plain": [
       "198"
      ]
     },
     "execution_count": 4,
     "metadata": {},
     "output_type": "execute_result"
    }
   ],
   "source": [
    "int(gamma, 2) * int(epsilon, 2)"
   ]
  },
  {
   "cell_type": "markdown",
   "id": "44d1a38e",
   "metadata": {},
   "source": [
    "## Part 2"
   ]
  },
  {
   "cell_type": "code",
   "execution_count": 5,
   "id": "db4736ef",
   "metadata": {},
   "outputs": [],
   "source": [
    "o_rating = ''\n",
    "co2_rating = ''"
   ]
  },
  {
   "cell_type": "code",
   "execution_count": 60,
   "id": "b64c3c4d",
   "metadata": {},
   "outputs": [
    {
     "name": "stdout",
     "output_type": "stream",
     "text": [
      "row 0\n",
      "bit 0\n",
      "0\n",
      "row 1\n",
      "bit 0\n",
      "1\n",
      "row 2\n",
      "bit 0\n",
      "1\n",
      "row 3\n",
      "bit 0\n",
      "1\n",
      "row 4\n",
      "bit 0\n",
      "0\n",
      "row 5\n",
      "bit 0\n",
      "1\n",
      "row 6\n",
      "bit 0\n",
      "1\n",
      "row 7\n",
      "bit 0\n",
      "1\n",
      "row 8\n",
      "bit 0\n",
      "0\n",
      "row 9\n",
      "bit 0\n"
     ]
    },
    {
     "ename": "IndexError",
     "evalue": "list index out of range",
     "output_type": "error",
     "traceback": [
      "\u001b[0;31m---------------------------------------------------------------------------\u001b[0m",
      "\u001b[0;31mIndexError\u001b[0m                                Traceback (most recent call last)",
      "\u001b[0;32m/var/folders/b0/ymj78yz13kz0l30_vjntj2cc0000gn/T/ipykernel_13243/3063545994.py\u001b[0m in \u001b[0;36m<module>\u001b[0;34m\u001b[0m\n\u001b[1;32m     23\u001b[0m             \u001b[0mprint\u001b[0m\u001b[0;34m(\u001b[0m\u001b[0;34m'row'\u001b[0m\u001b[0;34m,\u001b[0m\u001b[0mrow\u001b[0m\u001b[0;34m)\u001b[0m\u001b[0;34m\u001b[0m\u001b[0;34m\u001b[0m\u001b[0m\n\u001b[1;32m     24\u001b[0m             \u001b[0mprint\u001b[0m\u001b[0;34m(\u001b[0m\u001b[0;34m'bit'\u001b[0m\u001b[0;34m,\u001b[0m\u001b[0mbit\u001b[0m\u001b[0;34m)\u001b[0m\u001b[0;34m\u001b[0m\u001b[0;34m\u001b[0m\u001b[0m\n\u001b[0;32m---> 25\u001b[0;31m             \u001b[0mprint\u001b[0m\u001b[0;34m(\u001b[0m\u001b[0m_d\u001b[0m\u001b[0;34m[\u001b[0m\u001b[0mrow\u001b[0m\u001b[0;34m]\u001b[0m\u001b[0;34m[\u001b[0m\u001b[0mbit\u001b[0m\u001b[0;34m]\u001b[0m\u001b[0;34m)\u001b[0m\u001b[0;34m\u001b[0m\u001b[0;34m\u001b[0m\u001b[0m\n\u001b[0m\u001b[1;32m     26\u001b[0m             \u001b[0mnum\u001b[0m \u001b[0;34m=\u001b[0m \u001b[0m_d\u001b[0m\u001b[0;34m[\u001b[0m\u001b[0mrow\u001b[0m\u001b[0;34m]\u001b[0m\u001b[0;34m[\u001b[0m\u001b[0mbit\u001b[0m\u001b[0;34m]\u001b[0m\u001b[0;34m\u001b[0m\u001b[0;34m\u001b[0m\u001b[0m\n\u001b[1;32m     27\u001b[0m \u001b[0;34m\u001b[0m\u001b[0m\n",
      "\u001b[0;31mIndexError\u001b[0m: list index out of range"
     ]
    }
   ],
   "source": [
    "_d = data\n",
    "\n",
    "for bit in range(num_bits):\n",
    "    num_zero = 0\n",
    "    num_one = 0\n",
    "    \n",
    "    # Find the dominant bit\n",
    "    for row in range(len(_d)):\n",
    "        num = _d[row][bit]\n",
    "        if num == '0':\n",
    "            num_zero += 1\n",
    "        if num == '1':\n",
    "            num_one += 1\n",
    "\n",
    "    if num_zero > num_one:\n",
    "        for row in range(len(_d)):\n",
    "            num = _d[row][bit]\n",
    "            if num == '1':\n",
    "                _d.pop(row)\n",
    "                \n",
    "    if num_one >= num_zero:\n",
    "        for row in range(len(_d)):\n",
    "            print('row',row)\n",
    "            print('bit',bit)\n",
    "            print(_d[row][bit])\n",
    "            num = _d[row][bit]\n",
    "\n",
    "            if num == '0':\n",
    "                _d.pop(row)\n",
    "        "
   ]
  }
 ],
 "metadata": {
  "kernelspec": {
   "display_name": "Python 3 (ipykernel)",
   "language": "python",
   "name": "python3"
  },
  "language_info": {
   "codemirror_mode": {
    "name": "ipython",
    "version": 3
   },
   "file_extension": ".py",
   "mimetype": "text/x-python",
   "name": "python",
   "nbconvert_exporter": "python",
   "pygments_lexer": "ipython3",
   "version": "3.9.7"
  }
 },
 "nbformat": 4,
 "nbformat_minor": 5
}
