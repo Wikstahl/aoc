{
 "cells": [
  {
   "cell_type": "code",
   "execution_count": 1,
   "id": "18ad7bb7",
   "metadata": {},
   "outputs": [],
   "source": [
    "import numpy as np"
   ]
  },
  {
   "cell_type": "code",
   "execution_count": 2,
   "id": "416c7c14",
   "metadata": {},
   "outputs": [],
   "source": [
    "data = open('data.txt').read().split(',')"
   ]
  },
  {
   "cell_type": "code",
   "execution_count": 3,
   "id": "73fdab2b",
   "metadata": {},
   "outputs": [],
   "source": [
    "data = np.array(list(map(int, data)))"
   ]
  },
  {
   "cell_type": "markdown",
   "id": "e09b08e4",
   "metadata": {},
   "source": [
    "## Part 1"
   ]
  },
  {
   "cell_type": "code",
   "execution_count": 5,
   "id": "5a497da4",
   "metadata": {},
   "outputs": [],
   "source": [
    "days = 80\n",
    "state = data\n",
    "for day in range(days):\n",
    "    idxes = np.where(state == 0)\n",
    "    if idxes[0].size != 0:\n",
    "        for idx in idxes[0]:\n",
    "            state[idx] = 7\n",
    "            state = np.append(state,9)\n",
    "    state = state - 1\n",
    "#state"
   ]
  },
  {
   "cell_type": "code",
   "execution_count": 6,
   "id": "1ebe47b9",
   "metadata": {},
   "outputs": [
    {
     "data": {
      "text/plain": [
       "372984"
      ]
     },
     "execution_count": 6,
     "metadata": {},
     "output_type": "execute_result"
    }
   ],
   "source": [
    "len(state)"
   ]
  }
 ],
 "metadata": {
  "kernelspec": {
   "display_name": "Python 3 (ipykernel)",
   "language": "python",
   "name": "python3"
  },
  "language_info": {
   "codemirror_mode": {
    "name": "ipython",
    "version": 3
   },
   "file_extension": ".py",
   "mimetype": "text/x-python",
   "name": "python",
   "nbconvert_exporter": "python",
   "pygments_lexer": "ipython3",
   "version": "3.9.7"
  }
 },
 "nbformat": 4,
 "nbformat_minor": 5
}
