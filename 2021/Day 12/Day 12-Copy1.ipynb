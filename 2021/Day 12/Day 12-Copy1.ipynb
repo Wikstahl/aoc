{
 "cells": [
  {
   "cell_type": "code",
   "execution_count": 1,
   "id": "77c7a9d5",
   "metadata": {},
   "outputs": [],
   "source": [
    "from collections import defaultdict"
   ]
  },
  {
   "cell_type": "code",
   "execution_count": 2,
   "id": "52c3da75",
   "metadata": {},
   "outputs": [],
   "source": [
    "data = open('data.txt').read().splitlines()\n",
    "data = [elem.split('-') for elem in data]"
   ]
  },
  {
   "cell_type": "code",
   "execution_count": 3,
   "id": "f28d2c47",
   "metadata": {},
   "outputs": [],
   "source": [
    "d = defaultdict(list)\n",
    "\n",
    "for a,b in data:\n",
    "    if a != \"end\" and b != \"start\":\n",
    "        d[a].append(b)\n",
    "    if b != \"end\" and a != \"start\":\n",
    "        d[b].append(a)"
   ]
  },
  {
   "cell_type": "code",
   "execution_count": 4,
   "id": "236f3d9f",
   "metadata": {},
   "outputs": [],
   "source": [
    "def fun(part2):\n",
    "    paths = [[\"start\"]]\n",
    "    num_paths = 0\n",
    "    for path in paths:\n",
    "        if path[-1] == \"end\":\n",
    "            num_paths += 1\n",
    "            continue\n",
    "        for node in d[path[-1]]:\n",
    "            if node.islower() and node in path:\n",
    "                if part2:\n",
    "                    counts = any([True if path.count(elem) > 1 else False for elem in set(path) if elem.islower()])\n",
    "                    if counts:\n",
    "                        continue\n",
    "                else:\n",
    "                    continue\n",
    "            paths.append(path+[node])\n",
    "    return num_paths"
   ]
  },
  {
   "cell_type": "code",
   "execution_count": 5,
   "id": "32c5b70c",
   "metadata": {},
   "outputs": [
    {
     "name": "stdout",
     "output_type": "stream",
     "text": [
      "5157\n"
     ]
    }
   ],
   "source": [
    "part1 = fun(False)\n",
    "assert part1 == 5157\n",
    "print(part1)"
   ]
  },
  {
   "cell_type": "code",
   "execution_count": 6,
   "id": "c5e1d096",
   "metadata": {},
   "outputs": [
    {
     "name": "stdout",
     "output_type": "stream",
     "text": [
      "144309\n"
     ]
    }
   ],
   "source": [
    "part2 = fun(True)\n",
    "assert part2 == 144309\n",
    "print(part2)"
   ]
  },
  {
   "cell_type": "code",
   "execution_count": null,
   "id": "c5421caa",
   "metadata": {},
   "outputs": [],
   "source": []
  }
 ],
 "metadata": {
  "kernelspec": {
   "display_name": "Python 3 (ipykernel)",
   "language": "python",
   "name": "python3"
  },
  "language_info": {
   "codemirror_mode": {
    "name": "ipython",
    "version": 3
   },
   "file_extension": ".py",
   "mimetype": "text/x-python",
   "name": "python",
   "nbconvert_exporter": "python",
   "pygments_lexer": "ipython3",
   "version": "3.9.7"
  }
 },
 "nbformat": 4,
 "nbformat_minor": 5
}
