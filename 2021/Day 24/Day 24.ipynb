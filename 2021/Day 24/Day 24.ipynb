{
 "cells": [
  {
   "cell_type": "code",
   "execution_count": null,
   "id": "93ee227e",
   "metadata": {},
   "outputs": [],
   "source": [
    "data = open(\"data.txt\").read().splitlines()\n",
    "model_number = '13579246899999'\n",
    "data = [x.split(' ') for x in data]"
   ]
  },
  {
   "cell_type": "code",
   "execution_count": null,
   "id": "1134f8fa",
   "metadata": {},
   "outputs": [],
   "source": [
    "class ALU(object):\n",
    "    def __init__(self, puzzle_input: list) -> None:\n",
    "        self.puzzle_input = puzzle_input\n",
    "    \n",
    "    def execute(self, model_number: str) -> bool:\n",
    "        \n",
    "        # initialize variables \n",
    "        var = {\"w\": 0, \"x\": 0, \"y\": 0, \"z\": 0}\n",
    "        idx = 0\n",
    "        for instruction in self.puzzle_input:\n",
    "            if instruction[0] == \"inp\":\n",
    "                a = instruction[1]\n",
    "                var[a] = int(model_number[idx])\n",
    "                idx += 1\n",
    "                \n",
    "            if instruction[0] == \"mul\":\n",
    "                a, b = instruction[1], instruction[2]\n",
    "                if b in var:\n",
    "                    value = var[a] * var[b]\n",
    "                else:\n",
    "                    value = var[a] * int(b)\n",
    "                var[a] = value\n",
    "            \n",
    "            if instruction[0] == \"add\":\n",
    "                a, b = instruction[1], instruction[2]\n",
    "                if b in var:\n",
    "                    value = var[a] + var[b]\n",
    "                else:\n",
    "                    value = var[a] + int(b)\n",
    "                var[a] = value\n",
    "                \n",
    "            if instruction[0] == \"div\":\n",
    "                a, b = instruction[1], instruction[2]\n",
    "                if b in var:\n",
    "                    if var[b] != 0:\n",
    "                        value = var[a] // var[b]\n",
    "                    else:\n",
    "                        continue\n",
    "                else:\n",
    "                    if int(b) != 0:\n",
    "                        value = var[a] // int(b)\n",
    "                    else:\n",
    "                        continue\n",
    "                var[a] = value\n",
    "            \n",
    "            if instruction[0] == \"mod\":\n",
    "                a, b = instruction[1], instruction[2]\n",
    "                if b in var:\n",
    "                    if var[a] >= 0 and var[b] > 0:\n",
    "                        value = var[a] % var[b]\n",
    "                    else:\n",
    "                        continue\n",
    "                else:\n",
    "                    if var[a] >= 0 and int(b) > 0:\n",
    "                        value = var[a] % int(b)\n",
    "                    else:\n",
    "                        continue\n",
    "                var[a] = value\n",
    "                \n",
    "        return (var[\"z\"] == 0)"
   ]
  },
  {
   "cell_type": "code",
   "execution_count": 62,
   "id": "6e066bea",
   "metadata": {},
   "outputs": [
    {
     "ename": "KeyboardInterrupt",
     "evalue": "",
     "output_type": "error",
     "traceback": [
      "\u001b[0;31m---------------------------------------------------------------------------\u001b[0m",
      "\u001b[0;31mKeyboardInterrupt\u001b[0m                         Traceback (most recent call last)",
      "\u001b[0;32m/var/folders/b0/ymj78yz13kz0l30_vjntj2cc0000gn/T/ipykernel_65332/2873204516.py\u001b[0m in \u001b[0;36m<module>\u001b[0;34m\u001b[0m\n\u001b[1;32m      5\u001b[0m \u001b[0mb\u001b[0m \u001b[0;34m=\u001b[0m \u001b[0;32mFalse\u001b[0m\u001b[0;34m\u001b[0m\u001b[0;34m\u001b[0m\u001b[0m\n\u001b[1;32m      6\u001b[0m \u001b[0;32mwhile\u001b[0m \u001b[0;32mnot\u001b[0m \u001b[0mb\u001b[0m\u001b[0;34m:\u001b[0m\u001b[0;34m\u001b[0m\u001b[0;34m\u001b[0m\u001b[0m\n\u001b[0;32m----> 7\u001b[0;31m     \u001b[0mmodel_number\u001b[0m \u001b[0;34m=\u001b[0m \u001b[0mstr\u001b[0m\u001b[0;34m(\u001b[0m\u001b[0mnum\u001b[0m \u001b[0;34m-\u001b[0m \u001b[0mi\u001b[0m\u001b[0;34m)\u001b[0m\u001b[0;34m\u001b[0m\u001b[0;34m\u001b[0m\u001b[0m\n\u001b[0m\u001b[1;32m      8\u001b[0m     \u001b[0;32mif\u001b[0m \u001b[0;34m\"0\"\u001b[0m \u001b[0;32min\u001b[0m \u001b[0mmodel_number\u001b[0m\u001b[0;34m:\u001b[0m\u001b[0;34m\u001b[0m\u001b[0;34m\u001b[0m\u001b[0m\n\u001b[1;32m      9\u001b[0m         \u001b[0mi\u001b[0m \u001b[0;34m-=\u001b[0m \u001b[0;36m1\u001b[0m\u001b[0;34m\u001b[0m\u001b[0;34m\u001b[0m\u001b[0m\n",
      "\u001b[0;31mKeyboardInterrupt\u001b[0m: "
     ]
    }
   ],
   "source": [
    "# highest number\n",
    "num = 99999999999999\n",
    "\n",
    "i = 0\n",
    "b = False\n",
    "while not b:\n",
    "    model_number = str(num - i)\n",
    "    if \"0\" in model_number:\n",
    "        i -= 1\n",
    "        continue\n",
    "    b = alu.execute(model_number)\n",
    "    i -= 1"
   ]
  }
 ],
 "metadata": {
  "kernelspec": {
   "display_name": "Python 3 (ipykernel)",
   "language": "python",
   "name": "python3"
  },
  "language_info": {
   "codemirror_mode": {
    "name": "ipython",
    "version": 3
   },
   "file_extension": ".py",
   "mimetype": "text/x-python",
   "name": "python",
   "nbconvert_exporter": "python",
   "pygments_lexer": "ipython3",
   "version": "3.9.7"
  }
 },
 "nbformat": 4,
 "nbformat_minor": 5
}
