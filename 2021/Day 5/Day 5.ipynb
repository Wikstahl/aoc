{
 "cells": [
  {
   "cell_type": "code",
   "execution_count": 1,
   "id": "20fe9827",
   "metadata": {},
   "outputs": [],
   "source": [
    "data = open('data.txt').read().splitlines()"
   ]
  },
  {
   "cell_type": "markdown",
   "id": "2d15b1d6",
   "metadata": {},
   "source": [
    "### Data formating"
   ]
  },
  {
   "cell_type": "code",
   "execution_count": 2,
   "id": "627609d5",
   "metadata": {},
   "outputs": [],
   "source": [
    "coords = []\n",
    "for line in data:\n",
    "    line_split = line.split(' -> ')\n",
    "    xy = []\n",
    "    for coord in line_split:\n",
    "        xy.append(tuple(map(int, coord.split(','))))\n",
    "    coords.append(xy)"
   ]
  },
  {
   "cell_type": "markdown",
   "id": "1adbe86e",
   "metadata": {},
   "source": [
    "look at the data"
   ]
  },
  {
   "cell_type": "markdown",
   "id": "36d5fb21",
   "metadata": {},
   "source": [
    "Consider only horizontal and vertical lines. Remove all points where $x_1$ and $x_2$ is not the same or $y_1$ and $y_2$ is not the same"
   ]
  },
  {
   "cell_type": "code",
   "execution_count": 4,
   "id": "b8afc526",
   "metadata": {},
   "outputs": [],
   "source": [
    "test_coords = []\n",
    "for coord in coords:\n",
    "    if coord[0][0] == coord[1][0] or coord[0][1] == coord[1][1]:\n",
    "        test_coords.append(coord)"
   ]
  },
  {
   "cell_type": "markdown",
   "id": "a341b119",
   "metadata": {},
   "source": [
    "look at the test coordinates"
   ]
  },
  {
   "cell_type": "code",
   "execution_count": 5,
   "id": "b767e1d2",
   "metadata": {},
   "outputs": [
    {
     "data": {
      "text/plain": [
       "[[(0, 9), (5, 9)],\n",
       " [(9, 4), (3, 4)],\n",
       " [(2, 2), (2, 1)],\n",
       " [(7, 0), (7, 4)],\n",
       " [(0, 9), (2, 9)],\n",
       " [(3, 4), (1, 4)]]"
      ]
     },
     "execution_count": 5,
     "metadata": {},
     "output_type": "execute_result"
    }
   ],
   "source": [
    "test_coords"
   ]
  },
  {
   "cell_type": "code",
   "execution_count": 6,
   "id": "bb08f046",
   "metadata": {},
   "outputs": [],
   "source": [
    "xmax = 0\n",
    "ymax = 0\n",
    "\n",
    "for coord in test_coords:\n",
    "    x1, y1 = coord[0]\n",
    "    x2, y2 = coord[1]\n",
    "    x = max([x1,x2])\n",
    "    y = max([y1,y2])\n",
    "    \n",
    "    if x > xmax:\n",
    "        xmax = x\n",
    "    if y > ymax:\n",
    "        ymax = y"
   ]
  },
  {
   "cell_type": "code",
   "execution_count": 7,
   "id": "5e482a14",
   "metadata": {},
   "outputs": [],
   "source": [
    "import numpy as np"
   ]
  },
  {
   "cell_type": "markdown",
   "id": "24f67087",
   "metadata": {},
   "source": [
    "create a diagram"
   ]
  },
  {
   "cell_type": "code",
   "execution_count": null,
   "id": "35eda5f9",
   "metadata": {},
   "outputs": [],
   "source": []
  },
  {
   "cell_type": "code",
   "execution_count": 29,
   "id": "25de5cd8",
   "metadata": {},
   "outputs": [],
   "source": [
    "diagram = np.zeros((10,10))\n",
    "\n",
    "for coord in coords:\n",
    "    x1, y1 = coord[0]\n",
    "    x2, y2 = coord[1]\n",
    "    \n",
    "    if x1 == x2 and y1 != y2:\n",
    "        if y1 > y2:\n",
    "            for y in range(y1,y2-1,-1):\n",
    "                diagram[y,x1] += 1\n",
    "        elif y1 < y2:\n",
    "            for y in range(y1,y2+1):\n",
    "                diagram[y,x1] += 1\n",
    "                \n",
    "    if x1 != x2 and y1 == y2:\n",
    "        if x1 > x2:\n",
    "            for x in range(x1,x2-1,-1):\n",
    "                diagram[y1,x] += 1\n",
    "        elif x1 < x2:\n",
    "            for x in range(x1,x2+1):\n",
    "                diagram[y1,x] += 1\n",
    "            \n",
    "    if x1 == x2 and y1 == y2:\n",
    "        diagram[y1,x1] += 1"
   ]
  },
  {
   "cell_type": "markdown",
   "id": "eb7d14b0",
   "metadata": {},
   "source": [
    "look at diagram"
   ]
  },
  {
   "cell_type": "code",
   "execution_count": 31,
   "id": "085eaf80",
   "metadata": {},
   "outputs": [
    {
     "data": {
      "text/plain": [
       "array([[0., 0., 0., 0., 0., 0., 0., 1., 0., 0.],\n",
       "       [0., 0., 1., 0., 0., 0., 0., 1., 0., 0.],\n",
       "       [0., 0., 1., 0., 0., 0., 0., 1., 0., 0.],\n",
       "       [0., 0., 0., 0., 0., 0., 0., 1., 0., 0.],\n",
       "       [0., 1., 1., 2., 1., 1., 1., 2., 1., 1.],\n",
       "       [0., 0., 0., 0., 0., 0., 0., 0., 0., 0.],\n",
       "       [0., 0., 0., 0., 0., 0., 0., 0., 0., 0.],\n",
       "       [0., 0., 0., 0., 0., 0., 0., 0., 0., 0.],\n",
       "       [0., 0., 0., 0., 0., 0., 0., 0., 0., 0.],\n",
       "       [2., 2., 2., 1., 1., 1., 0., 0., 0., 0.]])"
      ]
     },
     "execution_count": 31,
     "metadata": {},
     "output_type": "execute_result"
    }
   ],
   "source": [
    "diagram"
   ]
  },
  {
   "cell_type": "markdown",
   "id": "79ea50dc",
   "metadata": {},
   "source": [
    "determine the number of points where at least two lines overlap"
   ]
  },
  {
   "cell_type": "code",
   "execution_count": 17,
   "id": "6827ebcd",
   "metadata": {},
   "outputs": [],
   "source": [
    "num = 0\n",
    "for row in (diagram > 1):\n",
    "    for col in row:\n",
    "        if col == True:\n",
    "            num += 1"
   ]
  },
  {
   "cell_type": "code",
   "execution_count": 18,
   "id": "70b78220",
   "metadata": {},
   "outputs": [
    {
     "data": {
      "text/plain": [
       "5"
      ]
     },
     "execution_count": 18,
     "metadata": {},
     "output_type": "execute_result"
    }
   ],
   "source": [
    "num"
   ]
  },
  {
   "cell_type": "markdown",
   "id": "cbf7b250",
   "metadata": {},
   "source": [
    "# Part 2"
   ]
  },
  {
   "cell_type": "code",
   "execution_count": 61,
   "id": "1ab30816",
   "metadata": {},
   "outputs": [],
   "source": [
    "diagram = np.zeros((10,10))\n",
    "\n",
    "for coord in coords:\n",
    "    x1, y1 = coord[0]\n",
    "    x2, y2 = coord[1]\n",
    "    \n",
    "    if x1 == x2 and y1 != y2:\n",
    "        if y1 > y2:\n",
    "            for y in range(y1,y2-1,-1):\n",
    "                diagram[y,x1] += 1\n",
    "        elif y1 < y2:\n",
    "            for y in range(y1,y2+1):\n",
    "                diagram[y,x1] += 1\n",
    "                \n",
    "    if x1 != x2 and y1 == y2:\n",
    "        if x1 > x2:\n",
    "            for x in range(x1,x2-1,-1):\n",
    "                diagram[y1,x] += 1\n",
    "        elif x1 < x2:\n",
    "            for x in range(x1,x2+1):\n",
    "                diagram[y1,x] += 1\n",
    "            \n",
    "    if x1 == x2 and y1 == y2:\n",
    "        diagram[y1,x1] += 1\n",
    "        \n",
    "    # check diagonal\n",
    "    xlen = abs(x1-x2)\n",
    "    ylen = abs(y1-y2)\n",
    "    if xlen > 0 and ylen > 0:\n",
    "        angle = np.around(np.arctan(ylen/xlen)*180/np.pi)\n",
    "        if angle == 45.0:\n",
    "            xlist = [x1,x2]\n",
    "            ylist = [y1,y2]\n",
    "            xlist.sort()\n",
    "            ylist.sort()\n",
    "\n",
    "            _t = xlist[1] - xlist[0]\n",
    "            \n",
    "            for i in range(_t+1):\n",
    "                diagram[ylist[0] + i,xlist[0] + i] += 1"
   ]
  },
  {
   "cell_type": "code",
   "execution_count": 59,
   "id": "dae19477",
   "metadata": {},
   "outputs": [
    {
     "data": {
      "text/plain": [
       "array([[2., 0., 1., 0., 0., 0., 0., 1., 0., 0.],\n",
       "       [0., 2., 1., 1., 0., 0., 0., 1., 0., 0.],\n",
       "       [0., 0., 3., 0., 1., 1., 0., 1., 0., 0.],\n",
       "       [0., 0., 0., 2., 0., 1., 1., 1., 0., 0.],\n",
       "       [0., 1., 1., 2., 3., 1., 2., 3., 1., 1.],\n",
       "       [0., 0., 0., 0., 0., 2., 0., 0., 1., 0.],\n",
       "       [0., 0., 0., 0., 0., 0., 2., 0., 0., 0.],\n",
       "       [0., 0., 0., 0., 0., 0., 0., 2., 0., 0.],\n",
       "       [0., 0., 0., 0., 0., 0., 0., 0., 2., 0.],\n",
       "       [2., 2., 2., 1., 1., 1., 0., 0., 0., 0.]])"
      ]
     },
     "execution_count": 59,
     "metadata": {},
     "output_type": "execute_result"
    }
   ],
   "source": [
    "diagram"
   ]
  },
  {
   "cell_type": "code",
   "execution_count": 35,
   "id": "c73ffac9",
   "metadata": {},
   "outputs": [
    {
     "data": {
      "text/plain": [
       "[1, 2, 3]"
      ]
     },
     "execution_count": 35,
     "metadata": {},
     "output_type": "execute_result"
    }
   ],
   "source": [
    "a = [1,3,2]\n",
    "a.sort()\n",
    "a"
   ]
  },
  {
   "cell_type": "code",
   "execution_count": 27,
   "id": "91ec26e8",
   "metadata": {},
   "outputs": [
    {
     "data": {
      "text/plain": [
       "array([[0., 0., 0., 0., 0., 0., 0., 1., 0., 0.],\n",
       "       [0., 0., 1., 0., 0., 0., 0., 1., 0., 0.],\n",
       "       [0., 0., 1., 0., 0., 0., 0., 1., 0., 0.],\n",
       "       [0., 0., 0., 0., 0., 0., 0., 1., 0., 0.],\n",
       "       [0., 1., 1., 2., 1., 1., 1., 2., 1., 1.],\n",
       "       [0., 0., 0., 0., 0., 0., 0., 0., 0., 0.],\n",
       "       [0., 0., 0., 0., 0., 0., 0., 0., 0., 0.],\n",
       "       [0., 0., 0., 0., 0., 0., 0., 0., 0., 0.],\n",
       "       [0., 0., 0., 0., 0., 0., 0., 0., 0., 0.],\n",
       "       [2., 2., 2., 1., 1., 1., 0., 0., 0., 0.]])"
      ]
     },
     "execution_count": 27,
     "metadata": {},
     "output_type": "execute_result"
    }
   ],
   "source": [
    "diagram"
   ]
  }
 ],
 "metadata": {
  "kernelspec": {
   "display_name": "Python 3 (ipykernel)",
   "language": "python",
   "name": "python3"
  },
  "language_info": {
   "codemirror_mode": {
    "name": "ipython",
    "version": 3
   },
   "file_extension": ".py",
   "mimetype": "text/x-python",
   "name": "python",
   "nbconvert_exporter": "python",
   "pygments_lexer": "ipython3",
   "version": "3.9.7"
  }
 },
 "nbformat": 4,
 "nbformat_minor": 5
}
