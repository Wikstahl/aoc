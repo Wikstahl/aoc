{
 "cells": [
  {
   "cell_type": "markdown",
   "id": "45125661",
   "metadata": {},
   "source": [
    "## Part 1"
   ]
  },
  {
   "cell_type": "code",
   "execution_count": 22,
   "id": "a2855bbd",
   "metadata": {},
   "outputs": [
    {
     "name": "stdout",
     "output_type": "stream",
     "text": [
      "Elf 80 is carrying the most Calories (69836).\n"
     ]
    }
   ],
   "source": [
    "# Read the input\n",
    "with open('input.txt', 'r') as f:\n",
    "  calories = f.readlines()\n",
    "\n",
    "# Remove newline characters from the end of each line\n",
    "_calories = []\n",
    "for c in calories:\n",
    "    try:\n",
    "        _calories.append(int(c.strip()))\n",
    "    except ValueError:\n",
    "        _calories.append(0)\n",
    "\n",
    "calories = _calories\n",
    "\n",
    "# Group the Calories by Elf\n",
    "elf_calories = []\n",
    "current_elf = []\n",
    "for c in calories:\n",
    "  if c == 0:\n",
    "    # Start a new list for the next Elf\n",
    "    elf_calories.append(current_elf)\n",
    "    current_elf = []\n",
    "  else:\n",
    "    # Add the current Calories to the current Elf's list\n",
    "    current_elf.append(c)\n",
    "\n",
    "# Add the final list of Calories for the last Elf\n",
    "elf_calories.append(current_elf)\n",
    "\n",
    "# Find the Elf with the most Calories\n",
    "max_calories = 0\n",
    "max_elf = 0\n",
    "for i, c in enumerate(elf_calories):\n",
    "  # Calculate the total Calories for the current Elf\n",
    "  total_calories = sum(c)\n",
    "  if total_calories > max_calories:\n",
    "    max_calories = total_calories\n",
    "    max_elf = i\n",
    "\n",
    "# Print the result\n",
    "print(f\"Elf {max_elf + 1} is carrying the most Calories ({max_calories}).\")\n"
   ]
  },
  {
   "cell_type": "markdown",
   "id": "fcba2652",
   "metadata": {},
   "source": [
    "## Part 2"
   ]
  },
  {
   "cell_type": "code",
   "execution_count": 24,
   "id": "bf392529",
   "metadata": {},
   "outputs": [
    {
     "name": "stdout",
     "output_type": "stream",
     "text": [
      "The top three Elves are carrying a total of 207968 Calories.\n"
     ]
    }
   ],
   "source": [
    "# Read the input\n",
    "with open('input.txt', 'r') as f:\n",
    "  calories = f.readlines()\n",
    "\n",
    "# Remove newline characters from the end of each line\n",
    "_calories = []\n",
    "for c in calories:\n",
    "    try:\n",
    "        _calories.append(int(c.strip()))\n",
    "    except ValueError:\n",
    "        _calories.append(0)\n",
    "\n",
    "calories = _calories\n",
    "\n",
    "# Group the Calories by Elf\n",
    "elf_calories = []\n",
    "current_elf = []\n",
    "for c in calories:\n",
    "  if c == 0:\n",
    "    # Start a new list for the next Elf\n",
    "    elf_calories.append(current_elf)\n",
    "    current_elf = []\n",
    "  else:\n",
    "    # Add the current Calories to the current Elf's list\n",
    "    current_elf.append(c)\n",
    "\n",
    "# Add the final list of Calories for the last Elf\n",
    "elf_calories.append(current_elf)\n",
    "\n",
    "# Find the top three Elves with the most Calories\n",
    "top_three = sorted(elf_calories, key=lambda x: sum(x), reverse=True)[:3]\n",
    "\n",
    "# Calculate the total Calories carried by the top three Elves\n",
    "total_calories = sum(sum(c) for c in top_three)\n",
    "\n",
    "# Print the result\n",
    "print(f\"The top three Elves are carrying a total of {total_calories} Calories.\")"
   ]
  }
 ],
 "metadata": {
  "kernelspec": {
   "display_name": "Python 3.9.12 ('base')",
   "language": "python",
   "name": "python3"
  },
  "language_info": {
   "codemirror_mode": {
    "name": "ipython",
    "version": 3
   },
   "file_extension": ".py",
   "mimetype": "text/x-python",
   "name": "python",
   "nbconvert_exporter": "python",
   "pygments_lexer": "ipython3",
   "version": "3.9.12"
  },
  "vscode": {
   "interpreter": {
    "hash": "d5e255261e58531c14fdc57771a2f8979a00e44388ddce9557b1c088801c5091"
   }
  }
 },
 "nbformat": 4,
 "nbformat_minor": 5
}
