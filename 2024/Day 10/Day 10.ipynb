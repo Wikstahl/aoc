{
 "cells": [
  {
   "cell_type": "markdown",
   "metadata": {},
   "source": [
    "# [Day 10](https://adventofcode.com/2024/day/10)"
   ]
  },
  {
   "cell_type": "markdown",
   "metadata": {},
   "source": [
    "## Part 1"
   ]
  },
  {
   "cell_type": "code",
   "execution_count": 6,
   "metadata": {},
   "outputs": [
    {
     "name": "stdout",
     "output_type": "stream",
     "text": [
      "The sum of the scores of all trailheads is 682\n"
     ]
    }
   ],
   "source": [
    "from typing import List, Tuple\n",
    "from collections import deque\n",
    "\n",
    "# read data\n",
    "with open(\"data.txt\", \"r\") as f:\n",
    "    map_string = f.read().splitlines()\n",
    "\n",
    "def parse_map(map_string: List[str]) -> List[List[int]]:\n",
    "    return [list(map(int, line)) for line in map_string]\n",
    "\n",
    "def find_trailheads(grid: List[List[int]]) -> List[Tuple[int, int]]:\n",
    "    trailheads = []\n",
    "    for r in range(len(grid)):\n",
    "        for c in range(len(grid[0])):\n",
    "            if grid[r][c] == 0:\n",
    "                trailheads.append((r, c))\n",
    "    return trailheads\n",
    "\n",
    "def bfs(grid: List[List[int]], start: Tuple[int, int]) -> int:\n",
    "    rows, cols = len(grid), len(grid[0])\n",
    "    queue = deque([start])\n",
    "    visited = set()\n",
    "    reachable_nines = set()\n",
    "\n",
    "    while queue:\n",
    "        r, c = queue.popleft()\n",
    "\n",
    "        # Mark as visited\n",
    "        if (r, c) in visited:\n",
    "            continue\n",
    "        visited.add((r, c))\n",
    "\n",
    "        # Check if this is a \"9\"\n",
    "        if grid[r][c] == 9:\n",
    "            reachable_nines.add((r, c))\n",
    "        \n",
    "        # left, right, up, down\n",
    "        directions = [(-1, 0), (1, 0), (0, -1), (0, 1)]\n",
    "        # Explore neighbors\n",
    "        for dr, dc in directions:\n",
    "            nr, nc = r + dr, c + dc\n",
    "            if 0 <= nr < rows and 0 <= nc < cols:\n",
    "                if grid[nr][nc] == grid[r][c] + 1:  # Only move if height increases by 1\n",
    "                    queue.append((nr, nc))\n",
    "\n",
    "    return len(reachable_nines)\n",
    "\n",
    "def calculate_total_score(grid: List[list]) -> int:\n",
    "    trailheads = find_trailheads(grid)\n",
    "    total_score = 0\n",
    "    for trailhead in trailheads:\n",
    "        total_score += bfs(grid, trailhead)\n",
    "    return total_score\n",
    "\n",
    "grid = parse_map(map_string)\n",
    "total_score = calculate_total_score(grid)\n",
    "print(f\"The sum of the scores of all trailheads is {total_score}\")"
   ]
  },
  {
   "cell_type": "markdown",
   "metadata": {},
   "source": [
    "## Part 2"
   ]
  },
  {
   "cell_type": "code",
   "execution_count": 7,
   "metadata": {},
   "outputs": [
    {
     "name": "stdout",
     "output_type": "stream",
     "text": [
      "The sum of the scores of all trailheads is 1511\n"
     ]
    }
   ],
   "source": [
    "from typing import List, Tuple\n",
    "from collections import deque\n",
    "\n",
    "# read data\n",
    "with open(\"data.txt\", \"r\") as f:\n",
    "    map_string = f.read().splitlines()\n",
    "\n",
    "def parse_map(map_string: List[str]) -> List[List[int]]:\n",
    "    return [list(map(int, line)) for line in map_string]\n",
    "\n",
    "def find_trailheads(grid: List[List[int]]) -> List[Tuple[int, int]]:\n",
    "    trailheads = []\n",
    "    for r in range(len(grid)):\n",
    "        for c in range(len(grid[0])):\n",
    "            if grid[r][c] == 0:\n",
    "                trailheads.append((r, c))\n",
    "    return trailheads\n",
    "\n",
    "def dfs(grid: List[List[int]], start: Tuple[int, int]) -> int:\n",
    "    rows, cols = len(grid), len(grid[0])\n",
    "    stack = [(start, [])]  # Stack for DFS, stores (current position, current trail)\n",
    "    trails = set()\n",
    "\n",
    "    while stack:\n",
    "        (r, c), trail = stack.pop()\n",
    "\n",
    "        # Extend the trail\n",
    "        new_trail = trail + [(r, c)]\n",
    "\n",
    "        # If the trail reaches height 9, record it as a valid trail\n",
    "        if grid[r][c] == 9:\n",
    "            trails.add(tuple(new_trail))\n",
    "            continue\n",
    "\n",
    "        # left, right, up, down\n",
    "        directions = [(-1, 0), (1, 0), (0, -1), (0, 1)]\n",
    "        for dr, dc in directions:\n",
    "            nr, nc = r + dr, c + dc\n",
    "            # Check bounds and increasing height condition\n",
    "            if 0 <= nr < rows and 0 <= nc < cols and grid[nr][nc] == grid[r][c] + 1:\n",
    "                stack.append(((nr, nc), new_trail))\n",
    "\n",
    "    return len(trails)\n",
    "\n",
    "def calculate_ratings(grid: List[list]) -> int:\n",
    "    trailheads = find_trailheads(grid)\n",
    "    ratings = 0\n",
    "    for trailhead in trailheads:\n",
    "        ratings += dfs(grid, trailhead)\n",
    "    return ratings\n",
    "\n",
    "grid = parse_map(map_string)\n",
    "total_score = calculate_ratings(grid)\n",
    "print(f\"The sum of the scores of all trailheads is {total_score}\")"
   ]
  }
 ],
 "metadata": {
  "kernelspec": {
   "display_name": "base",
   "language": "python",
   "name": "python3"
  },
  "language_info": {
   "codemirror_mode": {
    "name": "ipython",
    "version": 3
   },
   "file_extension": ".py",
   "mimetype": "text/x-python",
   "name": "python",
   "nbconvert_exporter": "python",
   "pygments_lexer": "ipython3",
   "version": "3.11.7"
  }
 },
 "nbformat": 4,
 "nbformat_minor": 2
}
