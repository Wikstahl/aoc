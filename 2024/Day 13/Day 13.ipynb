{
 "cells": [
  {
   "cell_type": "markdown",
   "metadata": {},
   "source": [
    "# [Day 13](https://adventofcode.com/2024/day/13)"
   ]
  },
  {
   "cell_type": "markdown",
   "metadata": {},
   "source": [
    "## Part 1"
   ]
  },
  {
   "cell_type": "code",
   "execution_count": 1,
   "metadata": {},
   "outputs": [],
   "source": [
    "import re\n",
    "import cvxpy as cp\n",
    "from typing import List\n",
    "import numpy as np\n",
    "\n",
    "def load_game_data(puzzel_input: str) -> List[str]:\n",
    "    with open(puzzel_input, \"r\") as f:\n",
    "        return f.read().split('\\n\\n')\n",
    "\n",
    "def solve_integer_system(A:np.ndarray, b:np.ndarray, c:np.ndarray):\n",
    "    \"\"\"\n",
    "    Solve Ax = b with integer constraints using cvxpy.\n",
    "    \"\"\"\n",
    "\n",
    "    # Define integer variables\n",
    "    x = cp.Variable(A.shape[1], integer=True)\n",
    "\n",
    "    # Define the objective function (minimizing c^T x)\n",
    "    objective = cp.Minimize(c @ x)\n",
    "\n",
    "    # Constraints\n",
    "    constraints = [A @ x == b]\n",
    "\n",
    "    # Solve the problem\n",
    "    prob = cp.Problem(objective, constraints)\n",
    "    prob.solve()\n",
    "    # Check if problem was solved successfully\n",
    "    if prob.status == \"optimal\":\n",
    "        return x.value\n",
    "    else:\n",
    "        return None\n",
    "        \n",
    "def parse_game(game: str):\n",
    "    patterns = {\n",
    "        \"A\": r\"Button A: X\\+(\\d+), Y\\+(\\d+)\",\n",
    "        \"B\": r\"Button B: X\\+(\\d+), Y\\+(\\d+)\",\n",
    "        \"Prize\": r\"Prize: X=(\\d+), Y=(\\d+)\",\n",
    "    }\n",
    "\n",
    "    # Parse button coordinates\n",
    "    match_a = re.search(patterns[\"A\"], game)\n",
    "    match_b = re.search(patterns[\"B\"], game)\n",
    "    match_prize = re.search(patterns[\"Prize\"], game)\n",
    "\n",
    "    if not (match_a and match_b and match_prize):\n",
    "        raise ValueError(\"Invalid game input format.\")\n",
    "\n",
    "    xa, ya = map(int, match_a.groups())\n",
    "    xb, yb = map(int, match_b.groups())\n",
    "    xp, yp = map(int, match_prize.groups())\n",
    "\n",
    "    # Construct matrices\n",
    "    button_matrix = np.array([[xa, xb], [ya, yb]])\n",
    "    prize_vector = np.array([[xp], [yp]])\n",
    "    return button_matrix, prize_vector\n",
    "\n",
    "def fewest_tokens(game: str) -> int:\n",
    "    \"\"\"\n",
    "    Calculate the fewest tokens needed to achieve the prize using button presses.\n",
    "    \"\"\"\n",
    "    A, b = parse_game(game)\n",
    "    # 3 tokens to push A button and 1 token to push B button.\n",
    "    token_vector = np.array([3, 1])\n",
    "    # Solve the system\n",
    "    n_vector = solve_integer_system(A, b, token_vector)\n",
    "    if n_vector is not None:\n",
    "        # We don't allow more than 100 button presses per button.\n",
    "        if all(n <= 100 for n in n_vector):\n",
    "            return int(n_vector@token_vector)\n",
    "    return 0"
   ]
  },
  {
   "cell_type": "code",
   "execution_count": 2,
   "metadata": {},
   "outputs": [
    {
     "name": "stdout",
     "output_type": "stream",
     "text": [
      "Total tokens is: 38714\n"
     ]
    }
   ],
   "source": [
    "games = load_game_data(\"data.txt\")\n",
    "total_tokens = 0\n",
    "for game in games:\n",
    "    total_tokens += fewest_tokens(game)\n",
    "print(f\"Total tokens is: {total_tokens}\")"
   ]
  },
  {
   "cell_type": "markdown",
   "metadata": {},
   "source": [
    "## Part 2"
   ]
  },
  {
   "cell_type": "code",
   "execution_count": 3,
   "metadata": {},
   "outputs": [],
   "source": [
    "import re\n",
    "import cvxpy as cp\n",
    "from typing import List\n",
    "import numpy as np\n",
    "\n",
    "def load_game_data(puzzel_input: str) -> List[str]:\n",
    "    with open(puzzel_input, \"r\") as f:\n",
    "        return f.read().split('\\n\\n')\n",
    "\n",
    "def solve_integer_system(A:np.ndarray, b:np.ndarray, c:np.ndarray):\n",
    "    \"\"\"\n",
    "    Solve Ax = b with integer constraints using cvxpy.\n",
    "    \"\"\"\n",
    "\n",
    "    # Define integer variables\n",
    "    x = cp.Variable(A.shape[1], integer=True)\n",
    "\n",
    "    # Define the objective function (minimizing c^T x)\n",
    "    objective = cp.Minimize(c @ x)\n",
    "\n",
    "    # Constraints\n",
    "    constraints = [A @ x == b]\n",
    "\n",
    "    # Define the problem\n",
    "    prob = cp.Problem(objective, constraints)\n",
    "\n",
    "    # Solve the problem\n",
    "    prob.solve(\n",
    "        solver='GLPK_MI',  # or another MI solver\n",
    "        eps_abs=1e-6,      # absolute tolerance\n",
    "        eps_rel=1e-6       # relative tolerance\n",
    "    )\n",
    "    # Check if problem was solved successfully\n",
    "    if prob.status == \"optimal\":\n",
    "        return x.value\n",
    "    else:\n",
    "        return None\n",
    "\n",
    "def parse_game(game: str):\n",
    "    patterns = {\n",
    "        \"A\": r\"Button A: X\\+(\\d+), Y\\+(\\d+)\",\n",
    "        \"B\": r\"Button B: X\\+(\\d+), Y\\+(\\d+)\",\n",
    "        \"Prize\": r\"Prize: X=(\\d+), Y=(\\d+)\",\n",
    "    }\n",
    "\n",
    "    # Parse button coordinates\n",
    "    match_a = re.search(patterns[\"A\"], game)\n",
    "    match_b = re.search(patterns[\"B\"], game)\n",
    "    match_prize = re.search(patterns[\"Prize\"], game)\n",
    "\n",
    "    if not (match_a and match_b and match_prize):\n",
    "        raise ValueError(\"Invalid game input format.\")\n",
    "\n",
    "    xa, ya = map(int, match_a.groups())\n",
    "    xb, yb = map(int, match_b.groups())\n",
    "    xp, yp = map(int, match_prize.groups())\n",
    "\n",
    "    # Construct matrices\n",
    "    button_matrix = np.array([[xa, xb], [ya, yb]], dtype=np.int64)\n",
    "    # Number to add to price vector\n",
    "    num = 10000000000000\n",
    "    prize_vector = np.array([[xp + num], [yp + num]], dtype=np.int64)\n",
    "    return button_matrix, prize_vector\n",
    "\n",
    "def fewest_tokens(game: str) -> int:\n",
    "    \"\"\"\n",
    "    Calculate the fewest tokens needed to achieve the prize using button presses.\n",
    "    \"\"\"\n",
    "    A, b = parse_game(game)\n",
    "    # 3 tokens to push A button and 1 token to push B button.\n",
    "    token_vector = np.array([3, 1], dtype=np.int64)\n",
    "    # Solve the system,\n",
    "    n_vector = solve_integer_system(A, b, token_vector)\n",
    "    if n_vector is not None:\n",
    "        return int(n_vector @ token_vector)\n",
    "    return 0"
   ]
  },
  {
   "cell_type": "code",
   "execution_count": 4,
   "metadata": {},
   "outputs": [
    {
     "name": "stdout",
     "output_type": "stream",
     "text": [
      "Total tokens is: 74015623345775\n"
     ]
    }
   ],
   "source": [
    "games = load_game_data(\"data.txt\")\n",
    "total_tokens = 0\n",
    "for game in games:\n",
    "    total_tokens += fewest_tokens(game)\n",
    "print(f\"Total tokens is: {int(total_tokens)}\")"
   ]
  }
 ],
 "metadata": {
  "kernelspec": {
   "display_name": "base",
   "language": "python",
   "name": "python3"
  },
  "language_info": {
   "codemirror_mode": {
    "name": "ipython",
    "version": 3
   },
   "file_extension": ".py",
   "mimetype": "text/x-python",
   "name": "python",
   "nbconvert_exporter": "python",
   "pygments_lexer": "ipython3",
   "version": "3.11.7"
  }
 },
 "nbformat": 4,
 "nbformat_minor": 2
}
