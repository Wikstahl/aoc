{
 "cells": [
  {
   "cell_type": "markdown",
   "id": "21c69976-25f0-417c-94d8-fc0e19f4ecc4",
   "metadata": {},
   "source": [
    "# Day 2"
   ]
  },
  {
   "cell_type": "markdown",
   "id": "9353df88-9a52-4506-8dff-17e133744464",
   "metadata": {},
   "source": [
    "# Part 1"
   ]
  },
  {
   "cell_type": "code",
   "execution_count": 4,
   "id": "3f3daf3e-252d-4016-a3d3-0b4ae770df96",
   "metadata": {},
   "outputs": [
    {
     "name": "stdout",
     "output_type": "stream",
     "text": [
      "Answer is: 2\n"
     ]
    }
   ],
   "source": [
    "with open(\"data.txt\", \"r\") as f:\n",
    "    data = f.read().splitlines()\n",
    "\n",
    "# process data\n",
    "reports = []\n",
    "for report in data:\n",
    "    reports.append(list(map(int,report.split())))\n",
    "\n",
    "def is_ascending(lst: list) -> bool:\n",
    "    return all(lst[i] <= lst[i + 1] for i in range(len(lst) - 1))\n",
    "\n",
    "def is_descending(lst: list) -> bool:\n",
    "    return all(lst[i] >= lst[i + 1] for i in range(len(lst) - 1))\n",
    "\n",
    "def is_ascending_or_descending(lst: list) -> bool:\n",
    "    return is_ascending(lst) or is_descending(lst)\n",
    "\n",
    "def is_difference(lst: list) -> list:\n",
    "    diffs = [abs(lst[i] - lst[i+1]) for i in range(len(lst) - 1)]\n",
    "    return all(x <= 3 for x in diffs) and all(x >= 1 for x in diffs)\n",
    "        \n",
    "safe = 0\n",
    "for report in reports:\n",
    "    if is_ascending_or_descending(report) and is_difference(report):\n",
    "        safe += 1\n",
    "\n",
    "print(\"Answer is:\", safe)"
   ]
  },
  {
   "cell_type": "markdown",
   "id": "107cecf2-bf2f-49d6-9aaf-567b68cb09ae",
   "metadata": {},
   "source": [
    "# Part 2"
   ]
  },
  {
   "cell_type": "code",
   "execution_count": 23,
   "id": "d444d3c1-a375-430d-b4ff-6c82a7d917fc",
   "metadata": {},
   "outputs": [
    {
     "name": "stdout",
     "output_type": "stream",
     "text": [
      "Answer is: 514\n"
     ]
    }
   ],
   "source": [
    "from copy import deepcopy\n",
    "with open(\"data.txt\", \"r\") as f:\n",
    "    data = f.read().splitlines()\n",
    "\n",
    "# process data\n",
    "reports = []\n",
    "for report in data:\n",
    "    reports.append(list(map(int,report.split())))\n",
    "\n",
    "def is_ascending(lst: list) -> bool:\n",
    "    return all(lst[i] <= lst[i + 1] for i in range(len(lst) - 1))\n",
    "\n",
    "def is_descending(lst: list) -> bool:\n",
    "    return all(lst[i] >= lst[i + 1] for i in range(len(lst) - 1))\n",
    "\n",
    "def is_ascending_or_descending(lst: list) -> bool:\n",
    "    return is_ascending(lst) or is_descending(lst)\n",
    "\n",
    "def is_difference(lst: list) -> bool:\n",
    "    diffs = [abs(lst[i] - lst[i+1]) for i in range(len(lst) - 1)]\n",
    "    return all(x <= 3 for x in diffs) and all(x >= 1 for x in diffs)\n",
    "\n",
    "def is_safe(lst: list) -> bool:\n",
    "    return is_ascending_or_descending(lst) and is_difference(lst)\n",
    "        \n",
    "safe = 0\n",
    "for r in reports:\n",
    "    if is_safe(r):\n",
    "        safe += 1\n",
    "    else:\n",
    "        # try and remove an item from report\n",
    "        for i in range(len(r)):\n",
    "            temp = deepcopy(r)\n",
    "            temp.pop(i)\n",
    "            if is_safe(temp):\n",
    "                safe += 1\n",
    "                break\n",
    "print(\"Answer is:\", safe)"
   ]
  }
 ],
 "metadata": {
  "kernelspec": {
   "display_name": "Python 3 (ipykernel)",
   "language": "python",
   "name": "python3"
  },
  "language_info": {
   "codemirror_mode": {
    "name": "ipython",
    "version": 3
   },
   "file_extension": ".py",
   "mimetype": "text/x-python",
   "name": "python",
   "nbconvert_exporter": "python",
   "pygments_lexer": "ipython3",
   "version": "3.11.7"
  }
 },
 "nbformat": 4,
 "nbformat_minor": 5
}
