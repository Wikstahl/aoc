{
 "cells": [
  {
   "cell_type": "markdown",
   "metadata": {},
   "source": [
    "# Day 7"
   ]
  },
  {
   "cell_type": "markdown",
   "metadata": {},
   "source": [
    "## Part 1"
   ]
  },
  {
   "cell_type": "code",
   "execution_count": 90,
   "metadata": {},
   "outputs": [
    {
     "name": "stdout",
     "output_type": "stream",
     "text": [
      "Answer: 5131\n"
     ]
    }
   ],
   "source": [
    "import numpy as np\n",
    "\n",
    "# Read data from the file\n",
    "with open(\"data.txt\", \"r\") as f:\n",
    "    data = f.read().splitlines()\n",
    "\n",
    "# Define directions and their respective movement deltas\n",
    "directions_map = {\"^\": (-1, 0), \">\": (0, 1), \"v\": (1, 0), \"<\": (0, -1)}\n",
    "\n",
    "turn_right = {\"^\": \">\", \">\": \"v\", \"v\": \"<\", \"<\": \"^\"}\n",
    "\n",
    "num_rows = len(data)\n",
    "num_cols = len(data[0])\n",
    "\n",
    "# Parse the map to find the starting position and direction\n",
    "for row_id, row in enumerate(data):\n",
    "    for col_id, char in enumerate(row):\n",
    "        if char in directions_map:\n",
    "            position = (row_id, col_id)\n",
    "            direction = char\n",
    "            break\n",
    "\n",
    "# Set to track visited positions\n",
    "visited = set()\n",
    "visited.add(position)\n",
    "\n",
    "# Simulation\n",
    "while True:\n",
    "    row_id, col_id = position\n",
    "    delta_row, delta_col = directions_map[direction]\n",
    "    next_row, next_col = row_id + delta_row, col_id + delta_col\n",
    "\n",
    "    # Check if the next position is out of bounds\n",
    "    if not (0 <= next_row < num_rows and 0 <= next_col < num_cols):\n",
    "        break\n",
    "\n",
    "    # Check if the next position is an obstacle\n",
    "    if data[next_row][next_col] == \"#\":\n",
    "        direction = turn_right[direction]  # Turn right\n",
    "    else:\n",
    "        # Move forward and mark the position as visited\n",
    "        position = (next_row, next_col)\n",
    "        visited.add(position)\n",
    "\n",
    "# Output the number of distinct positions visited\n",
    "print(\"Answer:\", len(visited))"
   ]
  }
 ],
 "metadata": {
  "kernelspec": {
   "display_name": "base",
   "language": "python",
   "name": "python3"
  },
  "language_info": {
   "codemirror_mode": {
    "name": "ipython",
    "version": 3
   },
   "file_extension": ".py",
   "mimetype": "text/x-python",
   "name": "python",
   "nbconvert_exporter": "python",
   "pygments_lexer": "ipython3",
   "version": "3.11.7"
  }
 },
 "nbformat": 4,
 "nbformat_minor": 2
}
