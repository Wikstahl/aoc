{
 "cells": [
  {
   "cell_type": "markdown",
   "id": "bc973aa8-13b2-4385-a2cf-a7057e05d896",
   "metadata": {},
   "source": [
    "# Day 4"
   ]
  },
  {
   "cell_type": "markdown",
   "id": "7107edf3-6f28-497c-b645-d5b1cbd3d4e2",
   "metadata": {},
   "source": [
    "## Part 1"
   ]
  },
  {
   "cell_type": "code",
   "execution_count": 1,
   "id": "8115e68e-60b9-41af-8aa2-1a1e13f63d6f",
   "metadata": {},
   "outputs": [
    {
     "name": "stdout",
     "output_type": "stream",
     "text": [
      "Answer: 18\n"
     ]
    }
   ],
   "source": [
    "with open(\"data.txt\", \"r\") as f:\n",
    "    data = f.read().splitlines()\n",
    "\n",
    "def find_xmas(word_search: list):\n",
    "    rows = len(word_search)\n",
    "    cols = len(word_search[0])\n",
    "    target = \"XMAS\"\n",
    "    positions = []\n",
    "\n",
    "    # Directions: down (-1) / up (+1), left (-1) / right (+1)\n",
    "    # right, up, up right diagonal, down right diagonal, left, down, down left diagonal, up left diagonal.\n",
    "    directions = [(0, 1), (1, 0), (1, 1), (-1, 1), (0, -1), (-1, 0), (-1, -1), (1, -1)]\n",
    "\n",
    "    def check_direction(r:int, c:int, dr:int, dc:int) -> bool:\n",
    "        # Check if 'XMAS' fits from (r, c) in the direction (dr, dc)\n",
    "        for i in range(len(target)):\n",
    "            nr, nc = r + i * dr, c + i * dc\n",
    "            if not (0 <= nr < rows and 0 <= nc < cols) or word_search[nr][nc] != target[i]:\n",
    "                return False\n",
    "        return True\n",
    "\n",
    "    # Iterate through the grid to find all instances of \"XMAS\"\n",
    "    for r in range(rows):\n",
    "        for c in range(cols):\n",
    "            if word_search[r][c] == 'X':  # Start from 'X' to match \"XMAS\"\n",
    "                for dr, dc in directions:\n",
    "                    if check_direction(r, c, dr, dc):\n",
    "                        positions.append((r, c, dr, dc))  # Store starting position and direction\n",
    "\n",
    "    return positions\n",
    "\n",
    "ans = len(find_xmas(data))\n",
    "print(\"Answer:\", ans)"
   ]
  },
  {
   "cell_type": "markdown",
   "id": "b1b9f343",
   "metadata": {},
   "source": [
    "## Part 2"
   ]
  },
  {
   "cell_type": "code",
   "execution_count": 12,
   "id": "d751ba2d-e5d4-4985-b3e9-705784fca80a",
   "metadata": {},
   "outputs": [
    {
     "name": "stdout",
     "output_type": "stream",
     "text": [
      "Answer: 1921\n"
     ]
    }
   ],
   "source": [
    "with open(\"data.txt\", \"r\") as f:\n",
    "    data = f.read().splitlines()\n",
    "\n",
    "\n",
    "def find_mas(word_search: list):\n",
    "    rows = len(word_search)\n",
    "    cols = len(word_search[0])\n",
    "    target = \"MAS\"\n",
    "    positions = []\n",
    "\n",
    "    # Diagonal directions: top-left to bottom-right and bottom-left to top-right\n",
    "    diagonals = [[(-1, -1), (1, 1)], [(-1, 1), (1, -1)]]\n",
    "\n",
    "    def check_diagonal(r: int, c: int, dirs: list) -> bool:\n",
    "        # Ensure diagonals spell \"MAS\" with 'A' at the center\n",
    "        chars = []\n",
    "        for i, (dr, dc) in enumerate(dirs):\n",
    "            nr, nc = r + dr, c + dc\n",
    "            if not (0 <= nr < rows and 0 <= nc < cols):  # Check boundaries\n",
    "                return False\n",
    "            chars.append(word_search[nr][nc])\n",
    "        return chars == [\"M\", \"S\"] or chars == [\"S\", \"M\"]  # Check if the diagonals form \"MAS\"\n",
    "\n",
    "    # Iterate through the grid to find the center 'A'\n",
    "    for r in range(rows):\n",
    "        for c in range(cols):\n",
    "            if word_search[r][c] == \"A\":  # Start from 'A' as the center\n",
    "                if check_diagonal(r, c, diagonals[0]) and check_diagonal(r, c, diagonals[1]):\n",
    "                    positions.append((r, c))  # Store position of the center 'A'\n",
    "\n",
    "    return positions\n",
    "\n",
    "\n",
    "# Find \"MAS\" patterns\n",
    "positions = find_mas(data)\n",
    "print(\"Answer:\", len(positions))\n"
   ]
  }
 ],
 "metadata": {
  "kernelspec": {
   "display_name": "base",
   "language": "python",
   "name": "python3"
  },
  "language_info": {
   "codemirror_mode": {
    "name": "ipython",
    "version": 3
   },
   "file_extension": ".py",
   "mimetype": "text/x-python",
   "name": "python",
   "nbconvert_exporter": "python",
   "pygments_lexer": "ipython3",
   "version": "3.11.7"
  }
 },
 "nbformat": 4,
 "nbformat_minor": 5
}
