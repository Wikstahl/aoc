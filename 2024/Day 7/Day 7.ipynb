{
 "cells": [
  {
   "cell_type": "markdown",
   "metadata": {},
   "source": [
    "# Day 7"
   ]
  },
  {
   "cell_type": "markdown",
   "metadata": {},
   "source": [
    "## Part 1"
   ]
  },
  {
   "cell_type": "code",
   "execution_count": 26,
   "metadata": {},
   "outputs": [
    {
     "name": "stdout",
     "output_type": "stream",
     "text": [
      "Answer: 10741443549536\n"
     ]
    }
   ],
   "source": [
    "from itertools import permutations, product\n",
    "\n",
    "# Input data\n",
    "d = dict()\n",
    "with open(\"data.txt\", \"r\") as f:\n",
    "    data = f.read().splitlines()\n",
    "    for line in data:\n",
    "        result, numbers = line.split(\":\")\n",
    "        d[int(result)] = list(map(int, numbers.split()))\n",
    "\n",
    "# Allowed operations\n",
    "operations = [\"*\", \"+\"]\n",
    "\n",
    "\n",
    "# Function to evaluate an expression\n",
    "def evaluate_expression(numbers:list, ops:tuple):\n",
    "    result = numbers[0]\n",
    "    for i, op in enumerate(ops):\n",
    "        if op == \"+\":\n",
    "            result += numbers[i + 1]\n",
    "        elif op == \"*\":\n",
    "            result *= numbers[i + 1]\n",
    "    return result\n",
    "\n",
    "\n",
    "# Function to check if the key can be obtained\n",
    "def can_form_key(key:int, numbers:list):\n",
    "    # Generate all combinations of operations\n",
    "    for ops in product(operations, repeat=len(numbers) - 1):\n",
    "        if evaluate_expression(numbers, ops) == key:\n",
    "            return True, ops\n",
    "    return False, None\n",
    "\n",
    "\n",
    "# Check each key-value pair in the dictionary\n",
    "ans = 0\n",
    "for key, numbers in d.items():\n",
    "    result, ops = can_form_key(key, numbers)\n",
    "    if result:\n",
    "        ans += key\n",
    "print(\"Answer:\", ans)"
   ]
  }
 ],
 "metadata": {
  "kernelspec": {
   "display_name": "base",
   "language": "python",
   "name": "python3"
  },
  "language_info": {
   "codemirror_mode": {
    "name": "ipython",
    "version": 3
   },
   "file_extension": ".py",
   "mimetype": "text/x-python",
   "name": "python",
   "nbconvert_exporter": "python",
   "pygments_lexer": "ipython3",
   "version": "3.11.7"
  }
 },
 "nbformat": 4,
 "nbformat_minor": 2
}
