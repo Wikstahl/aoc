{
 "cells": [
  {
   "cell_type": "markdown",
   "metadata": {},
   "source": [
    "# [Day 8](https://adventofcode.com/2024/day/8)"
   ]
  },
  {
   "cell_type": "markdown",
   "metadata": {},
   "source": [
    "## Part 1"
   ]
  },
  {
   "cell_type": "code",
   "execution_count": 53,
   "metadata": {},
   "outputs": [
    {
     "name": "stdout",
     "output_type": "stream",
     "text": [
      "Total unique locations with antinodes: 14\n"
     ]
    }
   ],
   "source": [
    "# Read input data\n",
    "with open(\"data.txt\", \"r\") as f:\n",
    "    _map = f.read().splitlines()\n",
    "\n",
    "# Parse data\n",
    "antennas = {}\n",
    "for row_idx, row in enumerate(_map):\n",
    "    for col_idx, char in enumerate(row):\n",
    "        if char not in {\".\", \"\\n\"}:  # Exclude irrelevant characters\n",
    "            antennas.setdefault(char, []).append((row_idx, col_idx))\n",
    "\n",
    "num_rows, num_cols = len(_map), len(_map[0])\n",
    "\n",
    "# Function to check if a coordinate is inside the grid\n",
    "def is_within_bounds(coord: tuple, num_rows: int, num_cols: int) -> bool:\n",
    "    return 0 <= coord[0] < num_rows and 0 <= coord[1] < num_cols\n",
    "\n",
    "def find_antinodes(antennas: dict) -> set:\n",
    "    # Find all antinodes\n",
    "    antinodes = []\n",
    "    for char, positions in antennas.items():\n",
    "        n = len(positions)\n",
    "        for i in range(n - 1):\n",
    "            for j in range(i + 1, n):\n",
    "                pos1, pos2 = positions[i], positions[j]\n",
    "\n",
    "                # Compute vector distance\n",
    "                vector = (pos2[0] - pos1[0], pos2[1] - pos1[1])\n",
    "\n",
    "                # Compute new coordinates\n",
    "                add_coord = (pos2[0] + vector[0], pos2[1] + vector[1])\n",
    "                sub_coord = (pos1[0] - vector[0], pos1[1] - vector[1])\n",
    "\n",
    "                # Check and store valid coordinates\n",
    "                if is_within_bounds(add_coord, num_rows, num_cols):\n",
    "                    antinodes.append(add_coord)\n",
    "                if is_within_bounds(sub_coord, num_rows, num_cols):\n",
    "                    antinodes.append(sub_coord)\n",
    "    # Return unique solutions            \n",
    "    return set(antinodes)\n",
    "\n",
    "# Result\n",
    "antinodes = find_antinodes(antennas)\n",
    "result = len(antinodes)\n",
    "print(\"Total unique locations with antinodes:\", result)"
   ]
  },
  {
   "cell_type": "markdown",
   "metadata": {},
   "source": [
    "## Part 2"
   ]
  },
  {
   "cell_type": "code",
   "execution_count": 18,
   "metadata": {},
   "outputs": [
    {
     "name": "stdout",
     "output_type": "stream",
     "text": [
      "Total unique locations with antinodes: 884\n"
     ]
    }
   ],
   "source": [
    "# Read input data\n",
    "with open(\"data.txt\", \"r\") as f:\n",
    "    _map = f.read().splitlines()\n",
    "\n",
    "# Parse data\n",
    "antennas = {}\n",
    "for row_idx, row in enumerate(_map):\n",
    "    for col_idx, char in enumerate(row):\n",
    "        if char not in {\".\", \"\\n\"}:  # Exclude irrelevant characters\n",
    "            antennas.setdefault(char, []).append((row_idx, col_idx))\n",
    "\n",
    "num_rows, num_cols = len(_map), len(_map[0])\n",
    "\n",
    "# Function to check if a coordinate is inside the grid\n",
    "def is_within_bounds(coord: tuple, num_rows: int, num_cols: int) -> bool:\n",
    "    return 0 <= coord[0] < num_rows and 0 <= coord[1] < num_cols\n",
    "\n",
    "# Compute new coordinates\n",
    "def add_sub_vector(pos: tuple, vector: tuple, add_sub:str) -> tuple:\n",
    "    # adds or subtracts a vector from a given position\n",
    "    if add_sub == \"add\":\n",
    "        return (pos[0] + vector[0], pos[1] + vector[1])\n",
    "    elif add_sub == \"sub\":\n",
    "        return (pos[0] - vector[0], pos[1] - vector[1])\n",
    "    else:\n",
    "        raise AssertionError(\"Something went wrong.\")\n",
    "\n",
    "def find_antinodes(antennas: dict) -> set:\n",
    "    # Find all antinodes\n",
    "    antinodes = []\n",
    "    for positions in antennas.values():\n",
    "        n = len(positions)\n",
    "        for i in range(n - 1):\n",
    "            for j in range(i + 1, n):\n",
    "                pos1, pos2 = positions[i], positions[j]\n",
    "                # Add pos1 and pos2 as antinodes\n",
    "                antinodes.append(pos1)\n",
    "                antinodes.append(pos2)\n",
    "\n",
    "                # Compute vector distance\n",
    "                vector = (pos2[0] - pos1[0], pos2[1] - pos1[1])\n",
    "\n",
    "                add_coord = (pos2[0] + vector[0], pos2[1] + vector[1])\n",
    "                sub_coord = (pos1[0] - vector[0], pos1[1] - vector[1])\n",
    "\n",
    "                # Check and store valid coordinates\n",
    "                for add_sub in [\"add\", \"sub\"]:\n",
    "                    within_bounds = True\n",
    "                    new_pos = pos1\n",
    "                    while within_bounds:\n",
    "                        # compute new position\n",
    "                        new_pos = add_sub_vector(new_pos, vector, add_sub)\n",
    "                        if is_within_bounds(new_pos, num_rows, num_cols):\n",
    "                            antinodes.append(new_pos)\n",
    "                        else:\n",
    "                            within_bounds = False\n",
    "\n",
    "    # Return unique solutions\n",
    "    return set(antinodes)\n",
    "\n",
    "# Result\n",
    "antinodes = find_antinodes(antennas)\n",
    "result = len(antinodes)\n",
    "print(\"Total unique locations with antinodes:\", result)"
   ]
  }
 ],
 "metadata": {
  "kernelspec": {
   "display_name": "base",
   "language": "python",
   "name": "python3"
  },
  "language_info": {
   "codemirror_mode": {
    "name": "ipython",
    "version": 3
   },
   "file_extension": ".py",
   "mimetype": "text/x-python",
   "name": "python",
   "nbconvert_exporter": "python",
   "pygments_lexer": "ipython3",
   "version": "3.11.7"
  }
 },
 "nbformat": 4,
 "nbformat_minor": 2
}
