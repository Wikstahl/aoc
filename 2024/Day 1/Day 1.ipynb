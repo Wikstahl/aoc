{
 "cells": [
  {
   "cell_type": "markdown",
   "id": "8cbe854f-93f2-4fab-891d-e9adc5d6c0ae",
   "metadata": {},
   "source": [
    "# Day 1"
   ]
  },
  {
   "cell_type": "markdown",
   "id": "15d8d295-dcb5-4d34-add4-f30eeb04119f",
   "metadata": {},
   "source": [
    "## Part 1"
   ]
  },
  {
   "cell_type": "code",
   "execution_count": 1,
   "id": "f0792d1d-fa10-4abb-ad19-6002f3fd34e3",
   "metadata": {},
   "outputs": [
    {
     "name": "stdout",
     "output_type": "stream",
     "text": [
      "Solution is: 2375403\n"
     ]
    }
   ],
   "source": [
    "with open(\"data.txt\", \"r\") as f:\n",
    "    data = f.read()\n",
    "\n",
    "# Initialize two empty lists for left and right\n",
    "left = []\n",
    "right = []\n",
    "\n",
    "# Split the string into lines\n",
    "lines = data.splitlines()\n",
    "\n",
    "# Process each line\n",
    "for line in lines:\n",
    "    # Split the line into two values\n",
    "    values = line.split()\n",
    "    \n",
    "    # Append the values to left and right lists\n",
    "    left.append(int(values[0]))\n",
    "    right.append(int(values[1]))\n",
    "\n",
    "# Sort the two lists in acending order\n",
    "left_sorted = sorted(left)\n",
    "right_sorted = sorted(right)\n",
    "\n",
    "# Calculate the distance\n",
    "distance = []\n",
    "for i,j in zip(left_sorted, right_sorted):\n",
    "    distance.append(abs(i-j))\n",
    "\n",
    "# Sum the distances\n",
    "sol1 = sum(distance)\n",
    "print(\"Solution is:\", sol1)"
   ]
  },
  {
   "cell_type": "markdown",
   "id": "cb639316-67d6-4cac-a285-5635be1a424c",
   "metadata": {},
   "source": [
    "## Part 2"
   ]
  },
  {
   "cell_type": "code",
   "execution_count": 2,
   "id": "8c9eea15-1926-4d9b-a20b-017cd553a9f4",
   "metadata": {},
   "outputs": [
    {
     "name": "stdout",
     "output_type": "stream",
     "text": [
      "Solution is: 23082277\n"
     ]
    }
   ],
   "source": [
    "similarity = []\n",
    "for i in left_sorted:\n",
    "    similarity.append(i * right_sorted.count(i))\n",
    "\n",
    "sol2 = sum(similarity)\n",
    "print(\"Solution is:\", sol2)"
   ]
  }
 ],
 "metadata": {
  "kernelspec": {
   "display_name": "Python 3 (ipykernel)",
   "language": "python",
   "name": "python3"
  },
  "language_info": {
   "codemirror_mode": {
    "name": "ipython",
    "version": 3
   },
   "file_extension": ".py",
   "mimetype": "text/x-python",
   "name": "python",
   "nbconvert_exporter": "python",
   "pygments_lexer": "ipython3",
   "version": "3.11.7"
  }
 },
 "nbformat": 4,
 "nbformat_minor": 5
}
