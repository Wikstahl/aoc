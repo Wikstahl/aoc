{
 "cells": [
  {
   "cell_type": "markdown",
   "metadata": {},
   "source": [
    "# [Day 15](https://adventofcode.com/2024/day/15)"
   ]
  },
  {
   "cell_type": "markdown",
   "metadata": {},
   "source": [
    "## Part 1"
   ]
  },
  {
   "cell_type": "code",
   "execution_count": 1,
   "metadata": {},
   "outputs": [],
   "source": [
    "from typing import List, Tuple, Dict\n",
    "\n",
    "def load_data(file:str) -> Tuple[Dict[str, List[Tuple[int, int]]], str]:\n",
    "    with open(file, \"r\") as f:\n",
    "        data = f.read().split(\"\\n\\n\")\n",
    "        objects = data[0].splitlines()\n",
    "        moves = data[1].replace(\"\\n\", \"\")\n",
    "\n",
    "        keys = [\"#\", \"O\", \"@\"]\n",
    "        obj_dict = {}\n",
    "        for y, line in enumerate(objects):\n",
    "            for x, obj in enumerate(line):\n",
    "                if obj in keys:\n",
    "                    obj_dict.setdefault(obj,[])\n",
    "                    obj_dict[obj].append((x, y))\n",
    "    return obj_dict, moves"
   ]
  },
  {
   "cell_type": "code",
   "execution_count": 2,
   "metadata": {},
   "outputs": [],
   "source": [
    "obj_dict, moves = load_data(\"data.txt\")"
   ]
  },
  {
   "cell_type": "code",
   "execution_count": 3,
   "metadata": {},
   "outputs": [],
   "source": [
    "def plot_positions(positions: Dict[str, List[Tuple[int, int]]], file_name: str):\n",
    "    # Define grid dimensions\n",
    "    width, height = sorted(positions[\"#\"])[-1]\n",
    "    grid_size = (width + 1, height + 1)\n",
    "\n",
    "    # Initialize the grid with empty spaces\n",
    "    grid = [[\".\" for _ in range(grid_size[1])] for _ in range(grid_size[0])]\n",
    "\n",
    "    # Place the elements in the grid\n",
    "    for obj, coords in positions.items():\n",
    "        for x, y in coords:\n",
    "            grid[y][x] = obj\n",
    "\n",
    "    # Write the grid to a text file\n",
    "    with open(file_name, \"w\") as f:\n",
    "        for row in grid:\n",
    "            f.write(\"\".join(row) + \"\\n\")"
   ]
  },
  {
   "cell_type": "code",
   "execution_count": 4,
   "metadata": {},
   "outputs": [],
   "source": [
    "plot_positions(obj_dict, \"initial_grid.txt\")"
   ]
  },
  {
   "cell_type": "code",
   "execution_count": 8,
   "metadata": {},
   "outputs": [],
   "source": [
    "from time import sleep\n",
    "from copy import deepcopy\n",
    "\n",
    "def add_position(p1: tuple, p2: tuple) -> tuple:\n",
    "    return (p1[0] + p2[0], p1[1] + p2[1])\n",
    "\n",
    "def push(pos: tuple, step: tuple, positions: Dict[str, List[Tuple[int, int]]]):\n",
    "    \"\"\"\n",
    "    Recursively pushes O's in the direction of step, stopping if a block (# or boundary)\n",
    "    is encountered or no more O's can move.\n",
    "    \"\"\"\n",
    "    next_pos = add_position(pos, step)\n",
    "\n",
    "    # Check if the next position is blocked\n",
    "    if next_pos in positions['#']:\n",
    "        return False # Stop pushing, blocked\n",
    "\n",
    "    # Recursively push the next O, if it exists\n",
    "    if next_pos in positions['O']:\n",
    "        return push(next_pos, step, positions)\n",
    "    return True  # Push was successful\n",
    "\n",
    "def update(current_pos, step, positions):\n",
    "\n",
    "    next_pos = add_position(current_pos, step)\n",
    "\n",
    "    if next_pos in positions['O']:\n",
    "        positions[\"O\"].remove(current_pos)\n",
    "        positions[\"O\"].append(next_pos)\n",
    "        return update(next_pos, step, positions)\n",
    "    else:\n",
    "        positions[\"O\"].remove(current_pos)\n",
    "        positions[\"O\"].append(next_pos)\n",
    "\n",
    "def evolution(obj_dict: Dict[str, List[Tuple[int, int]]], moves: str):\n",
    "    positions = deepcopy(obj_dict) # make a copy\n",
    "    move_dict = {\"<\": (-1, 0), \">\": (1, 0), \"^\": (0, -1), \"v\": (0, 1)}\n",
    "\n",
    "    for move in moves:\n",
    "        #sleep(1)\n",
    "        #plot_positions(positions, \"grid.txt\")\n",
    "        step = move_dict[move]  # get direction/step\n",
    "        current_pos = positions[\"@\"][0]  # get robot position\n",
    "        new_pos = add_position(current_pos, step)\n",
    "\n",
    "        # Check if new position is valid\n",
    "        if new_pos in positions['#']:  # Blocked by an unmovable object\n",
    "            continue\n",
    "\n",
    "        # Main movement logic for @\n",
    "        if new_pos in positions['O']: # @ tries to push an O\n",
    "            if push(new_pos, step, positions): # If push is possible\n",
    "                positions[\"@\"].remove(current_pos)\n",
    "                positions[\"@\"].append(new_pos)\n",
    "                update(new_pos, step, positions)\n",
    "                    \n",
    "        else:  # If no O is encountered, move @ normally\n",
    "            positions['@'].remove(current_pos)\n",
    "            positions['@'].append(new_pos)\n",
    "\n",
    "    return positions\n",
    "\n",
    "positions = evolution(obj_dict, moves)"
   ]
  },
  {
   "cell_type": "code",
   "execution_count": 9,
   "metadata": {},
   "outputs": [],
   "source": [
    "plot_positions(positions, \"final_grid.txt\")"
   ]
  },
  {
   "cell_type": "code",
   "execution_count": 10,
   "metadata": {},
   "outputs": [
    {
     "name": "stdout",
     "output_type": "stream",
     "text": [
      "1478649\n"
     ]
    }
   ],
   "source": [
    "gps_coordinate = 0\n",
    "for x, y in positions['O']:\n",
    "    gps_coordinate += 100 * y + x\n",
    "print(gps_coordinate)"
   ]
  }
 ],
 "metadata": {
  "kernelspec": {
   "display_name": "base",
   "language": "python",
   "name": "python3"
  },
  "language_info": {
   "codemirror_mode": {
    "name": "ipython",
    "version": 3
   },
   "file_extension": ".py",
   "mimetype": "text/x-python",
   "name": "python",
   "nbconvert_exporter": "python",
   "pygments_lexer": "ipython3",
   "version": "3.11.7"
  }
 },
 "nbformat": 4,
 "nbformat_minor": 2
}
