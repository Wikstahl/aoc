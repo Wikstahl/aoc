{
 "cells": [
  {
   "cell_type": "markdown",
   "id": "c5ae2f3d-15f3-40ad-b0f8-3d3222e31afc",
   "metadata": {},
   "source": [
    "# Day 5"
   ]
  },
  {
   "cell_type": "markdown",
   "id": "78287619-e34c-4d0a-bda9-1815e5c5cd05",
   "metadata": {},
   "source": [
    "# Part 1"
   ]
  },
  {
   "cell_type": "code",
   "execution_count": 53,
   "id": "07e925a4-4c52-40be-b12f-138a0b220fa0",
   "metadata": {},
   "outputs": [
    {
     "name": "stdout",
     "output_type": "stream",
     "text": [
      "Answer: 143\n"
     ]
    }
   ],
   "source": [
    "import re\n",
    "\n",
    "# Read data from file\n",
    "with open(\"data.txt\", \"r\") as f:\n",
    "    data = f.read()\n",
    "\n",
    "# Extract pages\n",
    "pages = [tuple(map(int, match)) for match in re.findall(r\"(\\d+)\\|(\\d+)\", data)]\n",
    "lp, rp = zip(*pages)  # Separate left and right pages\n",
    "\n",
    "# Extract orderings\n",
    "orderings = [\n",
    "    list(map(int, order.split(\",\"))) for order in data.split(\"\\n\\n\")[1].splitlines()\n",
    "]\n",
    "\n",
    "# Precompute a reverse mapping from right pages to left pages\n",
    "rp_to_lp_map = {}\n",
    "for l, r in zip(lp, rp):\n",
    "    rp_to_lp_map.setdefault(r, set()).add(l)\n",
    "\n",
    "\n",
    "def check(lst: list) -> bool:\n",
    "    \"\"\"\n",
    "    Checks if a given list satisfies the condition that no linked left page\n",
    "    appears later in the list after its corresponding right page.\n",
    "    \"\"\"\n",
    "    remaining = set(lst)\n",
    "    for a in lst:\n",
    "        remaining.remove(a)  # Current element is no longer remaining\n",
    "        # Check for conflicts with linked left pages\n",
    "        if rp_to_lp_map.get(a, set()) & remaining:\n",
    "            return False\n",
    "    return True\n",
    "\n",
    "\n",
    "# Find the middle number for valid orders\n",
    "middle_numbers = [order[len(order) // 2] for order in orderings if check(order)]\n",
    "\n",
    "# Calculate and print the result\n",
    "print(\"Answer:\", sum(middle_numbers))"
   ]
  },
  {
   "cell_type": "markdown",
   "id": "b5f59281",
   "metadata": {},
   "source": [
    "## Part 2"
   ]
  },
  {
   "cell_type": "code",
   "execution_count": null,
   "id": "ce75815a",
   "metadata": {},
   "outputs": [
    {
     "name": "stdout",
     "output_type": "stream",
     "text": [
      "Answer 143\n"
     ]
    }
   ],
   "source": [
    "import re\n",
    "import math\n",
    "from copy import deepcopy\n",
    "\n",
    "with open(\"data.txt\", \"r\") as f:\n",
    "    data = f.read()\n",
    "\n",
    "# Extract pages\n",
    "p = [tuple(map(int, match)) for match in re.findall(r\"(\\d+)\\|(\\d+)\", data)]\n",
    "lp, rp = zip(*p)  # Separate left and right pages\n",
    "\n",
    "# Extract orderings\n",
    "orderings = [\n",
    "    list(map(int, order.split(\",\"))) for order in data.split(\"\\n\\n\")[1].splitlines()\n",
    "]\n",
    "\n",
    "def check(lst: list) -> bool:\n",
    "    lst = deepcopy(lst)\n",
    "    while len(lst) > 1:\n",
    "        a = lst[0]  # first element in analysis\n",
    "        # find indices\n",
    "        indices = []\n",
    "        for j, elem in enumerate(rp):\n",
    "            if elem == a:\n",
    "                indices.append(j)\n",
    "\n",
    "        for k in indices:\n",
    "            if lp[k] in lst[1:]:\n",
    "                return True\n",
    "        lst.pop(0)\n",
    "    return False\n",
    "\n",
    "def correct_order(lst: list) -> list:\n",
    "    lst = deepcopy(lst)\n",
    "    correct_list = []\n",
    "    while len(lst) > 1:\n",
    "        a = lst[0]  # first element in analysis\n",
    "        # find indices\n",
    "        indices = []\n",
    "        for j, elem in enumerate(rp):\n",
    "            if elem == a:\n",
    "                indices.append(j)\n",
    "\n",
    "        for k in indices:\n",
    "            if lp[k] in lst[1:]:\n",
    "                correct_list\n",
    "        lst.pop(0)\n",
    "    return False\n",
    "\n",
    "q = []\n",
    "for i, order in enumerate(orderings):\n",
    "    if check(order):\n",
    "        q.append(correct_order(order))\n",
    "\n",
    "\n",
    "# print(\"Answer\", sum(q))"
   ]
  },
  {
   "cell_type": "markdown",
   "id": "61a83d3b",
   "metadata": {},
   "source": [
    "## WASD"
   ]
  },
  {
   "cell_type": "code",
   "execution_count": null,
   "id": "7629b8e9",
   "metadata": {},
   "outputs": [
    {
     "name": "stdout",
     "output_type": "stream",
     "text": [
      "[75, 97, 47, 61, 53]\n",
      "[61, 13, 29]\n",
      "[97, 13, 75, 29, 47]\n"
     ]
    }
   ],
   "source": [
    "import re\n",
    "\n",
    "# Read data from file\n",
    "with open(\"data.txt\", \"r\") as f:\n",
    "    data = f.read()\n",
    "\n",
    "# Extract pages\n",
    "pages = [tuple(map(int, match)) for match in re.findall(r\"(\\d+)\\|(\\d+)\", data)]\n",
    "lp, rp = zip(*pages)  # Separate left and right pages\n",
    "\n",
    "# Extract orderings\n",
    "orderings = [\n",
    "    list(map(int, order.split(\",\"))) for order in data.split(\"\\n\\n\")[1].splitlines()\n",
    "]\n",
    "\n",
    "# Precompute a reverse mapping from right pages to left pages\n",
    "rp_to_lp_map = {}\n",
    "for l, r in zip(lp, rp):\n",
    "    rp_to_lp_map.setdefault(r, set()).add(l)\n",
    "\n",
    "\n",
    "def check(lst: list) -> bool:\n",
    "    \"\"\"\n",
    "    Checks if a given list satisfies the condition that no linked left page\n",
    "    appears later in the list after its corresponding right page.\n",
    "    \"\"\"\n",
    "    remaining = set(lst)\n",
    "    for a in lst:\n",
    "        remaining.remove(a)  # Current element is no longer remaining\n",
    "        # Check for conflicts with linked left pages\n",
    "        if rp_to_lp_map.get(a, set()) & remaining:\n",
    "            return True\n",
    "    return False\n",
    "\n",
    "def correct_order(lst: list) -> list:\n",
    "    remaining = set(lst)\n",
    "    correct_list = []\n",
    "    for a in lst:\n",
    "        remaining.remove(a)  # Current element is no longer remaining\n",
    "        # Check for conflicts with linked left pages\n",
    "        if rp_to_lp_map.get(a, set()) & remaining:\n",
    "            \n",
    "    return 0\n",
    "\n",
    "# Find the middle number for valid orders\n",
    "\n",
    "for order in orderings: \n",
    "    if check(order):\n",
    "        correct_order(order)\n",
    "# middle_numbers = [order[len(order) // 2] for order in orderings if check(order)]\n",
    "\n",
    "# Calculate and print the result\n",
    "# print(\"Answer:\", sum(middle_numbers))"
   ]
  }
 ],
 "metadata": {
  "kernelspec": {
   "display_name": "base",
   "language": "python",
   "name": "python3"
  },
  "language_info": {
   "codemirror_mode": {
    "name": "ipython",
    "version": 3
   },
   "file_extension": ".py",
   "mimetype": "text/x-python",
   "name": "python",
   "nbconvert_exporter": "python",
   "pygments_lexer": "ipython3",
   "version": "3.11.7"
  }
 },
 "nbformat": 4,
 "nbformat_minor": 5
}
