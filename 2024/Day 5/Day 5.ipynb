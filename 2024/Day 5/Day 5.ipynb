{
 "cells": [
  {
   "cell_type": "markdown",
   "id": "c5ae2f3d-15f3-40ad-b0f8-3d3222e31afc",
   "metadata": {},
   "source": [
    "# [Day 5](https://adventofcode.com/2024/day/5m)"
   ]
  },
  {
   "cell_type": "markdown",
   "id": "78287619-e34c-4d0a-bda9-1815e5c5cd05",
   "metadata": {},
   "source": [
    "# Part 1"
   ]
  },
  {
   "cell_type": "code",
   "execution_count": 5,
   "id": "07e925a4-4c52-40be-b12f-138a0b220fa0",
   "metadata": {},
   "outputs": [
    {
     "name": "stdout",
     "output_type": "stream",
     "text": [
      "Answer: 143\n"
     ]
    }
   ],
   "source": [
    "import re\n",
    "\n",
    "# Read data from file\n",
    "with open(\"data.txt\", \"r\") as f:\n",
    "    data = f.read()\n",
    "\n",
    "# Extract pages\n",
    "pages = [tuple(map(int, match)) for match in re.findall(r\"(\\d+)\\|(\\d+)\", data)]\n",
    "lp, rp = zip(*pages)  # Separate left and right pages\n",
    "\n",
    "# Extract orderings\n",
    "orderings = [\n",
    "    list(map(int, order.split(\",\"))) for order in data.split(\"\\n\\n\")[1].splitlines()\n",
    "]\n",
    "\n",
    "# Precompute a reverse mapping from right pages to left pages\n",
    "page_map = {} # Global variable\n",
    "for l, r in zip(lp, rp):\n",
    "    page_map.setdefault(r, set()).add(l)\n",
    "\n",
    "\n",
    "def check(lst: list) -> bool:\n",
    "    \"\"\"\n",
    "    Checks if a given list satisfies the condition that no linked left page\n",
    "    appears later in the list after its corresponding right page.\n",
    "    \"\"\"\n",
    "    remaining = set(lst)\n",
    "    for a in lst:\n",
    "        remaining.remove(a)  # Current element is no longer remaining\n",
    "        # Check for conflicts with linked left pages\n",
    "        if page_map.get(a, set()) & remaining:\n",
    "            return False\n",
    "    return True\n",
    "\n",
    "# Find the middle number for valid orders\n",
    "middle_numbers = [order[len(order) // 2] for order in orderings if check(order)]\n",
    "\n",
    "# Calculate and print the result\n",
    "print(\"Answer:\", sum(middle_numbers))"
   ]
  },
  {
   "cell_type": "markdown",
   "id": "b5f59281",
   "metadata": {},
   "source": [
    "## Part 2"
   ]
  },
  {
   "cell_type": "code",
   "execution_count": 39,
   "id": "3c304dcb",
   "metadata": {},
   "outputs": [
    {
     "name": "stdout",
     "output_type": "stream",
     "text": [
      "Answer: 5466\n"
     ]
    }
   ],
   "source": [
    "import re\n",
    "\n",
    "# Read data from file\n",
    "with open(\"data.txt\", \"r\") as f:\n",
    "    data = f.read()\n",
    "\n",
    "# Extract pages\n",
    "pages = [tuple(map(int, match)) for match in re.findall(r\"(\\d+)\\|(\\d+)\", data)]\n",
    "lp, rp = zip(*pages)  # Separate left and right pages\n",
    "\n",
    "# Extract orderings\n",
    "orderings = [\n",
    "    list(map(int, order.split(\",\"))) for order in data.split(\"\\n\\n\")[1].splitlines()\n",
    "]\n",
    "\n",
    "# Precompute a reverse mapping from right pages to left pages\n",
    "page_map = {}  # Global variable\n",
    "for l, r in zip(lp, rp):\n",
    "    page_map.setdefault(r, set()).add(l)\n",
    "\n",
    "def check(lst: list) -> bool:\n",
    "    \"\"\"\n",
    "    Checks if a given list satisfies the condition that no linked left page\n",
    "    appears later in the list after its corresponding right page.\n",
    "    \"\"\"\n",
    "    remaining = set(lst)\n",
    "    for a in lst:\n",
    "        remaining.remove(a)  # Current element is no longer remaining\n",
    "        # Check for conflicts with linked left pages\n",
    "        if page_map.get(a, set()) & remaining:\n",
    "            return False\n",
    "    return True\n",
    "\n",
    "def correct_order(order):\n",
    "    \"\"\"\n",
    "    Corrects the order of a given list based on the page ordering rules.\n",
    "    Dynamically adjusts the order until it satisfies the conditions.\n",
    "    \"\"\"\n",
    "    # We will adjust the order until it is correct\n",
    "    ordered = False\n",
    "    while not ordered:\n",
    "        ordered = True\n",
    "        # Check each pair of consecutive pages in the order\n",
    "        for i in range(len(order) - 1):\n",
    "            left, right = order[i], order[i + 1]\n",
    "            if right in page_map.get(left, set()):\n",
    "                # If left appears after right, swap them to correct the order\n",
    "                order[i], order[i + 1] = order[i + 1], order[i]\n",
    "                ordered = False  # Since we made a swap, we need to check again\n",
    "    return order\n",
    "\n",
    "# Find the middle number for valid orders and corrected orders\n",
    "middle_numbers = []\n",
    "for order in orderings:\n",
    "    if not check(order):\n",
    "        # Correct the incorrectly ordered updates\n",
    "        corrected_order = correct_order(order)\n",
    "        middle_numbers.append(\n",
    "            corrected_order[len(corrected_order) // 2]\n",
    "        )  # Middle page of corrected order\n",
    "\n",
    "# Calculate and print the result\n",
    "print(\"Answer:\", sum(middle_numbers))"
   ]
  }
 ],
 "metadata": {
  "kernelspec": {
   "display_name": "base",
   "language": "python",
   "name": "python3"
  },
  "language_info": {
   "codemirror_mode": {
    "name": "ipython",
    "version": 3
   },
   "file_extension": ".py",
   "mimetype": "text/x-python",
   "name": "python",
   "nbconvert_exporter": "python",
   "pygments_lexer": "ipython3",
   "version": "3.11.8"
  }
 },
 "nbformat": 4,
 "nbformat_minor": 5
}
