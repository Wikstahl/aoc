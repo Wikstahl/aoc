{
 "cells": [
  {
   "cell_type": "markdown",
   "metadata": {},
   "source": [
    "# [Day 20](https://adventofcode.com/2024/day/20)"
   ]
  },
  {
   "cell_type": "code",
   "execution_count": 107,
   "metadata": {},
   "outputs": [],
   "source": [
    "with open(\"data.txt\", \"r\") as f:\n",
    "    walls = []\n",
    "    floors = []\n",
    "    for y, line in enumerate(f):\n",
    "        for x, char in enumerate(line):\n",
    "            if char == \"S\":\n",
    "                start = (x, y)\n",
    "            elif char == \"E\":\n",
    "                end = (x, y)\n",
    "            elif char == \"#\":\n",
    "                walls.append((x, y))"
   ]
  },
  {
   "cell_type": "code",
   "execution_count": 112,
   "metadata": {},
   "outputs": [],
   "source": [
    "from typing import List, Tuple, Dict\n",
    "from heapq import heappush, heappop\n",
    "\n",
    "\n",
    "class Maze:\n",
    "    def __init__(self, walls: List[Tuple[int, int]], start: Tuple[int, int], end: Tuple[int, int]) -> None:\n",
    "        self.walls = set(walls)\n",
    "        self.start = start\n",
    "        self.end = end\n",
    "        # calculate width and height of max\n",
    "        max_x, max_y = map(max, zip(*self.walls))\n",
    "        self.wide = max_x + 1\n",
    "        self.tall = max_y + 1\n",
    "\n",
    "    def __repr__(self) -> str:\n",
    "        grid = [['.' for _ in range(self.wide)] for _ in range(self.tall)]\n",
    "        for y in range(self.tall):\n",
    "            for x in range(self.wide):\n",
    "                if (x, y) in self.walls:\n",
    "                    grid[y][x] = \"#\"\n",
    "                elif (x, y) == self.start:\n",
    "                    grid[y][x] = \"S\"\n",
    "                elif (x, y) == self.end:\n",
    "                    grid[y][x] = \"E\"\n",
    "        # Flatten the list and join with newline\n",
    "        result = \"\\n\".join(\"\".join(line) for line in grid)\n",
    "        return result\n",
    "\n",
    "    def djikstras(self, start_node: Tuple[int, int]):\n",
    "        # Calculate the distance from start node to every other node.\n",
    "\n",
    "        # set the distance to start_node to zero\n",
    "        distances = {}\n",
    "        distances[start_node] = 0\n",
    "\n",
    "        # create a set of visited nodes\n",
    "        visited = set()\n",
    "\n",
    "        # predecessors\n",
    "        predecessors = {}\n",
    "\n",
    "        # create a priority que\n",
    "        pq = [(0, start_node)]\n",
    "\n",
    "        while pq:\n",
    "            current_distance, current_node = heappop(pq)\n",
    "\n",
    "            # check if current node is already visited\n",
    "            if current_node in visited:\n",
    "                continue\n",
    "\n",
    "            # add current note to visited\n",
    "            visited.add(current_node)\n",
    "\n",
    "            # explore neighbours\n",
    "            directions = [(-1, 0), (1, 0), (0, -1), (0, 1)] # left, right, up, down\n",
    "            for dx, dy in directions:\n",
    "                x, y = current_node\n",
    "                neighbor = x + dx, y + dy\n",
    "\n",
    "                if neighbor in self.walls or neighbor in visited:\n",
    "                    continue\n",
    "\n",
    "                # calculate the distance to neighbor\n",
    "                new_distance = current_distance + 1\n",
    "\n",
    "                # Check if neighbor_node exist in distance or if it is better.\n",
    "                if neighbor not in distances or new_distance < distances[neighbor]:\n",
    "                    distances[neighbor] = new_distance\n",
    "                    predecessors[neighbor] = current_node\n",
    "                    heappush(pq, (new_distance, neighbor)) # push to que\n",
    "\n",
    "        return distances, predecessors\n",
    "\n",
    "    def reconstruct_path(self, \n",
    "                         target_node: Tuple[int, int],\n",
    "                         predecessors: Dict[Tuple[int, int], Tuple[int, int]]) -> List[Tuple[int,int]]:\n",
    "        path = []\n",
    "        current = target_node\n",
    "\n",
    "        while current in predecessors:\n",
    "            path.append(current)\n",
    "            current = predecessors[current]\n",
    "        path.append(current) # Add the start node\n",
    "\n",
    "        return path\n",
    "\n",
    "    def is_valid(self, node: Tuple[int, int]) -> bool:\n",
    "        x, y = node\n",
    "        return (0 <= x < self.wide and 0 <= y < self.tall)\n",
    "\n",
    "    def cheat(self):\n",
    "        # Calculate the distance from end position to all other positions\n",
    "        distances, predecessors = self.djikstras(self.end)\n",
    "\n",
    "        # Get optimal path\n",
    "        path = self.reconstruct_path(self.start, predecessors)\n",
    "\n",
    "        # Track savings counter\n",
    "        savings = 0\n",
    "        pico_seconds = 100\n",
    "\n",
    "        # Precompute valid two-step jumps\n",
    "        directions = [(-2, 0), (2, 0), (0, -2), (0, 2)]\n",
    "\n",
    "        for node in path:\n",
    "            current_distance = distances[node]\n",
    "\n",
    "            # Calculate two steps\n",
    "            for dx, dy in directions:\n",
    "                x, y = node\n",
    "                new_node = x + dx, y + dy\n",
    "                if new_node not in self.walls and self.is_valid(new_node):\n",
    "                    new_distance = distances[new_node] + 2\n",
    "                    delta = (current_distance - new_distance)\n",
    "                    if delta >= pico_seconds:\n",
    "                        savings += 1\n",
    "        return savings"
   ]
  },
  {
   "cell_type": "markdown",
   "metadata": {},
   "source": [
    "## Part 1"
   ]
  },
  {
   "cell_type": "code",
   "execution_count": 114,
   "metadata": {},
   "outputs": [
    {
     "name": "stdout",
     "output_type": "stream",
     "text": [
      "Answer: 1378\n"
     ]
    }
   ],
   "source": [
    "maze = Maze(walls=walls, start=start, end=end)\n",
    "savings = maze.cheat()\n",
    "print(\"Answer:\", savings)"
   ]
  },
  {
   "cell_type": "markdown",
   "metadata": {},
   "source": [
    "## Part 2"
   ]
  }
 ],
 "metadata": {
  "kernelspec": {
   "display_name": "base",
   "language": "python",
   "name": "python3"
  },
  "language_info": {
   "codemirror_mode": {
    "name": "ipython",
    "version": 3
   },
   "file_extension": ".py",
   "mimetype": "text/x-python",
   "name": "python",
   "nbconvert_exporter": "python",
   "pygments_lexer": "ipython3",
   "version": "3.11.8"
  }
 },
 "nbformat": 4,
 "nbformat_minor": 2
}
