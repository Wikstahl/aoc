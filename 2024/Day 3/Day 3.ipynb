{
 "cells": [
  {
   "cell_type": "markdown",
   "id": "54044b87-949c-4feb-bd23-47aff1f27f15",
   "metadata": {},
   "source": [
    "# Day 3"
   ]
  },
  {
   "cell_type": "markdown",
   "id": "9fd6045a-bb83-41ce-b616-5d42424982f1",
   "metadata": {},
   "source": [
    "## Part 1"
   ]
  },
  {
   "cell_type": "code",
   "execution_count": 16,
   "id": "cb6d1896-f499-429e-a760-28026010c9d0",
   "metadata": {},
   "outputs": [
    {
     "name": "stdout",
     "output_type": "stream",
     "text": [
      "Answer: 167090022\n"
     ]
    }
   ],
   "source": [
    "import re\n",
    "with open(\"data.txt\", \"r\") as f:\n",
    "    corrupted_text = f.read()\n",
    "\n",
    "# Regular expression pattern for correct `mul(integer,integer)`\n",
    "pattern = r\"mul\\((\\d+),(\\d+)\\)\"\n",
    "\n",
    "# Find all matches and directly extract the numbers\n",
    "matches = re.findall(pattern, corrupted_text)\n",
    "\n",
    "# Compute the result\n",
    "ans = sum(int(x) * int(y) for x, y in matches)\n",
    "\n",
    "# Display results\n",
    "print(\"Answer:\", ans)"
   ]
  },
  {
   "cell_type": "markdown",
   "id": "ea0d4478-f954-494c-83d7-07f162bfe3dc",
   "metadata": {},
   "source": [
    "## Part 2"
   ]
  },
  {
   "cell_type": "code",
   "execution_count": 19,
   "id": "d34014fd-8c43-439c-9356-caba0f03f7f9",
   "metadata": {},
   "outputs": [
    {
     "name": "stdout",
     "output_type": "stream",
     "text": [
      "Answer: 89823704\n"
     ]
    }
   ],
   "source": [
    "import re\n",
    "with open(\"data.txt\", \"r\") as f:\n",
    "    corrupted_text = f.read()\n",
    "\n",
    "# Regular expressions\n",
    "mul_pattern = r\"mul\\((\\d+),(\\d+)\\)\"  # Pattern for valid mul instructions\n",
    "control_pattern = r\"(do|don't)\\(\\)\"  # Pattern for do() and don't() instructions\n",
    "\n",
    "# Initialize variables\n",
    "enabled = True  # By default, mul instructions are enabled\n",
    "total = 0\n",
    "\n",
    "# Process the text\n",
    "for match in re.finditer(f\"{control_pattern}|{mul_pattern}\", corrupted_text):\n",
    "    if match.group(1): # If it matches control instructions (do() or don't())\n",
    "        if match.group(1) == \"do\":\n",
    "            enabled = True\n",
    "        elif match.group(1) == \"don't\":\n",
    "            enabled = False\n",
    "    elif enabled: # If mul(...) and currently enabled\n",
    "        x, y = map(int, match.groups()[1:])\n",
    "        total += x * y\n",
    "print(\"Answer:\", total)"
   ]
  }
 ],
 "metadata": {
  "kernelspec": {
   "display_name": "Python 3 (ipykernel)",
   "language": "python",
   "name": "python3"
  },
  "language_info": {
   "codemirror_mode": {
    "name": "ipython",
    "version": 3
   },
   "file_extension": ".py",
   "mimetype": "text/x-python",
   "name": "python",
   "nbconvert_exporter": "python",
   "pygments_lexer": "ipython3",
   "version": "3.11.7"
  }
 },
 "nbformat": 4,
 "nbformat_minor": 5
}
