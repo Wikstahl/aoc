{
 "cells": [
  {
   "cell_type": "markdown",
   "metadata": {},
   "source": [
    "# [Day 9](https://adventofcode.com/2024/day/9)"
   ]
  },
  {
   "cell_type": "markdown",
   "metadata": {},
   "source": [
    "## Part 1"
   ]
  },
  {
   "cell_type": "markdown",
   "metadata": {},
   "source": [
    "### Parse Input"
   ]
  },
  {
   "cell_type": "code",
   "execution_count": null,
   "metadata": {},
   "outputs": [
    {
     "name": "stdout",
     "output_type": "stream",
     "text": [
      "Answer: 6385338159127\n"
     ]
    }
   ],
   "source": [
    "from typing import Tuple\n",
    "from copy import deepcopy\n",
    "\n",
    "with open(\"data.txt\", \"r\") as f:\n",
    "    disk_map = f.read().replace(\"\\n\", \"\")\n",
    "    \n",
    "# Get size and space\n",
    "def get_file_block(disk_map: str, idx: int) -> Tuple[int, int]:\n",
    "    num_files = (len(disk_map) // 2) + 1\n",
    "    if idx == (num_files - 1):\n",
    "        size = disk_map[2 * idx]\n",
    "        space = 0\n",
    "    elif 0 <= idx <= (num_files - 1):\n",
    "        size = disk_map[int(2 * idx)]\n",
    "        space = disk_map[int(2 * idx + 1)]\n",
    "    else:\n",
    "        raise ValueError(f\"Index {idx} does not exist in the disk map.\")\n",
    "    return (int(size), int(space))\n",
    "\n",
    "\n",
    "def file_block_dict(disk_map: str) -> dict:\n",
    "    num_files = (len(disk_map) // 2) + 1\n",
    "    my_dict = {}\n",
    "    for i in range(num_files):\n",
    "        size, space = get_file_block(disk_map, i)\n",
    "        my_dict[i] = {\"size\": size, \"space\": space}\n",
    "    return my_dict\n",
    "\n",
    "\n",
    "disk_map_dict = file_block_dict(disk_map)"
   ]
  },
  {
   "cell_type": "code",
   "execution_count": null,
   "metadata": {},
   "outputs": [],
   "source": [
    "def file_compacting(disk_map_dict: dict) -> list:\n",
    "    new_dict = deepcopy(disk_map_dict)\n",
    "    num_files = len(new_dict)\n",
    "\n",
    "    compact = []  # initialize list\n",
    "    i = 0\n",
    "    j = num_files - 1\n",
    "    while i <= j:\n",
    "        # We check the size and space or the left-most file\n",
    "        left = new_dict[i]\n",
    "        left_size = left[\"size\"]\n",
    "        left_space = left[\"space\"]\n",
    "\n",
    "        right = new_dict[j]\n",
    "        right_size = right[\"size\"]\n",
    "        right_space = right[\"space\"]\n",
    "\n",
    "        if left_size > 0:\n",
    "            compact.extend([i] * left_size)\n",
    "            # Update size\n",
    "            new_dict[i][\"size\"] = 0\n",
    "            continue\n",
    "\n",
    "        delta = left_space - right_size\n",
    "        if delta > 0:\n",
    "            compact.extend([j] * right_size)\n",
    "            new_dict[i][\"space\"] = delta\n",
    "            new_dict[j][\"size\"] = 0\n",
    "            j -= 1\n",
    "        elif delta < 0:\n",
    "            compact.extend([j] * left_space)\n",
    "            new_dict[i][\"space\"] = 0\n",
    "            new_dict[j][\"size\"] = abs(delta)\n",
    "            i += 1\n",
    "        elif delta == 0:\n",
    "            compact.extend([j] * right_size)\n",
    "            new_dict[i][\"space\"] = delta\n",
    "            new_dict[j][\"size\"] = 0\n",
    "            i += 1\n",
    "            j -= 1\n",
    "        else:\n",
    "            raise AssertionError(\"Something Went Wrong.\")\n",
    "\n",
    "    return compact\n",
    "\n",
    "\n",
    "def filesystem_checksum(lst: list) -> float:\n",
    "    checksum = 0\n",
    "    for i, num in enumerate(lst):\n",
    "        checksum += i * num\n",
    "    return checksum\n",
    "\n",
    "compact_list = file_compacting(disk_map_dict)\n",
    "result = filesystem_checksum(compact_list)\n",
    "\n",
    "print(\"Answer:\", result)"
   ]
  },
  {
   "cell_type": "markdown",
   "metadata": {},
   "source": [
    "## Part 2"
   ]
  },
  {
   "cell_type": "code",
   "execution_count": null,
   "metadata": {},
   "outputs": [],
   "source": [
    "def file_compacting(disk_map_dict: dict) -> dict:\n",
    "    new_dict = deepcopy(disk_map_dict)\n",
    "    num_files = len(new_dict)\n",
    "\n",
    "    compact = []  # initialize list\n",
    "    i = 0\n",
    "    j = num_files - 1\n",
    "    while i <= j:\n",
    "        # We check the size and space or the left-most file\n",
    "        left = new_dict[i]\n",
    "        left_size = left[\"size\"]\n",
    "        left_space = left[\"space\"]\n",
    "\n",
    "        right = new_dict[j]\n",
    "        right_size = right[\"size\"]\n",
    "        right_space = right[\"space\"]\n",
    "\n",
    "        if left_size > 0:\n",
    "            compact.extend([i] * left_size)\n",
    "            # Update size\n",
    "            new_dict[i][\"size\"] = 0\n",
    "            continue\n",
    "\n",
    "        delta = left_space - right_size\n",
    "        if delta > 0:\n",
    "            compact.extend([j] * right_size)\n",
    "            new_dict[i][\"space\"] = delta\n",
    "            new_dict[j][\"size\"] = 0\n",
    "            j -= 1\n",
    "        elif delta < 0:\n",
    "            compact.extend([j] * left_space)\n",
    "            new_dict[i][\"space\"] = 0\n",
    "            new_dict[j][\"size\"] = abs(delta)\n",
    "            i += 1\n",
    "        elif delta == 0:\n",
    "            compact.extend([j] * right_size)\n",
    "            new_dict[i][\"space\"] = delta\n",
    "            new_dict[j][\"size\"] = 0\n",
    "            i += 1\n",
    "            j -= 1\n",
    "        else:\n",
    "            raise AssertionError(\"Something Went Wrong.\")\n",
    "\n",
    "    return new_dict\n",
    "\n",
    "\n",
    "compact_list = file_compacting(disk_map_dict)\n",
    "result = filesystem_checksum(compact_list)\n",
    "\n",
    "print(\"Answer:\", result)"
   ]
  }
 ],
 "metadata": {
  "kernelspec": {
   "display_name": "base",
   "language": "python",
   "name": "python3"
  },
  "language_info": {
   "codemirror_mode": {
    "name": "ipython",
    "version": 3
   },
   "file_extension": ".py",
   "mimetype": "text/x-python",
   "name": "python",
   "nbconvert_exporter": "python",
   "pygments_lexer": "ipython3",
   "version": "3.11.7"
  }
 },
 "nbformat": 4,
 "nbformat_minor": 2
}
