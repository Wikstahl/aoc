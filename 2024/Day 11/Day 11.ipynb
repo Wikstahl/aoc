{
 "cells": [
  {
   "cell_type": "markdown",
   "metadata": {},
   "source": [
    "# [Day 11](https://adventofcode.com/2024/day/11)"
   ]
  },
  {
   "cell_type": "markdown",
   "metadata": {},
   "source": [
    "## Part 1\n",
    "This turns out to be a non-scalable solution"
   ]
  },
  {
   "cell_type": "code",
   "execution_count": 13,
   "metadata": {
    "notebookRunGroups": {
     "groupValue": "2"
    },
    "tags": [
     "part 1"
    ]
   },
   "outputs": [
    {
     "name": "stdout",
     "output_type": "stream",
     "text": [
      "Initial stones: [112, 1110, 163902, 0, 7656027, 83039, 9, 74].\n",
      "Final number of pebbles after 25 blink(s): 183620.\n"
     ]
    }
   ],
   "source": [
    "# Read input data from the file\n",
    "with open(\"data.txt\", \"r\") as file:\n",
    "    stones = list(map(int, file.read().split()))\n",
    "print(f\"Initial stones: {stones}.\")\n",
    "\n",
    "# Number of transformations (blinks)\n",
    "num_blinks = 25\n",
    "\n",
    "for blink in range(num_blinks):\n",
    "    # print(f\"Processing blink {blink + 1}/{num_blinks}...\")\n",
    "    updated_stones = []\n",
    "    \n",
    "    for index, stone in enumerate(stones):\n",
    "        if stone == 0:\n",
    "            updated_stones.append(1)\n",
    "        elif len(str(stone)) % 2 == 0:\n",
    "            # Split the number into two halves\n",
    "            string_representation = str(stone)\n",
    "            mid_index = len(string_representation) // 2\n",
    "            first_half = int(string_representation[:mid_index])\n",
    "            second_half = int(string_representation[mid_index:])\n",
    "            updated_stones.extend([first_half, second_half])\n",
    "        else:\n",
    "            updated_stones.append(stone * 2024)\n",
    "\n",
    "    # Update the stones for the next blink\n",
    "    stones = updated_stones\n",
    "\n",
    "# Final result\n",
    "print(f\"Final number of pebbles after {num_blinks} blink(s): {len(stones)}.\")"
   ]
  },
  {
   "cell_type": "markdown",
   "metadata": {},
   "source": [
    "## Part 2"
   ]
  },
  {
   "cell_type": "code",
   "execution_count": null,
   "metadata": {},
   "outputs": [
    {
     "name": "stdout",
     "output_type": "stream",
     "text": [
      "Initial stones: [0, 2].\n"
     ]
    }
   ],
   "source": [
    "from typing import List, Dict\n",
    "\n",
    "# Read input data from the file\n",
    "with open(\"data.txt\", \"r\") as file:\n",
    "    initial_stones = list(map(int, file.read().split()))\n",
    "print(f\"Initial stones: {initial_stones}.\")\n",
    "\n",
    "def stone_evolution(num: int, remaining_blinks: int, memo: dict) -> int:\n",
    "    \"\"\"\n",
    "    Calculate how many stones a given stone evolves into after a certain number of blinks using memoization.\n",
    "    \"\"\"\n",
    "    # Memoization key\n",
    "    key = (num, remaining_blinks)\n",
    "    if key in memo:\n",
    "        return memo[key]\n",
    "\n",
    "    # Base case: no blinks remaining\n",
    "    if remaining_blinks == 0:\n",
    "        return 1\n",
    "\n",
    "    # Recursive cases based on the rules\n",
    "    if num == 0:  # Rule 1: Zero case\n",
    "        result = stone_evolution(1, remaining_blinks - 1, memo)\n",
    "    else:\n",
    "        num_str = str(num)\n",
    "        if len(num_str) % 2 == 0:  # Rule 2: Split case\n",
    "            mid = len(num_str) // 2\n",
    "            left = int(num_str[:mid])\n",
    "            right = int(num_str[mid:])\n",
    "            result = stone_evolution(left, remaining_blinks - 1, memo) + stone_evolution(right, remaining_blinks - 1, memo)\n",
    "        else:  # Rule 3: Multiplication case\n",
    "            result = stone_evolution(num * 2024, remaining_blinks - 1, memo)\n",
    "\n",
    "    # Store result in memo\n",
    "    memo[key] = result\n",
    "    return result\n",
    "\n",
    "def count_stones(initial_stones: List[int], num_blinks: int) -> int:\n",
    "    \"\"\"\n",
    "    Calculate the total number of stones after a certain number of blinks.\n",
    "    \"\"\"\n",
    "    total_stones = 0\n",
    "    memo = {}\n",
    "    \n",
    "    # Process each initial stone\n",
    "    for stone in initial_stones:\n",
    "        total_stones += stone_evolution(stone, num_blinks, memo)\n",
    "\n",
    "    return total_stones\n",
    "\n",
    "# Calculate for 75 blinks\n",
    "result = count_stones(initial_stones, 2)\n",
    "print(f\"\\nAfter 75 blinks: {result}\")"
   ]
  }
 ],
 "metadata": {
  "kernelspec": {
   "display_name": "base",
   "language": "python",
   "name": "python3"
  },
  "language_info": {
   "codemirror_mode": {
    "name": "ipython",
    "version": 3
   },
   "file_extension": ".py",
   "mimetype": "text/x-python",
   "name": "python",
   "nbconvert_exporter": "python",
   "pygments_lexer": "ipython3",
   "version": "3.11.7"
  }
 },
 "nbformat": 4,
 "nbformat_minor": 2
}
