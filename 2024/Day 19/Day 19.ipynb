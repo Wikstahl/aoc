{
 "cells": [
  {
   "cell_type": "markdown",
   "metadata": {},
   "source": [
    "# Day 19"
   ]
  },
  {
   "cell_type": "markdown",
   "metadata": {},
   "source": [
    "## Part 1"
   ]
  },
  {
   "cell_type": "markdown",
   "metadata": {},
   "source": [
    "Begin by loading data"
   ]
  },
  {
   "cell_type": "code",
   "execution_count": 29,
   "metadata": {},
   "outputs": [],
   "source": [
    "with open(\"data.txt\", \"r\") as f:\n",
    "    data = f.read().split(\"\\n\\n\")\n",
    "    patterns = set(data[0].split(\", \"))\n",
    "    designs = data[1].splitlines()"
   ]
  },
  {
   "cell_type": "markdown",
   "metadata": {},
   "source": [
    "This method os not scalable. "
   ]
  },
  {
   "cell_type": "code",
   "execution_count": 26,
   "metadata": {},
   "outputs": [
    {
     "name": "stdout",
     "output_type": "stream",
     "text": [
      "Valid designs: 6\n"
     ]
    }
   ],
   "source": [
    "def recursive_check_pattern(design: str) -> bool:\n",
    "    for pattern in patterns:\n",
    "        if design.startswith(pattern):  # Check if stripes match pattern\n",
    "            remaining_stripes = design[len(pattern):]\n",
    "            if not remaining_stripes:  # No remaining stripes\n",
    "                return True  # Valid pattern found, stop further exploration\n",
    "            if recursive_check_pattern(remaining_stripes):\n",
    "                return True  # Exit early if valid pattern is found\n",
    "    return False  # No valid pattern found for this branch\n",
    "\n",
    "valid_designs = sum(1 for design in designs if recursive_check_pattern(design))\n",
    "print(\"Valid designs:\", valid_designs)"
   ]
  },
  {
   "cell_type": "markdown",
   "metadata": {},
   "source": [
    "This method uses memoization/cache"
   ]
  },
  {
   "cell_type": "code",
   "execution_count": 31,
   "metadata": {},
   "outputs": [
    {
     "name": "stdout",
     "output_type": "stream",
     "text": [
      "Valid designs: 287\n"
     ]
    }
   ],
   "source": [
    "def can_make_design(design, memo=None):\n",
    "    \"\"\"\n",
    "    Check if a design can be made using available patterns.\n",
    "    Uses dynamic programming with memoization.\n",
    "    \"\"\"\n",
    "    if memo is None:\n",
    "        memo = {}\n",
    "\n",
    "    # Base case: empty string is always possible\n",
    "    if not design:\n",
    "        return True\n",
    "\n",
    "    # Check memoized result\n",
    "    if design in memo:\n",
    "        return memo[design]\n",
    "\n",
    "    # Try each pattern at the current position\n",
    "    for pattern in patterns:\n",
    "        # If the pattern matches the start of the design\n",
    "        if design.startswith(pattern):\n",
    "            # Recursively check if we can make the rest of the design\n",
    "            remaining = design[len(pattern) :]\n",
    "            if can_make_design(remaining, memo):\n",
    "                memo[design] = True\n",
    "                return True\n",
    "\n",
    "    # If no pattern works, this design is impossible\n",
    "    memo[design] = False\n",
    "    return False\n",
    "\n",
    "\n",
    "valid_designs = sum(1 for design in designs if can_make_design(design))\n",
    "print(\"Valid designs:\", valid_designs)"
   ]
  },
  {
   "cell_type": "markdown",
   "metadata": {},
   "source": [
    "## Part 2"
   ]
  },
  {
   "cell_type": "code",
   "execution_count": 33,
   "metadata": {},
   "outputs": [
    {
     "name": "stdout",
     "output_type": "stream",
     "text": [
      "Number of possible solutions 571894474468161\n"
     ]
    }
   ],
   "source": [
    "def can_make_design(design: str, memo=None) -> int:\n",
    "    if memo is None:\n",
    "        memo = {}\n",
    "\n",
    "    # Check if we've already solved this subproblem\n",
    "    if design in memo:\n",
    "        return memo[design]\n",
    "\n",
    "    # Base case for empty string\n",
    "    if not design:\n",
    "        return 1  # Empty string represents one valid way to build pattern\n",
    "\n",
    "    total_ways = 0\n",
    "    for pattern in patterns:\n",
    "        if design.startswith(pattern):  # Check if stripes match pattern\n",
    "            remaining_stripes = design[len(pattern):]\n",
    "            total_ways += can_make_design(remaining_stripes, memo)\n",
    "\n",
    "    memo[design] = total_ways  # Store total ways for this subproblem\n",
    "    return total_ways\n",
    "\n",
    "num_solutions = 0\n",
    "for design in designs:\n",
    "    num_solutions += can_make_design(design)\n",
    "print(f\"Number of possible solutions {num_solutions}\")"
   ]
  }
 ],
 "metadata": {
  "kernelspec": {
   "display_name": "base",
   "language": "python",
   "name": "python3"
  },
  "language_info": {
   "codemirror_mode": {
    "name": "ipython",
    "version": 3
   },
   "file_extension": ".py",
   "mimetype": "text/x-python",
   "name": "python",
   "nbconvert_exporter": "python",
   "pygments_lexer": "ipython3",
   "version": "3.11.8"
  }
 },
 "nbformat": 4,
 "nbformat_minor": 2
}
