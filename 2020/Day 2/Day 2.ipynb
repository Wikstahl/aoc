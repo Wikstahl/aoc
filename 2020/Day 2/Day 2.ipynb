{
 "cells": [
  {
   "cell_type": "code",
   "execution_count": 8,
   "id": "15f2b030",
   "metadata": {},
   "outputs": [],
   "source": [
    "data = open(\"data.txt\").read().splitlines()"
   ]
  },
  {
   "cell_type": "markdown",
   "id": "78aebfc9",
   "metadata": {},
   "source": [
    "## Part 1"
   ]
  },
  {
   "cell_type": "code",
   "execution_count": 4,
   "id": "1fba1bd9",
   "metadata": {},
   "outputs": [
    {
     "name": "stdout",
     "output_type": "stream",
     "text": [
      "2\n"
     ]
    }
   ],
   "source": [
    "valid_password = 0\n",
    "for idx,elem in enumerate(data):\n",
    "    #print(elem.split(\" \"))\n",
    "    lst = elem.split(\" \")\n",
    "    password = lst[2]\n",
    "    letter = lst[1][0]\n",
    "    #print(letter)\n",
    "    value = lst[0].split(\"-\")\n",
    "    lower = int(value[0])\n",
    "    upper = int(value[1])\n",
    "    counts = password.count(letter)\n",
    "    if counts >= lower and counts <= upper:\n",
    "        valid_password += 1\n",
    "print(valid_password)"
   ]
  },
  {
   "cell_type": "code",
   "execution_count": null,
   "id": "407d4b0f",
   "metadata": {},
   "outputs": [],
   "source": []
  },
  {
   "cell_type": "code",
   "execution_count": 5,
   "id": "cd3373d3",
   "metadata": {},
   "outputs": [
    {
     "data": {
      "text/plain": [
       "['1-3 a: abcde', '1-3 b: cdefg', '2-9 c: ccccccccc']"
      ]
     },
     "execution_count": 5,
     "metadata": {},
     "output_type": "execute_result"
    }
   ],
   "source": [
    "data"
   ]
  },
  {
   "cell_type": "markdown",
   "id": "ff55424e",
   "metadata": {},
   "source": [
    "## Part 2"
   ]
  },
  {
   "cell_type": "code",
   "execution_count": 9,
   "id": "0f2954c6",
   "metadata": {},
   "outputs": [
    {
     "name": "stdout",
     "output_type": "stream",
     "text": [
      "482\n"
     ]
    }
   ],
   "source": [
    "valid_password = 0\n",
    "for idx,elem in enumerate(data):\n",
    "    lst = elem.split(\" \")\n",
    "    password = lst[2]\n",
    "    letter = lst[1][0]\n",
    "    value = lst[0].split(\"-\")\n",
    "    lower = int(value[0])- 1\n",
    "    upper = int(value[1])- 1\n",
    "    a = (letter == password[lower])\n",
    "    b = (letter == password[upper])\n",
    "    if (a and not b) or (not a and b):\n",
    "        valid_password += 1\n",
    "print(valid_password)"
   ]
  },
  {
   "cell_type": "code",
   "execution_count": null,
   "id": "75a193df",
   "metadata": {},
   "outputs": [],
   "source": []
  }
 ],
 "metadata": {
  "kernelspec": {
   "display_name": "Python 3 (ipykernel)",
   "language": "python",
   "name": "python3"
  },
  "language_info": {
   "codemirror_mode": {
    "name": "ipython",
    "version": 3
   },
   "file_extension": ".py",
   "mimetype": "text/x-python",
   "name": "python",
   "nbconvert_exporter": "python",
   "pygments_lexer": "ipython3",
   "version": "3.9.7"
  }
 },
 "nbformat": 4,
 "nbformat_minor": 5
}
