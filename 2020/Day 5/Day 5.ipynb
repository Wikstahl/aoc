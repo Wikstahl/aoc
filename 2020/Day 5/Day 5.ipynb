{
 "cells": [
  {
   "cell_type": "code",
   "execution_count": 46,
   "id": "9046e2cb",
   "metadata": {},
   "outputs": [],
   "source": [
    "data = open(\"data.txt\").read().splitlines()"
   ]
  },
  {
   "cell_type": "markdown",
   "id": "6b1da034",
   "metadata": {},
   "source": [
    "## Part 1"
   ]
  },
  {
   "cell_type": "code",
   "execution_count": 56,
   "id": "9b431450",
   "metadata": {},
   "outputs": [
    {
     "name": "stdout",
     "output_type": "stream",
     "text": [
      "Highest seat id is 987\n"
     ]
    }
   ],
   "source": [
    "# Initialize highest seat ID to 0\n",
    "highest_seat_id = 0\n",
    "\n",
    "for bsp in data:\n",
    "    # Split binary seat position (bsp) into rows and cols\n",
    "    rows = bsp[:7]\n",
    "    cols = bsp[-3:]\n",
    "    \n",
    "    # Initial upper and lower bound for rows\n",
    "    ub_rows = 127\n",
    "    lb_rows = 0\n",
    "\n",
    "    # Initial upper and lower bound for columns\n",
    "    ub_cols = 7\n",
    "    lb_cols = 0\n",
    "    \n",
    "    # Find the row\n",
    "    for x in rows:\n",
    "        midway = (ub_rows + lb_rows) // 2\n",
    "        if x == \"F\":\n",
    "            ub_rows = midway \n",
    "        if x == \"B\":    \n",
    "            lb_rows = midway + 1\n",
    "\n",
    "    # Find the column\n",
    "    for x in cols:\n",
    "        midway = (ub_cols + lb_cols) // 2\n",
    "        if x == \"L\":\n",
    "            ub_cols = midway \n",
    "        if x == \"R\":    \n",
    "            lb_cols = midway + 1\n",
    "\n",
    "    # This is the seat position\n",
    "    row = lb_rows\n",
    "    col = lb_cols\n",
    "\n",
    "    # This is the seat ID\n",
    "    seat_id = 8 * row + col\n",
    "    \n",
    "    # Update highest seat ID\n",
    "    if seat_id > highest_seat_id:\n",
    "        highest_seat_id = seat_id\n",
    "        \n",
    "print(\"Highest seat id is\",highest_seat_id)"
   ]
  },
  {
   "cell_type": "markdown",
   "id": "b8ab919a",
   "metadata": {},
   "source": [
    "## Part 2"
   ]
  },
  {
   "cell_type": "code",
   "execution_count": 67,
   "id": "10f2d7c4",
   "metadata": {},
   "outputs": [
    {
     "name": "stdout",
     "output_type": "stream",
     "text": [
      "Your seat ID is 603\n"
     ]
    }
   ],
   "source": [
    "# Initialize highest seat ID to 0\n",
    "seat_ids = []\n",
    "\n",
    "for bsp in data:\n",
    "    # Split binary seat position (bsp) into rows and cols\n",
    "    rows = bsp[:7]\n",
    "    cols = bsp[-3:]\n",
    "    \n",
    "    # Initial upper and lower bound for rows\n",
    "    ub_rows = 127\n",
    "    lb_rows = 0\n",
    "\n",
    "    # Initial upper and lower bound for columns\n",
    "    ub_cols = 7\n",
    "    lb_cols = 0\n",
    "    \n",
    "    # Find the row\n",
    "    for x in rows:\n",
    "        midway = (ub_rows + lb_rows) // 2\n",
    "        if x == \"F\":\n",
    "            ub_rows = midway \n",
    "        if x == \"B\":    \n",
    "            lb_rows = midway + 1\n",
    "\n",
    "    # Find the column\n",
    "    for x in cols:\n",
    "        midway = (ub_cols + lb_cols) // 2\n",
    "        if x == \"L\":\n",
    "            ub_cols = midway \n",
    "        if x == \"R\":    \n",
    "            lb_cols = midway + 1\n",
    "\n",
    "    # This is the seat position\n",
    "    row = lb_rows\n",
    "    col = lb_cols\n",
    "\n",
    "    # This is the seat ID\n",
    "    seat_id = 8 * row + col\n",
    "    \n",
    "    # Add seat ID to list with all the seat IDs\n",
    "    seat_ids.append(seat_id)\n",
    "    \n",
    "\"\"\"Find the missing seat\"\"\"\n",
    "\n",
    "# Sort the seats\n",
    "seat_ids.sort()\n",
    "\n",
    "for idx,_ in enumerate(seat_ids):\n",
    "    if (seat_ids[idx]+1) != seat_ids[idx+1]:\n",
    "        print(\"Your seat ID is\", seat_ids[idx]+1)\n",
    "        break"
   ]
  }
 ],
 "metadata": {
  "kernelspec": {
   "display_name": "Python 3 (ipykernel)",
   "language": "python",
   "name": "python3"
  },
  "language_info": {
   "codemirror_mode": {
    "name": "ipython",
    "version": 3
   },
   "file_extension": ".py",
   "mimetype": "text/x-python",
   "name": "python",
   "nbconvert_exporter": "python",
   "pygments_lexer": "ipython3",
   "version": "3.9.9"
  }
 },
 "nbformat": 4,
 "nbformat_minor": 5
}
