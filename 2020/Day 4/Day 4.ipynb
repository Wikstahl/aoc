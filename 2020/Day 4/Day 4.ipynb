{
 "cells": [
  {
   "cell_type": "markdown",
   "id": "400e5d05",
   "metadata": {},
   "source": [
    "Format data"
   ]
  },
  {
   "cell_type": "code",
   "execution_count": 8,
   "id": "b2bcf36f",
   "metadata": {},
   "outputs": [],
   "source": [
    "import re\n",
    "data = open(\"data.txt\").read().split(\"\\n\\n\")\n",
    "\n",
    "keys = [\"byr\", \"iyr\", \"eyr\", \"hgt\", \"hcl\", \"ecl\", \"pid\", \"cid\"]\n",
    "values = [None] * len(keys)\n",
    "\n",
    "passports = []\n",
    "for passport in data:\n",
    "    init_dict = dict(zip(keys, values))\n",
    "    passport = [txt.split(\":\") for txt in re.split(\" |\\n\", passport)]\n",
    "    for key, val in passport:\n",
    "        init_dict[key] = val\n",
    "    passports.append(init_dict)"
   ]
  },
  {
   "cell_type": "code",
   "execution_count": 9,
   "id": "05f11a33",
   "metadata": {},
   "outputs": [],
   "source": [
    "def check_passport(passport):\n",
    "    opts = [\"cid\"] # optional keys\n",
    "    for key in keys:\n",
    "        if passport[key] is None and key not in opts:\n",
    "            return False\n",
    "    # if it passes all tests\n",
    "    return True"
   ]
  },
  {
   "cell_type": "code",
   "execution_count": 10,
   "id": "afa976f8",
   "metadata": {},
   "outputs": [
    {
     "name": "stdout",
     "output_type": "stream",
     "text": [
      "200\n"
     ]
    }
   ],
   "source": [
    "num_val = 0\n",
    "for idx, passport in enumerate(passports):\n",
    "    if check_passport(passport):\n",
    "        num_val += 1\n",
    "print(num_val)"
   ]
  },
  {
   "cell_type": "markdown",
   "id": "d39d0600",
   "metadata": {},
   "source": [
    "## Part 2"
   ]
  },
  {
   "cell_type": "markdown",
   "id": "7f625976",
   "metadata": {},
   "source": [
    "\n",
    "    byr (Birth Year) - four digits; at least 1920 and at most 2002.\n",
    "    iyr (Issue Year) - four digits; at least 2010 and at most 2020.\n",
    "    eyr (Expiration Year) - four digits; at least 2020 and at most 2030.\n",
    "    hgt (Height) - a number followed by either cm or in:\n",
    "        If cm, the number must be at least 150 and at most 193.\n",
    "        If in, the number must be at least 59 and at most 76.\n",
    "    hcl (Hair Color) - a # followed by exactly six characters 0-9 or a-f.\n",
    "    ecl (Eye Color) - exactly one of: amb blu brn gry grn hzl oth.\n",
    "    pid (Passport ID) - a nine-digit number, including leading zeroes.\n",
    "    cid (Country ID) - ignored, missing or not.\n"
   ]
  },
  {
   "cell_type": "code",
   "execution_count": 11,
   "id": "b15ab006",
   "metadata": {},
   "outputs": [
    {
     "data": {
      "text/plain": [
       "'in'"
      ]
     },
     "execution_count": 11,
     "metadata": {},
     "output_type": "execute_result"
    }
   ],
   "source": [
    "passports[1][\"hgt\"][-2:]"
   ]
  },
  {
   "cell_type": "markdown",
   "id": "3774ff69",
   "metadata": {},
   "source": [
    "Tests"
   ]
  },
  {
   "cell_type": "code",
   "execution_count": 32,
   "id": "f3d1fc3e",
   "metadata": {},
   "outputs": [],
   "source": [
    "def byr(x):\n",
    "    if x is None:\n",
    "        return False\n",
    "    elif len(x) == 4 and float(x) >= 1920 and float(x) <= 2020:\n",
    "        return True\n",
    "    else:\n",
    "        return False\n",
    "    \n",
    "def iyr(x):\n",
    "    if x is None:\n",
    "        return False\n",
    "    elif len(x) == 4 and float(x) >= 2010 and float(x) <= 2020:\n",
    "        return True\n",
    "    else:\n",
    "        return False\n",
    "    \n",
    "def eyr(x):\n",
    "    if x is None:\n",
    "        return False\n",
    "    elif len(x) == 4 and float(x) >= 2020 and float(x) <= 2030:\n",
    "        return True\n",
    "    else:\n",
    "        return False\n",
    "    \n",
    "def hgt(x):\n",
    "    if x is None:\n",
    "        return False\n",
    "    elif x[-2:] == 'cm' and float(x[:2]) >= 150 and float(x[:2]) <= 193:\n",
    "        return True\n",
    "    elif x[-2:] == 'in' and float(x[:2]) >= 59 and float(x[:2]) <= 76:\n",
    "        return True\n",
    "    else:\n",
    "        return False\n",
    "    \n",
    "def hcl(x):\n",
    "    if x is None:\n",
    "        return False\n",
    "    elif x[-2:] == 'cm' and float(x[:2]) >= 150 and float(x[:2]) <= 193:\n",
    "        return False"
   ]
  },
  {
   "cell_type": "code",
   "execution_count": 33,
   "id": "62500b30",
   "metadata": {
    "slideshow": {
     "slide_type": "-"
    }
   },
   "outputs": [],
   "source": [
    "def check_passport(passport):   \n",
    "    tests = [byr(passport[\"byr\"]),\n",
    "             iyr(passport[\"iyr\"]),\n",
    "             eyr(passport[\"iyr\"]),\n",
    "             hgt(passport[\"hgt\"])]\n",
    "        \n",
    "    # if it passes all tests\n",
    "    return all(tests)"
   ]
  },
  {
   "cell_type": "code",
   "execution_count": 34,
   "id": "e3b8fa87",
   "metadata": {},
   "outputs": [
    {
     "data": {
      "text/plain": [
       "False"
      ]
     },
     "execution_count": 34,
     "metadata": {},
     "output_type": "execute_result"
    }
   ],
   "source": [
    "check_passport(passports[0])"
   ]
  },
  {
   "cell_type": "code",
   "execution_count": 30,
   "id": "a4b5c1ba",
   "metadata": {},
   "outputs": [
    {
     "data": {
      "text/plain": [
       "True"
      ]
     },
     "execution_count": 30,
     "metadata": {},
     "output_type": "execute_result"
    }
   ],
   "source": [
    "byr(passports[0]['byr'])"
   ]
  },
  {
   "cell_type": "code",
   "execution_count": 24,
   "id": "573b76d5",
   "metadata": {},
   "outputs": [
    {
     "data": {
      "text/plain": [
       "1937"
      ]
     },
     "execution_count": 24,
     "metadata": {},
     "output_type": "execute_result"
    }
   ],
   "source": [
    "int(passports[0]['byr'])"
   ]
  },
  {
   "cell_type": "code",
   "execution_count": null,
   "id": "429de0e0",
   "metadata": {},
   "outputs": [],
   "source": []
  }
 ],
 "metadata": {
  "kernelspec": {
   "display_name": "Python 3 (ipykernel)",
   "language": "python",
   "name": "python3"
  },
  "language_info": {
   "codemirror_mode": {
    "name": "ipython",
    "version": 3
   },
   "file_extension": ".py",
   "mimetype": "text/x-python",
   "name": "python",
   "nbconvert_exporter": "python",
   "pygments_lexer": "ipython3",
   "version": "3.9.9"
  }
 },
 "nbformat": 4,
 "nbformat_minor": 5
}
