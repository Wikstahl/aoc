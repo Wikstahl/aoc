{
 "cells": [
  {
   "cell_type": "code",
   "execution_count": 58,
   "id": "0411f067",
   "metadata": {},
   "outputs": [],
   "source": [
    "slope = open(\"data.txt\").read().splitlines()"
   ]
  },
  {
   "cell_type": "markdown",
   "id": "23327919",
   "metadata": {},
   "source": [
    "## Part 1"
   ]
  },
  {
   "cell_type": "code",
   "execution_count": 60,
   "id": "d06a3e3b",
   "metadata": {},
   "outputs": [
    {
     "name": "stdout",
     "output_type": "stream",
     "text": [
      "292\n"
     ]
    }
   ],
   "source": [
    "trees = 0\n",
    "height = len(slope) # height of slope\n",
    "x = 0; y = 0 # start position\n",
    "while y < (height-1):\n",
    "    x += 3\n",
    "    y += 1\n",
    "    row = slope[y] * (x // width + 1)\n",
    "    item = row[x]\n",
    "    if item == \"#\":\n",
    "        trees += 1\n",
    "print(trees)"
   ]
  },
  {
   "cell_type": "markdown",
   "id": "6bad3814",
   "metadata": {},
   "source": [
    "## Part 2"
   ]
  },
  {
   "cell_type": "code",
   "execution_count": 61,
   "id": "6d8b4bbb",
   "metadata": {},
   "outputs": [],
   "source": [
    "def traverse(x_step, y_step):\n",
    "    height = len(slope) # height of slope\n",
    "    trees = 0\n",
    "    # start position\n",
    "    x = 0; y = 0\n",
    "    while y < (height-1):\n",
    "        x += x_step\n",
    "        y += y_step\n",
    "        row = slope[y] * (x // width + 1)\n",
    "        item = row[x]\n",
    "        if item == \"#\":\n",
    "            trees += 1\n",
    "    return trees"
   ]
  },
  {
   "cell_type": "code",
   "execution_count": 65,
   "id": "880cf1c6",
   "metadata": {},
   "outputs": [
    {
     "name": "stdout",
     "output_type": "stream",
     "text": [
      "9354744432\n"
     ]
    }
   ],
   "source": [
    "steps = [(1,1),(3,1),(5,1),(7,1),(1,2)]\n",
    "trees = 1\n",
    "for x_step, y_step in steps:\n",
    "    trees = trees*traverse(x_step,y_step)\n",
    "print(trees)"
   ]
  }
 ],
 "metadata": {
  "kernelspec": {
   "display_name": "Python 3 (ipykernel)",
   "language": "python",
   "name": "python3"
  },
  "language_info": {
   "codemirror_mode": {
    "name": "ipython",
    "version": 3
   },
   "file_extension": ".py",
   "mimetype": "text/x-python",
   "name": "python",
   "nbconvert_exporter": "python",
   "pygments_lexer": "ipython3",
   "version": "3.9.7"
  }
 },
 "nbformat": 4,
 "nbformat_minor": 5
}
