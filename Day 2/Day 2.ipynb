{
 "cells": [
  {
   "cell_type": "code",
   "execution_count": 1,
   "id": "1dd8c3f0",
   "metadata": {},
   "outputs": [],
   "source": [
    "data = open('data.txt').read().splitlines()"
   ]
  },
  {
   "cell_type": "markdown",
   "id": "1316a257",
   "metadata": {},
   "source": [
    "## Part 1"
   ]
  },
  {
   "cell_type": "code",
   "execution_count": 2,
   "id": "2273661a",
   "metadata": {},
   "outputs": [
    {
     "name": "stdout",
     "output_type": "stream",
     "text": [
      "1693300\n"
     ]
    }
   ],
   "source": [
    "depth = 0 \n",
    "horizontal = 0\n",
    "for command in data:\n",
    "    step, value = command.split(' ')\n",
    "    value = int(value)\n",
    "    if step == 'forward':\n",
    "        horizontal += value\n",
    "    if step == 'down':\n",
    "        depth += value\n",
    "    if step == 'up':\n",
    "        depth -= value\n",
    "print(depth*horizontal)"
   ]
  },
  {
   "cell_type": "markdown",
   "id": "852c3530",
   "metadata": {},
   "source": [
    "## Part 2"
   ]
  },
  {
   "cell_type": "code",
   "execution_count": 5,
   "id": "4047d05c",
   "metadata": {},
   "outputs": [
    {
     "name": "stdout",
     "output_type": "stream",
     "text": [
      "1857958050\n"
     ]
    }
   ],
   "source": [
    "depth = 0 \n",
    "horizontal = 0\n",
    "aim = 0\n",
    "for command in data:\n",
    "    step, value = command.split(' ')\n",
    "    value = int(value)\n",
    "    if step == 'forward':\n",
    "        horizontal += value\n",
    "        depth += aim*value\n",
    "    if step == 'down':\n",
    "        aim += value\n",
    "    if step == 'up':\n",
    "        aim -= value\n",
    "print(depth*horizontal)"
   ]
  }
 ],
 "metadata": {
  "kernelspec": {
   "display_name": "Python 3 (ipykernel)",
   "language": "python",
   "name": "python3"
  },
  "language_info": {
   "codemirror_mode": {
    "name": "ipython",
    "version": 3
   },
   "file_extension": ".py",
   "mimetype": "text/x-python",
   "name": "python",
   "nbconvert_exporter": "python",
   "pygments_lexer": "ipython3",
   "version": "3.9.7"
  }
 },
 "nbformat": 4,
 "nbformat_minor": 5
}
