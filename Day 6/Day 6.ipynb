{
 "cells": [
  {
   "cell_type": "code",
   "execution_count": 127,
   "metadata": {},
   "outputs": [],
   "source": [
    "import numpy as np\n",
    "from collections import deque"
   ]
  },
  {
   "cell_type": "code",
   "execution_count": 128,
   "metadata": {},
   "outputs": [],
   "source": [
    "data = open('data.txt').read().split(',')\n",
    "data = list(map(int, data))"
   ]
  },
  {
   "cell_type": "code",
   "execution_count": 129,
   "metadata": {},
   "outputs": [
    {
     "data": {
      "text/plain": [
       "1681503251694"
      ]
     },
     "execution_count": 129,
     "metadata": {},
     "output_type": "execute_result"
    }
   ],
   "source": [
    "counts = deque([])\n",
    "for i in range(10):\n",
    "    counts.append(data.count(i))\n",
    "\n",
    "days = 256\n",
    "for day in range(days):\n",
    "    \"\"\"\n",
    "    Each day, a 0 becomes a 6 and adds a \n",
    "    new 8 to the end of the list, \n",
    "    while each other number decreases by 1 \n",
    "    if it was present at the start of the day.\n",
    "    \"\"\"\n",
    "    counts[-3] += counts[0] # make 0 a 7\n",
    "    counts[-1] += counts[0] # add 9 to the end of the list\n",
    "    counts[0] = 0 # reset\n",
    "    counts.rotate(-1)\n",
    "\n",
    "sum(counts)"
   ]
  }
 ],
 "metadata": {
  "kernelspec": {
   "display_name": "Python 3",
   "language": "python",
   "name": "python3"
  },
  "language_info": {
   "codemirror_mode": {
    "name": "ipython",
    "version": 3
   },
   "file_extension": ".py",
   "mimetype": "text/x-python",
   "name": "python",
   "nbconvert_exporter": "python",
   "pygments_lexer": "ipython3",
   "version": "3.7.7"
  }
 },
 "nbformat": 4,
 "nbformat_minor": 5
}
