{
 "cells": [
  {
   "cell_type": "code",
   "execution_count": 82,
   "id": "e82a4454",
   "metadata": {},
   "outputs": [],
   "source": [
    "def read_data(file):\n",
    "    data = open(file).read().split('\\n')\n",
    "    #data.remove('')\n",
    "    data = map(int, data)\n",
    "    return list(data)"
   ]
  },
  {
   "cell_type": "code",
   "execution_count": 83,
   "id": "bbe4da6b",
   "metadata": {},
   "outputs": [],
   "source": [
    "data = read_data('data.txt')"
   ]
  },
  {
   "cell_type": "markdown",
   "id": "e957eeee",
   "metadata": {},
   "source": [
    "## Part 1"
   ]
  },
  {
   "cell_type": "code",
   "execution_count": 84,
   "id": "e2d289d3",
   "metadata": {},
   "outputs": [],
   "source": [
    "num_inc = 0 # number of times number increase\n",
    "for idx in range(len(data)-1):\n",
    "    if data[idx+1] > data[idx]:\n",
    "        num_inc += 1"
   ]
  },
  {
   "cell_type": "code",
   "execution_count": 85,
   "id": "f11754d8",
   "metadata": {},
   "outputs": [
    {
     "data": {
      "text/plain": [
       "1316"
      ]
     },
     "execution_count": 85,
     "metadata": {},
     "output_type": "execute_result"
    }
   ],
   "source": [
    "num_inc"
   ]
  },
  {
   "cell_type": "markdown",
   "id": "42fc58e6",
   "metadata": {},
   "source": [
    "## Part 2"
   ]
  },
  {
   "cell_type": "code",
   "execution_count": 88,
   "id": "6ae3c252",
   "metadata": {},
   "outputs": [
    {
     "data": {
      "text/plain": [
       "1344"
      ]
     },
     "execution_count": 88,
     "metadata": {},
     "output_type": "execute_result"
    }
   ],
   "source": [
    "num_inc = 0\n",
    "for idx in range(len(data)-3):\n",
    "    if sum(data[idx+1:idx+4]) > sum(data[idx:idx+3]):\n",
    "        num_inc += 1\n",
    "num_inc"
   ]
  },
  {
   "cell_type": "markdown",
   "id": "12e50129",
   "metadata": {},
   "source": [
    "# Guess\n",
    "1413\n",
    "1412"
   ]
  }
 ],
 "metadata": {
  "kernelspec": {
   "display_name": "Python 3 (ipykernel)",
   "language": "python",
   "name": "python3"
  },
  "language_info": {
   "codemirror_mode": {
    "name": "ipython",
    "version": 3
   },
   "file_extension": ".py",
   "mimetype": "text/x-python",
   "name": "python",
   "nbconvert_exporter": "python",
   "pygments_lexer": "ipython3",
   "version": "3.9.7"
  }
 },
 "nbformat": 4,
 "nbformat_minor": 5
}
