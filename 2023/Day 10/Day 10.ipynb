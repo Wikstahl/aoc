{
 "cells": [
  {
   "cell_type": "markdown",
   "metadata": {},
   "source": [
    "# Day 10: Pipe Maze\n",
    "\n",
    "[https://adventofcode.com/2023/day/10](https://adventofcode.com/2023/day/10)\n",
    "\n",
    "## Description\n",
    "\n",
    "### Part One\n",
    "\n",
    "You use the hang glider to ride the hot air from Desert Island all the way up to the floating metal island. This island is surprisingly cold and there definitely aren't any thermals to glide on, so you leave your hang glider behind.\n",
    "\n",
    "You wander around for a while, but you don't find any people or animals. However, you do occasionally find signposts labeled \"[Hot Springs](https://en.wikipedia.org/wiki/Hot_spring)\" pointing in a seemingly consistent direction; maybe you can find someone at the hot springs and ask them where the desert-machine parts are made.\n",
    "\n",
    "The landscape here is alien; even the flowers and trees are made of metal. As you stop to admire some metal grass, you notice something metallic scurry away in your peripheral vision and jump into a big pipe! It didn't look like any animal you've ever seen; if you want a better look, you'll need to get ahead of it.\n",
    "\n",
    "Scanning the area, you discover that the entire field you're standing on is <span title=\"Manufactured by Hamilton and Hilbert Pipe Company\">densely packed with pipes</span>; it was hard to tell at first because they're the same metallic silver color as the \"ground\". You make a quick sketch of all of the surface pipes you can see (your puzzle input).\n",
    "\n",
    "The pipes are arranged in a two-dimensional grid of _tiles_:\n",
    "\n",
    "*   `|` is a _vertical pipe_ connecting north and south.\n",
    "*   `-` is a _horizontal pipe_ connecting east and west.\n",
    "*   `L` is a _90-degree bend_ connecting north and east.\n",
    "*   `J` is a _90-degree bend_ connecting north and west.\n",
    "*   `7` is a _90-degree bend_ connecting south and west.\n",
    "*   `F` is a _90-degree bend_ connecting south and east.\n",
    "*   `.` is _ground_; there is no pipe in this tile.\n",
    "*   `S` is the _starting position_ of the animal; there is a pipe on this tile, but your sketch doesn't show what shape the pipe has.\n",
    "\n",
    "Based on the acoustics of the animal's scurrying, you're confident the pipe that contains the animal is _one large, continuous loop_.\n",
    "\n",
    "For example, here is a square loop of pipe:\n",
    "\n",
    "    .....\n",
    "    .F-7.\n",
    "    .|.|.\n",
    "    .L-J.\n",
    "    .....\n",
    "    \n",
    "\n",
    "If the animal had entered this loop in the northwest corner, the sketch would instead look like this:\n",
    "\n",
    "    .....\n",
    "    .S-7.\n",
    "    .|.|.\n",
    "    .L-J.\n",
    "    .....\n",
    "    \n",
    "\n",
    "In the above diagram, the `S` tile is still a 90-degree `F` bend: you can tell because of how the adjacent pipes connect to it.\n",
    "\n",
    "Unfortunately, there are also many pipes that _aren't connected to the loop_! This sketch shows the same loop as above:\n",
    "\n",
    "    -L|F7\n",
    "    7S-7|\n",
    "    L|7||\n",
    "    -L-J|\n",
    "    L|-JF\n",
    "    \n",
    "\n",
    "In the above diagram, you can still figure out which pipes form the main loop: they're the ones connected to `S`, pipes those pipes connect to, pipes _those_ pipes connect to, and so on. Every pipe in the main loop connects to its two neighbors (including `S`, which will have exactly two pipes connecting to it, and which is assumed to connect back to those two pipes).\n",
    "\n",
    "Here is a sketch that contains a slightly more complex main loop:\n",
    "\n",
    "    ..F7.\n",
    "    .FJ|.\n",
    "    SJ.L7\n",
    "    |F--J\n",
    "    LJ...\n",
    "    \n",
    "\n",
    "Here's the same example sketch with the extra, non-main-loop pipe tiles also shown:\n",
    "\n",
    "    7-F7-\n",
    "    .FJ|7\n",
    "    SJLL7\n",
    "    |F--J\n",
    "    LJ.LJ\n",
    "    \n",
    "\n",
    "If you want to _get out ahead of the animal_, you should find the tile in the loop that is _farthest_ from the starting position. Because the animal is in the pipe, it doesn't make sense to measure this by direct distance. Instead, you need to find the tile that would take the longest number of steps _along the loop_ to reach from the starting point - regardless of which way around the loop the animal went.\n",
    "\n",
    "In the first example with the square loop:\n",
    "\n",
    "    .....\n",
    "    .S-7.\n",
    "    .|.|.\n",
    "    .L-J.\n",
    "    .....\n",
    "    \n",
    "\n",
    "You can count the distance each tile in the loop is from the starting point like this:\n",
    "\n",
    "    .....\n",
    "    .012.\n",
    "    .1.3.\n",
    "    .234.\n",
    "    .....\n",
    "    \n",
    "\n",
    "In this example, the farthest point from the start is _`4`_ steps away.\n",
    "\n",
    "Here's the more complex loop again:\n",
    "\n",
    "    ..F7.\n",
    "    .FJ|.\n",
    "    SJ.L7\n",
    "    |F--J\n",
    "    LJ...\n",
    "    \n",
    "\n",
    "Here are the distances for each tile on that loop:\n",
    "\n",
    "    ..45.\n",
    "    .236.\n",
    "    01.78\n",
    "    14567\n",
    "    23...\n",
    "    \n",
    "\n",
    "Find the single giant loop starting at `S`. _How many steps along the loop does it take to get from the starting position to the point farthest from the starting position?_"
   ]
  },
  {
   "cell_type": "markdown",
   "metadata": {},
   "source": [
    "#### Solution"
   ]
  },
  {
   "cell_type": "markdown",
   "metadata": {},
   "source": [
    "The plan is to make it a graph and then from the start node find then use breadth first search to find the maximum distance"
   ]
  },
  {
   "cell_type": "code",
   "execution_count": 8,
   "metadata": {},
   "outputs": [
    {
     "data": {
      "text/plain": [
       "['.....', '.S-7.', '.|.|.', '.L-J.', '.....']"
      ]
     },
     "execution_count": 8,
     "metadata": {},
     "output_type": "execute_result"
    }
   ],
   "source": [
    "tiles = open(\"data.txt\").read().splitlines()\n",
    "tiles"
   ]
  },
  {
   "cell_type": "code",
   "execution_count": null,
   "metadata": {},
   "outputs": [],
   "source": [
    "[1] F. Tennie and T. Palmer, Quantum Computers for Weather and Climate Prediction: The Good, the Bad and the Noisy, Bulletin of the American Meteorological Society 104, E488 (2023)."
   ]
  },
  {
   "cell_type": "markdown",
   "metadata": {},
   "source": [
    "The plan is to make it a graph and then from the start node find then use breadth first search to find the maximum distance"
   ]
  }
 ],
 "metadata": {
  "kernelspec": {
   "display_name": "env",
   "language": "python",
   "name": "python3"
  },
  "language_info": {
   "codemirror_mode": {
    "name": "ipython",
    "version": 3
   },
   "file_extension": ".py",
   "mimetype": "text/x-python",
   "name": "python",
   "nbconvert_exporter": "python",
   "pygments_lexer": "ipython3",
   "version": "3.9.17"
  }
 },
 "nbformat": 4,
 "nbformat_minor": 2
}
