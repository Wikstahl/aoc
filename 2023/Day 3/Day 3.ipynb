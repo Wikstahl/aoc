{
 "cells": [
  {
   "cell_type": "markdown",
   "metadata": {},
   "source": [
    "# Day 3: Gear Ratios\n",
    "\n",
    "[https://adventofcode.com/2023/day/3](https://adventofcode.com/2023/day/3)\n",
    "\n",
    "## Description\n",
    "\n",
    "### Part One\n",
    "\n",
    "You and the Elf eventually reach a [gondola lift](https://en.wikipedia.org/wiki/Gondola_lift) station; he says the gondola lift will take you up to the _water source_, but this is as far as he can bring you. You go inside.\n",
    "\n",
    "It doesn't take long to find the gondolas, but there seems to be a problem: they're not moving.\n",
    "\n",
    "\"Aaah!\"\n",
    "\n",
    "You turn around to see a slightly-greasy Elf with a wrench and a look of surprise. \"Sorry, I wasn't expecting anyone! The gondola lift isn't working right now; it'll still be a while before I can fix it.\" You offer to help.\n",
    "\n",
    "The engineer explains that an engine part seems to be missing from the engine, but nobody can figure out which one. If you can _add up all the part numbers_ in the engine schematic, it should be easy to work out which part is missing.\n",
    "\n",
    "The engine schematic (your puzzle input) consists of a visual representation of the engine. There are lots of numbers and symbols you don't really understand, but apparently _any number adjacent to a symbol_, even diagonally, is a \"part number\" and should be included in your sum. (Periods (`.`) do not count as a symbol.)\n",
    "\n",
    "Here is an example engine schematic:\n",
    "\n",
    "    467..114..\n",
    "    ...*......\n",
    "    ..35..633.\n",
    "    ......#...\n",
    "    617*......\n",
    "    .....+.58.\n",
    "    ..592.....\n",
    "    ......755.\n",
    "    ...$.*....\n",
    "    .664.598..\n",
    "    \n",
    "\n",
    "In this schematic, two numbers are _not_ part numbers because they are not adjacent to a symbol: `114` (top right) and `58` (middle right). Every other number is adjacent to a symbol and so _is_ a part number; their sum is _`4361`_.\n",
    "\n",
    "Of course, the actual engine schematic is much larger. _What is the sum of all of the part numbers in the engine schematic?_"
   ]
  },
  {
   "cell_type": "code",
   "execution_count": 278,
   "metadata": {},
   "outputs": [],
   "source": [
    "engine_schematic = open(\"data.txt\").read().split()"
   ]
  },
  {
   "cell_type": "code",
   "execution_count": 279,
   "metadata": {},
   "outputs": [],
   "source": [
    "def parse_schematic(schematic: list):\n",
    "    number_positions = {}\n",
    "    symbol_positions = []\n",
    "\n",
    "    for row, line in enumerate(schematic):\n",
    "        col = 0\n",
    "        while col < len(line):\n",
    "            char = line[col]\n",
    "            if char.isdigit():\n",
    "                # Start of a number\n",
    "                start = col\n",
    "                while col < len(line) and line[col].isdigit():\n",
    "                    col += 1\n",
    "                end = col - 1\n",
    "                number = line[start:col]\n",
    "                # Check if the number is already in the dict and append the position if it is\n",
    "                if number in number_positions:\n",
    "                    number_positions[number].append((row, start, end))\n",
    "                else:\n",
    "                    number_positions[number] = [(row, start, end)]\n",
    "            elif char == \".\":\n",
    "                # Skip '.'\n",
    "                col += 1\n",
    "            else:\n",
    "                # Position of a symbol\n",
    "                symbol_positions.append((row, col))\n",
    "                col += 1\n",
    "\n",
    "    return number_positions, symbol_positions"
   ]
  },
  {
   "cell_type": "code",
   "execution_count": 280,
   "metadata": {},
   "outputs": [],
   "source": [
    "# Parsing the schematic\n",
    "number_positions_dict, symbol_positions_list = parse_schematic(engine_schematic)"
   ]
  },
  {
   "cell_type": "code",
   "execution_count": 283,
   "metadata": {},
   "outputs": [],
   "source": [
    "def find_adjacent_numbers_to_symbols(number_positions, symbol_positions, rows, cols):\n",
    "    adjacent_numbers = []\n",
    "\n",
    "    # Function to check if a number is adjacent to a symbol\n",
    "    def is_adjacent(number_pos, symbol_pos):\n",
    "        num_row, num_start_col, num_end_col = number_pos\n",
    "        sym_row, sym_col = symbol_pos\n",
    "\n",
    "        # Check if symbol is in a row adjacent (or same) to the number\n",
    "        if sym_row in range(max(0, num_row - 1), min(rows, num_row + 2)):\n",
    "            # Check if symbol is in a column adjacent (or same) to the number\n",
    "            if sym_col in range(max(0, num_start_col - 1), min(cols, num_end_col + 2)):\n",
    "                return True\n",
    "        return False\n",
    "\n",
    "    # Check each number against each symbol position\n",
    "    for number, num_pos_list in number_positions.items():\n",
    "        for num_pos in num_pos_list:\n",
    "            for sym_pos in symbol_positions:\n",
    "                if is_adjacent(num_pos, sym_pos):\n",
    "                    adjacent_numbers.append(number)\n",
    "                    break  # No need to check other positions\n",
    "\n",
    "    return adjacent_numbers"
   ]
  },
  {
   "cell_type": "code",
   "execution_count": 284,
   "metadata": {},
   "outputs": [
    {
     "name": "stdout",
     "output_type": "stream",
     "text": [
      "Answer #1: 507214\n"
     ]
    }
   ],
   "source": [
    "rows = len(engine_schematic)  # number of rows\n",
    "cols = len(engine_schematic[0])  # number of cols\n",
    "\n",
    "# Finding numbers adjacent to symbols\n",
    "adjacent_numbers = find_adjacent_numbers_to_symbols(\n",
    "    number_positions_dict, symbol_positions_list, rows, cols\n",
    ")\n",
    "\n",
    "# Answer\n",
    "print(\"Answer #1:\", sum(map(int, adjacent_numbers)))"
   ]
  },
  {
   "cell_type": "markdown",
   "metadata": {},
   "source": [
    "### Part Two\n",
    "\n",
    "The engineer finds the missing part and installs it in the engine! As the engine springs to life, you jump in the closest gondola, finally ready to ascend to the water source.\n",
    "\n",
    "You don't seem to be going very fast, though. Maybe something is still wrong? Fortunately, the gondola has a phone labeled \"help\", so you pick it up and the engineer answers.\n",
    "\n",
    "Before you can explain the situation, she suggests that you look out the window. There stands the engineer, holding a phone in one hand and waving with the other. You're going so slowly that you haven't even left the station. You exit the gondola.\n",
    "\n",
    "The missing part wasn't the only issue - one of the gears in the engine is wrong. A _gear_ is any `*` symbol that is adjacent to _exactly two part numbers_. Its _gear ratio_ is the result of <span title=\"They're magic gears.\">multiplying</span> those two numbers together.\n",
    "\n",
    "This time, you need to find the gear ratio of every gear and add them all up so that the engineer can figure out which gear needs to be replaced.\n",
    "\n",
    "Consider the same engine schematic again:\n",
    "\n",
    "    467..114..\n",
    "    ...*......\n",
    "    ..35..633.\n",
    "    ......#...\n",
    "    617*......\n",
    "    .....+.58.\n",
    "    ..592.....\n",
    "    ......755.\n",
    "    ...$.*....\n",
    "    .664.598..\n",
    "    \n",
    "\n",
    "In this schematic, there are _two_ gears. The first is in the top left; it has part numbers `467` and `35`, so its gear ratio is `16345`. The second gear is in the lower right; its gear ratio is `451490`. (The `*` adjacent to `617` is _not_ a gear because it is only adjacent to one part number.) Adding up all of the gear ratios produces _`467835`_.\n",
    "\n",
    "_What is the sum of all of the gear ratios in your engine schematic?_\n"
   ]
  },
  {
   "cell_type": "markdown",
   "metadata": {},
   "source": [
    "#### Solution"
   ]
  },
  {
   "cell_type": "code",
   "execution_count": 340,
   "metadata": {},
   "outputs": [],
   "source": [
    "import string\n",
    "\n",
    "# Get all punctuation symbols and remove '.'\n",
    "symbols_without_dot = string.punctuation.replace(\".\", \"\")\n",
    "\n",
    "def parse_schematic(schematic: list):\n",
    "    number_positions = {}\n",
    "    symbol_positions = {}\n",
    "\n",
    "    for row, line in enumerate(schematic):\n",
    "        col = 0\n",
    "        while col < len(line):\n",
    "            char = line[col]\n",
    "            if char.isdigit():\n",
    "                # Start of a number\n",
    "                start = col\n",
    "                while col < len(line) and line[col].isdigit():\n",
    "                    col += 1\n",
    "                end = col - 1\n",
    "                number = line[start:col]\n",
    "                # Check if the number is already in the dict and append the position if it is\n",
    "                number_positions[number] = number_positions.get(number, []) + [\n",
    "                    (row, start, end)\n",
    "                ]\n",
    "            elif char in symbols_without_dot:\n",
    "                # Position of a symbol\n",
    "                symbol_positions[char] = symbol_positions.get(char, []) + [(row, col)]\n",
    "                col += 1\n",
    "            else:\n",
    "                # Skip '.'\n",
    "                col += 1\n",
    "\n",
    "    return number_positions, symbol_positions"
   ]
  },
  {
   "cell_type": "code",
   "execution_count": 341,
   "metadata": {},
   "outputs": [],
   "source": [
    "# Parsing the schematic\n",
    "number_positions_dict, symbol_positions_dict = parse_schematic(engine_schematic)"
   ]
  },
  {
   "cell_type": "code",
   "execution_count": 342,
   "metadata": {},
   "outputs": [],
   "source": [
    "def find_gears(number_positions, symbol_positions):\n",
    "    valid_numbers = []\n",
    "    # Function to check if if two numbers are adjacent to a '*'\n",
    "    def is_adjacent(number_pos, symbol_pos):\n",
    "        num_row, num_start_col, num_end_col = number_pos\n",
    "        sym_row, sym_col = symbol_pos\n",
    "\n",
    "        # Check if symbol is in a row adjacent (or same) to the number\n",
    "        if sym_row in range(max(0, num_row - 1), min(rows, num_row + 2)):\n",
    "            # Check if symbol is in a column adjacent (or same) to the number\n",
    "            if sym_col in range(max(0, num_start_col - 1), min(cols, num_end_col + 2)):\n",
    "                return True\n",
    "        return False\n",
    "\n",
    "    # Check each number against each symbol position\n",
    "    for sym_pos in symbol_positions:\n",
    "        adjacent_numbers = []\n",
    "        for number, num_pos_list in number_positions.items():                \n",
    "            for num_pos in num_pos_list:\n",
    "                if is_adjacent(num_pos, sym_pos):\n",
    "                    adjacent_numbers.append(int(number))\n",
    "        if len(adjacent_numbers) == 2:\n",
    "            valid_numbers.append(adjacent_numbers[0] * adjacent_numbers[1])\n",
    "\n",
    "    return valid_numbers"
   ]
  },
  {
   "cell_type": "code",
   "execution_count": 343,
   "metadata": {},
   "outputs": [
    {
     "name": "stdout",
     "output_type": "stream",
     "text": [
      "Answer #2: 72553319\n"
     ]
    }
   ],
   "source": [
    "# Find which symbol\n",
    "symbol_positions_list = symbol_positions_dict[\"*\"]\n",
    "\n",
    "print(\"Answer #2:\",sum(find_gears(number_positions_dict, symbol_positions_list)))"
   ]
  }
 ],
 "metadata": {
  "kernelspec": {
   "display_name": "env",
   "language": "python",
   "name": "python3"
  },
  "language_info": {
   "codemirror_mode": {
    "name": "ipython",
    "version": 3
   },
   "file_extension": ".py",
   "mimetype": "text/x-python",
   "name": "python",
   "nbconvert_exporter": "python",
   "pygments_lexer": "ipython3",
   "version": "3.9.17"
  }
 },
 "nbformat": 4,
 "nbformat_minor": 2
}
