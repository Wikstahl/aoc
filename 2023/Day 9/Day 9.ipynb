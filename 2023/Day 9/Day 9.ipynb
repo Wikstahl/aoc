{
 "cells": [
  {
   "cell_type": "markdown",
   "metadata": {},
   "source": [
    "# Day 9: Mirage Maintenance\n",
    "\n",
    "[https://adventofcode.com/2023/day/9](https://adventofcode.com/2023/day/9)\n",
    "\n",
    "## Description\n",
    "\n",
    "### Part One\n",
    "\n",
    "You ride the camel through the sandstorm and stop where the ghost's maps told you to stop. <span title=\"The sound of a sandstorm slowly settling.\">The sandstorm subsequently subsides, somehow seeing you standing at an <em>oasis</em>!</span>\n",
    "\n",
    "The camel goes to get some water and you stretch your neck. As you look up, you discover what must be yet another giant floating island, this one made of metal! That must be where the _parts to fix the sand machines_ come from.\n",
    "\n",
    "There's even a [hang glider](https://en.wikipedia.org/wiki/Hang_gliding) partially buried in the sand here; once the sun rises and heats up the sand, you might be able to use the glider and the hot air to get all the way up to the metal island!\n",
    "\n",
    "While you wait for the sun to rise, you admire the oasis hidden here in the middle of Desert Island. It must have a delicate ecosystem; you might as well take some ecological readings while you wait. Maybe you can report any environmental instabilities you find to someone so the oasis can be around for the next sandstorm-worn traveler.\n",
    "\n",
    "You pull out your handy _Oasis And Sand Instability Sensor_ and analyze your surroundings. The OASIS produces a report of many values and how they are changing over time (your puzzle input). Each line in the report contains the _history_ of a single value. For example:\n",
    "\n",
    "    0 3 6 9 12 15\n",
    "    1 3 6 10 15 21\n",
    "    10 13 16 21 30 45\n",
    "    \n",
    "\n",
    "To best protect the oasis, your environmental report should include a _prediction of the next value_ in each history. To do this, start by making a new sequence from the _difference at each step_ of your history. If that sequence is _not_ all zeroes, repeat this process, using the sequence you just generated as the input sequence. Once all of the values in your latest sequence are zeroes, you can extrapolate what the next value of the original history should be.\n",
    "\n",
    "In the above dataset, the first history is `0 3 6 9 12 15`. Because the values increase by `3` each step, the first sequence of differences that you generate will be `3 3 3 3 3`. Note that this sequence has one fewer value than the input sequence because at each step it considers two numbers from the input. Since these values aren't _all zero_, repeat the process: the values differ by `0` at each step, so the next sequence is `0 0 0 0`. This means you have enough information to extrapolate the history! Visually, these sequences can be arranged like this:\n",
    "\n",
    "    0   3   6   9  12  15\n",
    "      3   3   3   3   3\n",
    "        0   0   0   0"
   ]
  },
  {
   "cell_type": "markdown",
   "metadata": {},
   "source": [
    "#### Solution"
   ]
  },
  {
   "cell_type": "code",
   "execution_count": 23,
   "metadata": {},
   "outputs": [],
   "source": [
    "# load report\n",
    "report = open(\"data.txt\").read().splitlines()"
   ]
  },
  {
   "cell_type": "code",
   "execution_count": 24,
   "metadata": {},
   "outputs": [
    {
     "name": "stdout",
     "output_type": "stream",
     "text": [
      "Answer #1: 1789635132\n"
     ]
    }
   ],
   "source": [
    "def extrapolate_next_value(history):\n",
    "    sequences = [history]\n",
    "    # Generate sequences of differences\n",
    "    while not all(d == 0 for d in sequences[-1]):\n",
    "        new_sequence = [sequences[-1][i+1] - sequences[-1][i] for i in range(len(sequences[-1]) - 1)]\n",
    "        sequences.append(new_sequence)\n",
    "\n",
    "    # Work back up to find the next value\n",
    "    for i in range(len(sequences) - 2, -1, -1):\n",
    "        sequences[i].append(sequences[i][-1] + sequences[i+1][-1])\n",
    "\n",
    "    return sequences[0][-1]\n",
    "\n",
    "def process_report(report):\n",
    "    total = 0\n",
    "    for line in report:\n",
    "        history = list(map(int, line.split()))\n",
    "        total += extrapolate_next_value(history)\n",
    "    return total\n",
    "\n",
    "sum_extrapolated_values = process_report(report)\n",
    "print(\"Answer #1:\", sum_extrapolated_values)"
   ]
  },
  {
   "cell_type": "markdown",
   "metadata": {},
   "source": [
    "### Part Two\n",
    "\n",
    "Of course, it would be nice to have _even more history_ included in your report. Surely it's safe to just _extrapolate backwards_ as well, right?\n",
    "\n",
    "For each history, repeat the process of finding differences until the sequence of differences is entirely zero. Then, rather than adding a zero to the end and filling in the next values of each previous sequence, you should instead add a zero to the _beginning_ of your sequence of zeroes, then fill in new _first_ values for each previous sequence.\n",
    "\n",
    "In particular, here is what the third example history looks like when extrapolating back in time:\n",
    "\n",
    "    5  10  13  16  21  30  45\n",
    "      5   3   3   5   9  15\n",
    "       -2   0   2   4   6\n",
    "          2   2   2   2\n",
    "            0   0   0\n",
    "    \n",
    "\n",
    "Adding the new values on the left side of each sequence from bottom to top eventually reveals the new left-most history value: _`5`_.\n",
    "\n",
    "Doing this for the remaining example data above results in previous values of _`-3`_ for the first history and _`0`_ for the second history. Adding all three new values together produces _`2`_.\n",
    "\n",
    "Analyze your OASIS report again, this time extrapolating the _previous_ value for each history. _What is the sum of these extrapolated values?_"
   ]
  },
  {
   "cell_type": "markdown",
   "metadata": {},
   "source": [
    "#### Solution"
   ]
  },
  {
   "cell_type": "code",
   "execution_count": 25,
   "metadata": {},
   "outputs": [
    {
     "name": "stdout",
     "output_type": "stream",
     "text": [
      "Answwer #2: 913\n"
     ]
    }
   ],
   "source": [
    "def extrapolate_previous_value(history):\n",
    "    sequences = [history]\n",
    "\n",
    "    # Generate sequences of differences\n",
    "    while not all(d == 0 for d in sequences[-1]):\n",
    "        new_sequence = [\n",
    "            sequences[-1][i + 1] - sequences[-1][i]\n",
    "            for i in range(len(sequences[-1]) - 1)\n",
    "        ]\n",
    "        sequences.append(new_sequence)\n",
    "\n",
    "    # Work back up to find the previous value\n",
    "    for i in range(len(sequences) - 2, -1, -1):\n",
    "        sequences[i].insert(0, sequences[i][0] - sequences[i + 1][0])\n",
    "\n",
    "    return sequences[0][0]\n",
    "\n",
    "\n",
    "def process_report(report):\n",
    "    total = 0\n",
    "    for line in report:\n",
    "        history = list(map(int, line.split()))\n",
    "        total += extrapolate_previous_value(history)\n",
    "    return total\n",
    "\n",
    "\n",
    "sum_extrapolated_values = process_report(report)\n",
    "print(\"Answwer #2:\", sum_extrapolated_values)"
   ]
  }
 ],
 "metadata": {
  "kernelspec": {
   "display_name": "env",
   "language": "python",
   "name": "python3"
  },
  "language_info": {
   "codemirror_mode": {
    "name": "ipython",
    "version": 3
   },
   "file_extension": ".py",
   "mimetype": "text/x-python",
   "name": "python",
   "nbconvert_exporter": "python",
   "pygments_lexer": "ipython3",
   "version": "3.9.17"
  }
 },
 "nbformat": 4,
 "nbformat_minor": 2
}
