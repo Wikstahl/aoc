{
 "cells": [
  {
   "cell_type": "markdown",
   "metadata": {},
   "source": [
    "# Day 4: Scratchcards\n",
    "\n",
    "[https://adventofcode.com/2023/day/4](https://adventofcode.com/2023/day/4)\n",
    "\n",
    "## Description\n",
    "\n",
    "### Part One\n",
    "\n",
    "The gondola takes you up. Strangely, though, the ground doesn't seem to be coming with you; you're not climbing a mountain. As the circle of Snow Island recedes below you, an entire new landmass suddenly appears above you! The gondola carries you to the surface of the new island and lurches into the station.\n",
    "\n",
    "As you exit the gondola, the first thing you notice is that the air here is much _warmer_ than it was on Snow Island. It's also quite _humid_. Is this where the water source is?\n",
    "\n",
    "The next thing you notice is an Elf sitting on the floor across the station in what seems to be a pile of colorful square cards.\n",
    "\n",
    "\"Oh! Hello!\" The Elf excitedly runs over to you. \"How may I be of service?\" You ask about water sources.\n",
    "\n",
    "\"I'm not sure; I just operate the gondola lift. That does sound like something we'd have, though - this is _<span title=\"I find this way funnier than it has any right to be.\">Island Island</span>_, after all! I bet the _gardener_ would know. He's on a different island, though - er, the small kind surrounded by water, not the floating kind. We really need to come up with a better naming scheme. Tell you what: if you can help me with something quick, I'll let you _borrow my boat_ and you can go visit the gardener. I got all these [scratchcards](https://en.wikipedia.org/wiki/Scratchcard) as a gift, but I can't figure out what I've won.\"\n",
    "\n",
    "The Elf leads you over to the pile of colorful cards. There, you discover dozens of scratchcards, all with their opaque covering already scratched off. Picking one up, it looks like each card has two lists of numbers separated by a vertical bar (`|`): a list of _winning numbers_ and then a list of _numbers you have_. You organize the information into a table (your puzzle input).\n",
    "\n",
    "As far as the Elf has been able to figure out, you have to figure out which of the _numbers you have_ appear in the list of _winning numbers_. The first match makes the card worth _one point_ and each match after the first _doubles_ the point value of that card.\n",
    "\n",
    "For example:\n",
    "\n",
    "    Card 1: 41 48 83 86 17 | 83 86  6 31 17  9 48 53\n",
    "    Card 2: 13 32 20 16 61 | 61 30 68 82 17 32 24 19\n",
    "    Card 3:  1 21 53 59 44 | 69 82 63 72 16 21 14  1\n",
    "    Card 4: 41 92 73 84 69 | 59 84 76 51 58  5 54 83\n",
    "    Card 5: 87 83 26 28 32 | 88 30 70 12 93 22 82 36\n",
    "    Card 6: 31 18 13 56 72 | 74 77 10 23 35 67 36 11\n",
    "    \n",
    "\n",
    "In the above example, card 1 has five winning numbers (`41`, `48`, `83`, `86`, and `17`) and eight numbers you have (`83`, `86`, `6`, `31`, `17`, `9`, `48`, and `53`). Of the numbers you have, four of them (`48`, `83`, `17`, and `86`) are winning numbers! That means card 1 is worth _`8`_ points (1 for the first match, then doubled three times for each of the three matches after the first).\n",
    "\n",
    "*   Card 2 has two winning numbers (`32` and `61`), so it is worth _`2`_ points.\n",
    "*   Card 3 has two winning numbers (`1` and `21`), so it is worth _`2`_ points.\n",
    "*   Card 4 has one winning number (`84`), so it is worth _`1`_ point.\n",
    "*   Card 5 has no winning numbers, so it is worth no points.\n",
    "*   Card 6 has no winning numbers, so it is worth no points.\n",
    "\n",
    "So, in this example, the Elf's pile of scratchcards is worth _`13`_ points.\n",
    "\n",
    "Take a seat in the large pile of colorful cards. _How many points are they worth in total?_\n"
   ]
  },
  {
   "cell_type": "markdown",
   "metadata": {},
   "source": [
    "#### Solution"
   ]
  },
  {
   "cell_type": "code",
   "execution_count": 102,
   "metadata": {},
   "outputs": [],
   "source": [
    "game_table = open(\"data.txt\").read().split('\\n')"
   ]
  },
  {
   "cell_type": "code",
   "execution_count": 103,
   "metadata": {},
   "outputs": [],
   "source": [
    "# Splitting the text by lines and processing each line\n",
    "cards_dict = {}\n",
    "for line in game_table:\n",
    "    # Splitting the line into card number and numbers\n",
    "    card, numbers = line.split(\": \")\n",
    "    # Getting the card number\n",
    "    card_number = card.split(\" \")[-1]\n",
    "    # Splitting the numbers into two lists using '|'\n",
    "    first_list, second_list = numbers.split(\" | \")\n",
    "    # Converting each list from string to list of integers\n",
    "    first_list = list(map(int, first_list.split()))\n",
    "    second_list = list(map(int, second_list.split()))\n",
    "\n",
    "    # Adding the two lists to the dictionary with the card number as key\n",
    "    cards_dict[card_number] = [first_list, second_list]"
   ]
  },
  {
   "cell_type": "code",
   "execution_count": 104,
   "metadata": {},
   "outputs": [
    {
     "name": "stdout",
     "output_type": "stream",
     "text": [
      "Answer #1: 17803\n"
     ]
    }
   ],
   "source": [
    "# Function to find matches between the first and second list for a given key\n",
    "def find_matches(card_dict, key):\n",
    "    first_list, second_list = card_dict[key]\n",
    "    # Finding the intersection of the two lists\n",
    "    matches = set(first_list).intersection(second_list)\n",
    "    return len(matches), matches\n",
    "\n",
    "points = 0\n",
    "for card_id in cards_dict.keys():\n",
    "    num_matches, matches = find_matches(cards_dict, card_id)\n",
    "    if num_matches != 0:\n",
    "        points += 2 ** (num_matches - 1)\n",
    "\n",
    "print(\"Answer #1:\", int(points))"
   ]
  },
  {
   "cell_type": "markdown",
   "metadata": {},
   "source": [
    "### Part Two\n",
    "\n",
    "Just as you're about to report your findings to the Elf, one of you realizes that the rules have actually been printed on the back of every card this whole time.\n",
    "\n",
    "There's no such thing as \"points\". Instead, scratchcards only cause you to _win more scratchcards_ equal to the number of winning numbers you have.\n",
    "\n",
    "Specifically, you win _copies_ of the scratchcards below the winning card equal to the number of matches. So, if card 10 were to have 5 matching numbers, you would win one copy each of cards 11, 12, 13, 14, and 15.\n",
    "\n",
    "Copies of scratchcards are scored like normal scratchcards and have the _same card number_ as the card they copied. So, if you win a copy of card 10 and it has 5 matching numbers, it would then win a copy of the same cards that the original card 10 won: cards 11, 12, 13, 14, and 15. This process repeats until none of the copies cause you to win any more cards. (Cards will never make you copy a card past the end of the table.)\n",
    "\n",
    "This time, the above example goes differently:\n",
    "\n",
    "    Card 1: 41 48 83 86 17 | 83 86  6 31 17  9 48 53\n",
    "    Card 2: 13 32 20 16 61 | 61 30 68 82 17 32 24 19\n",
    "    Card 3:  1 21 53 59 44 | 69 82 63 72 16 21 14  1\n",
    "    Card 4: 41 92 73 84 69 | 59 84 76 51 58  5 54 83\n",
    "    Card 5: 87 83 26 28 32 | 88 30 70 12 93 22 82 36\n",
    "    Card 6: 31 18 13 56 72 | 74 77 10 23 35 67 36 11\n",
    "    \n",
    "\n",
    "*   Card 1 has four matching numbers, so you win one copy each of the next four cards: cards 2, 3, 4, and 5.\n",
    "*   Your original card 2 has two matching numbers, so you win one copy each of cards 3 and 4.\n",
    "*   Your copy of card 2 also wins one copy each of cards 3 and 4.\n",
    "*   Your four instances of card 3 (one original and three copies) have two matching numbers, so you win _four_ copies each of cards 4 and 5.\n",
    "*   Your eight instances of card 4 (one original and seven copies) have one matching number, so you win _eight_ copies of card 5.\n",
    "*   Your fourteen instances of card 5 (one original and thirteen copies) have no matching numbers and win no more cards.\n",
    "*   Your one instance of card 6 (one original) has no matching numbers and wins no more cards.\n",
    "\n",
    "Once all of the originals and copies have been processed, you end up with _`1`_ instance of card 1, _`2`_ instances of card 2, _`4`_ instances of card 3, _`8`_ instances of card 4, _`14`_ instances of card 5, and _`1`_ instance of card 6. In total, this example pile of scratchcards causes you to ultimately have _`30`_ scratchcards!\n",
    "\n",
    "Process all of the original and copied scratchcards until no more scratchcards are won. Including the original set of scratchcards, _how many total scratchcards do you end up with?_\n"
   ]
  },
  {
   "cell_type": "code",
   "execution_count": 105,
   "metadata": {},
   "outputs": [
    {
     "name": "stdout",
     "output_type": "stream",
     "text": [
      "Answer #2: 5554894\n"
     ]
    }
   ],
   "source": [
    "card_copies = {str(i): 1 for i in range(1, len(cards_dict) + 1)}\n",
    "\n",
    "for card_id in cards_dict.keys():\n",
    "    num_matches, matches = find_matches(cards_dict, card_id)\n",
    "    if num_matches != 0:\n",
    "        for i in range(int(card_id) + 1, int(card_id) + num_matches + 1):\n",
    "            card_copies[str(i)] += 1 * card_copies[card_id]\n",
    "\n",
    "print(\"Answer #2:\",sum(card_copies.values()))"
   ]
  }
 ],
 "metadata": {
  "kernelspec": {
   "display_name": "env",
   "language": "python",
   "name": "python3"
  },
  "language_info": {
   "codemirror_mode": {
    "name": "ipython",
    "version": 3
   },
   "file_extension": ".py",
   "mimetype": "text/x-python",
   "name": "python",
   "nbconvert_exporter": "python",
   "pygments_lexer": "ipython3",
   "version": "3.9.17"
  }
 },
 "nbformat": 4,
 "nbformat_minor": 2
}
